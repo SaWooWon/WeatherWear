{
 "cells": [
  {
   "cell_type": "markdown",
   "id": "827c287b",
   "metadata": {},
   "source": [
    "# k- means 모델링"
   ]
  },
  {
   "cell_type": "code",
   "execution_count": 1,
   "id": "3975f510",
   "metadata": {
    "ExecuteTime": {
     "end_time": "2023-06-08T08:46:14.872475Z",
     "start_time": "2023-06-08T08:46:13.688690Z"
    }
   },
   "outputs": [],
   "source": [
    "from sklearn.preprocessing import StandardScaler\n",
    "from sklearn.cluster import KMeans\n",
    "\n",
    "import numpy as np \n",
    "import pandas as pd\n",
    "import matplotlib.pyplot as plt\n",
    "import seaborn as sns\n",
    "%matplotlib inline\n",
    "\n",
    "import os\n",
    "import warnings\n",
    "\n",
    "warnings.filterwarnings('ignore')\n",
    "\n",
    "from datetime import datetime"
   ]
  },
  {
   "cell_type": "code",
   "execution_count": 2,
   "id": "1bf36e17",
   "metadata": {
    "ExecuteTime": {
     "end_time": "2023-06-08T08:46:15.548995Z",
     "start_time": "2023-06-08T08:46:15.480818Z"
    }
   },
   "outputs": [
    {
     "data": {
      "text/plain": [
       "(69213, 7)"
      ]
     },
     "execution_count": 2,
     "metadata": {},
     "output_type": "execute_result"
    }
   ],
   "source": [
    "X_=pd.read_csv('./pro_weather.csv')\n",
    "\n",
    "X_.shape"
   ]
  },
  {
   "cell_type": "code",
   "execution_count": 3,
   "id": "5ee10701",
   "metadata": {
    "ExecuteTime": {
     "end_time": "2023-06-08T08:46:16.135751Z",
     "start_time": "2023-06-08T08:46:16.116698Z"
    }
   },
   "outputs": [
    {
     "data": {
      "text/html": [
       "<div>\n",
       "<style scoped>\n",
       "    .dataframe tbody tr th:only-of-type {\n",
       "        vertical-align: middle;\n",
       "    }\n",
       "\n",
       "    .dataframe tbody tr th {\n",
       "        vertical-align: top;\n",
       "    }\n",
       "\n",
       "    .dataframe thead th {\n",
       "        text-align: right;\n",
       "    }\n",
       "</style>\n",
       "<table border=\"1\" class=\"dataframe\">\n",
       "  <thead>\n",
       "    <tr style=\"text-align: right;\">\n",
       "      <th></th>\n",
       "      <th>area</th>\n",
       "      <th>row_tmp</th>\n",
       "      <th>top_tmp</th>\n",
       "      <th>av_wsd</th>\n",
       "      <th>ap_tmp</th>\n",
       "      <th>sin</th>\n",
       "      <th>dif</th>\n",
       "    </tr>\n",
       "  </thead>\n",
       "  <tbody>\n",
       "    <tr>\n",
       "      <th>0</th>\n",
       "      <td>속초</td>\n",
       "      <td>15.8</td>\n",
       "      <td>24.8</td>\n",
       "      <td>1.9</td>\n",
       "      <td>22.692741</td>\n",
       "      <td>0.623490</td>\n",
       "      <td>-9.0</td>\n",
       "    </tr>\n",
       "    <tr>\n",
       "      <th>1</th>\n",
       "      <td>속초</td>\n",
       "      <td>11.8</td>\n",
       "      <td>20.3</td>\n",
       "      <td>2.8</td>\n",
       "      <td>16.811214</td>\n",
       "      <td>0.609902</td>\n",
       "      <td>-8.5</td>\n",
       "    </tr>\n",
       "    <tr>\n",
       "      <th>2</th>\n",
       "      <td>속초</td>\n",
       "      <td>13.7</td>\n",
       "      <td>26.2</td>\n",
       "      <td>2.1</td>\n",
       "      <td>22.103602</td>\n",
       "      <td>0.596132</td>\n",
       "      <td>-12.5</td>\n",
       "    </tr>\n",
       "    <tr>\n",
       "      <th>3</th>\n",
       "      <td>속초</td>\n",
       "      <td>13.0</td>\n",
       "      <td>22.4</td>\n",
       "      <td>1.4</td>\n",
       "      <td>17.760007</td>\n",
       "      <td>0.582185</td>\n",
       "      <td>-9.4</td>\n",
       "    </tr>\n",
       "    <tr>\n",
       "      <th>4</th>\n",
       "      <td>속초</td>\n",
       "      <td>13.0</td>\n",
       "      <td>21.1</td>\n",
       "      <td>2.5</td>\n",
       "      <td>16.812161</td>\n",
       "      <td>0.568065</td>\n",
       "      <td>-8.1</td>\n",
       "    </tr>\n",
       "    <tr>\n",
       "      <th>...</th>\n",
       "      <td>...</td>\n",
       "      <td>...</td>\n",
       "      <td>...</td>\n",
       "      <td>...</td>\n",
       "      <td>...</td>\n",
       "      <td>...</td>\n",
       "      <td>...</td>\n",
       "    </tr>\n",
       "    <tr>\n",
       "      <th>69208</th>\n",
       "      <td>남해</td>\n",
       "      <td>15.7</td>\n",
       "      <td>21.9</td>\n",
       "      <td>1.9</td>\n",
       "      <td>20.252709</td>\n",
       "      <td>0.688563</td>\n",
       "      <td>-6.2</td>\n",
       "    </tr>\n",
       "    <tr>\n",
       "      <th>69209</th>\n",
       "      <td>남해</td>\n",
       "      <td>14.6</td>\n",
       "      <td>24.1</td>\n",
       "      <td>1.1</td>\n",
       "      <td>20.725819</td>\n",
       "      <td>0.675944</td>\n",
       "      <td>-9.5</td>\n",
       "    </tr>\n",
       "    <tr>\n",
       "      <th>69210</th>\n",
       "      <td>남해</td>\n",
       "      <td>14.9</td>\n",
       "      <td>26.7</td>\n",
       "      <td>1.3</td>\n",
       "      <td>22.894020</td>\n",
       "      <td>0.663123</td>\n",
       "      <td>-11.8</td>\n",
       "    </tr>\n",
       "    <tr>\n",
       "      <th>69211</th>\n",
       "      <td>남해</td>\n",
       "      <td>14.5</td>\n",
       "      <td>20.8</td>\n",
       "      <td>1.0</td>\n",
       "      <td>19.565000</td>\n",
       "      <td>0.650104</td>\n",
       "      <td>-6.3</td>\n",
       "    </tr>\n",
       "    <tr>\n",
       "      <th>69212</th>\n",
       "      <td>남해</td>\n",
       "      <td>12.7</td>\n",
       "      <td>23.9</td>\n",
       "      <td>1.3</td>\n",
       "      <td>18.340026</td>\n",
       "      <td>0.636892</td>\n",
       "      <td>-11.2</td>\n",
       "    </tr>\n",
       "  </tbody>\n",
       "</table>\n",
       "<p>69213 rows × 7 columns</p>\n",
       "</div>"
      ],
      "text/plain": [
       "      area  row_tmp  top_tmp  av_wsd     ap_tmp       sin   dif\n",
       "0       속초     15.8     24.8     1.9  22.692741  0.623490  -9.0\n",
       "1       속초     11.8     20.3     2.8  16.811214  0.609902  -8.5\n",
       "2       속초     13.7     26.2     2.1  22.103602  0.596132 -12.5\n",
       "3       속초     13.0     22.4     1.4  17.760007  0.582185  -9.4\n",
       "4       속초     13.0     21.1     2.5  16.812161  0.568065  -8.1\n",
       "...    ...      ...      ...     ...        ...       ...   ...\n",
       "69208   남해     15.7     21.9     1.9  20.252709  0.688563  -6.2\n",
       "69209   남해     14.6     24.1     1.1  20.725819  0.675944  -9.5\n",
       "69210   남해     14.9     26.7     1.3  22.894020  0.663123 -11.8\n",
       "69211   남해     14.5     20.8     1.0  19.565000  0.650104  -6.3\n",
       "69212   남해     12.7     23.9     1.3  18.340026  0.636892 -11.2\n",
       "\n",
       "[69213 rows x 7 columns]"
      ]
     },
     "execution_count": 3,
     "metadata": {},
     "output_type": "execute_result"
    }
   ],
   "source": [
    "X_['label']"
   ]
  },
  {
   "cell_type": "code",
   "execution_count": 4,
   "id": "5c5fab90",
   "metadata": {
    "ExecuteTime": {
     "end_time": "2023-06-08T08:46:17.246713Z",
     "start_time": "2023-06-08T08:46:17.233412Z"
    }
   },
   "outputs": [],
   "source": [
    "X=X_.drop(['area', 'top_tmp', 'row_tmp', 'av_wsd'], axis=1)"
   ]
  },
  {
   "cell_type": "code",
   "execution_count": 5,
   "id": "94bcc2e2",
   "metadata": {
    "ExecuteTime": {
     "end_time": "2023-06-08T08:46:17.893698Z",
     "start_time": "2023-06-08T08:46:17.877382Z"
    }
   },
   "outputs": [
    {
     "data": {
      "text/plain": [
       "Index(['ap_tmp', 'sin', 'dif'], dtype='object')"
      ]
     },
     "execution_count": 5,
     "metadata": {},
     "output_type": "execute_result"
    }
   ],
   "source": [
    "X.columns"
   ]
  },
  {
   "cell_type": "code",
   "execution_count": 6,
   "id": "28a50db3",
   "metadata": {
    "ExecuteTime": {
     "end_time": "2023-06-08T08:46:18.521786Z",
     "start_time": "2023-06-08T08:46:18.503956Z"
    }
   },
   "outputs": [
    {
     "data": {
      "text/html": [
       "<div>\n",
       "<style scoped>\n",
       "    .dataframe tbody tr th:only-of-type {\n",
       "        vertical-align: middle;\n",
       "    }\n",
       "\n",
       "    .dataframe tbody tr th {\n",
       "        vertical-align: top;\n",
       "    }\n",
       "\n",
       "    .dataframe thead th {\n",
       "        text-align: right;\n",
       "    }\n",
       "</style>\n",
       "<table border=\"1\" class=\"dataframe\">\n",
       "  <thead>\n",
       "    <tr style=\"text-align: right;\">\n",
       "      <th></th>\n",
       "      <th>ap_tmp</th>\n",
       "      <th>sin</th>\n",
       "      <th>dif</th>\n",
       "    </tr>\n",
       "  </thead>\n",
       "  <tbody>\n",
       "    <tr>\n",
       "      <th>0</th>\n",
       "      <td>22.692741</td>\n",
       "      <td>0.623490</td>\n",
       "      <td>-9.0</td>\n",
       "    </tr>\n",
       "    <tr>\n",
       "      <th>1</th>\n",
       "      <td>16.811214</td>\n",
       "      <td>0.609902</td>\n",
       "      <td>-8.5</td>\n",
       "    </tr>\n",
       "    <tr>\n",
       "      <th>2</th>\n",
       "      <td>22.103602</td>\n",
       "      <td>0.596132</td>\n",
       "      <td>-12.5</td>\n",
       "    </tr>\n",
       "    <tr>\n",
       "      <th>3</th>\n",
       "      <td>17.760007</td>\n",
       "      <td>0.582185</td>\n",
       "      <td>-9.4</td>\n",
       "    </tr>\n",
       "    <tr>\n",
       "      <th>4</th>\n",
       "      <td>16.812161</td>\n",
       "      <td>0.568065</td>\n",
       "      <td>-8.1</td>\n",
       "    </tr>\n",
       "    <tr>\n",
       "      <th>...</th>\n",
       "      <td>...</td>\n",
       "      <td>...</td>\n",
       "      <td>...</td>\n",
       "    </tr>\n",
       "    <tr>\n",
       "      <th>69208</th>\n",
       "      <td>20.252709</td>\n",
       "      <td>0.688563</td>\n",
       "      <td>-6.2</td>\n",
       "    </tr>\n",
       "    <tr>\n",
       "      <th>69209</th>\n",
       "      <td>20.725819</td>\n",
       "      <td>0.675944</td>\n",
       "      <td>-9.5</td>\n",
       "    </tr>\n",
       "    <tr>\n",
       "      <th>69210</th>\n",
       "      <td>22.894020</td>\n",
       "      <td>0.663123</td>\n",
       "      <td>-11.8</td>\n",
       "    </tr>\n",
       "    <tr>\n",
       "      <th>69211</th>\n",
       "      <td>19.565000</td>\n",
       "      <td>0.650104</td>\n",
       "      <td>-6.3</td>\n",
       "    </tr>\n",
       "    <tr>\n",
       "      <th>69212</th>\n",
       "      <td>18.340026</td>\n",
       "      <td>0.636892</td>\n",
       "      <td>-11.2</td>\n",
       "    </tr>\n",
       "  </tbody>\n",
       "</table>\n",
       "<p>69213 rows × 3 columns</p>\n",
       "</div>"
      ],
      "text/plain": [
       "          ap_tmp       sin   dif\n",
       "0      22.692741  0.623490  -9.0\n",
       "1      16.811214  0.609902  -8.5\n",
       "2      22.103602  0.596132 -12.5\n",
       "3      17.760007  0.582185  -9.4\n",
       "4      16.812161  0.568065  -8.1\n",
       "...          ...       ...   ...\n",
       "69208  20.252709  0.688563  -6.2\n",
       "69209  20.725819  0.675944  -9.5\n",
       "69210  22.894020  0.663123 -11.8\n",
       "69211  19.565000  0.650104  -6.3\n",
       "69212  18.340026  0.636892 -11.2\n",
       "\n",
       "[69213 rows x 3 columns]"
      ]
     },
     "execution_count": 6,
     "metadata": {},
     "output_type": "execute_result"
    }
   ],
   "source": [
    "X"
   ]
  },
  {
   "cell_type": "code",
   "execution_count": 8,
   "id": "7dcec56b",
   "metadata": {
    "ExecuteTime": {
     "end_time": "2023-06-08T08:46:20.529959Z",
     "start_time": "2023-06-08T08:46:19.774460Z"
    }
   },
   "outputs": [
    {
     "name": "stdout",
     "output_type": "stream",
     "text": [
      "Labels: [ 0  2  0 ...  0 10 10]\n",
      "Centroids: [[ 6.12848793e-01  7.07297048e-02 -3.00442963e-02]\n",
      " [-8.40972506e-01  3.84998972e-02 -1.39747718e-02]\n",
      " [ 1.50929801e-02  1.28370885e-01 -6.23584503e-02]\n",
      " [-1.84530260e+00  2.03172748e-02  1.05503565e-02]\n",
      " [ 9.32736688e-01 -5.30154577e-02  5.62906907e-02]\n",
      " [ 1.16780305e+00 -5.44229113e-02  4.58093829e-02]\n",
      " [-2.87225314e-01  1.30481997e-01 -3.42777344e-02]\n",
      " [ 2.97107687e-02 -1.20705908e-01 -6.33782816e-03]\n",
      " [ 4.23064957e-01 -1.31361035e-01  2.36186477e-02]\n",
      " [-5.78294097e-01  3.67032772e-02 -2.99157745e-02]\n",
      " [ 3.17372160e-01  1.04152614e-01 -1.59518898e-02]\n",
      " [ 7.11572902e-01 -1.03178395e-01  6.27314049e-02]\n",
      " [-1.10507323e+00  3.45176480e-02 -5.06624106e-03]\n",
      " [-1.41158289e+00  2.81850690e-02  1.80461983e-03]\n",
      " [-2.86481273e-01 -1.06775829e-01 -5.07297404e-02]]\n"
     ]
    }
   ],
   "source": [
    "# 스케일링\n",
    "scaler = StandardScaler()\n",
    "X_scaled = scaler.fit_transform(X)\n",
    "X = X_scaled\n",
    "\n",
    "# 데이터\n",
    "data = X  # 데이터를 로드하거나 생성\n",
    "\n",
    "# 가중치 설정\n",
    "weights = [0.8 , 0.1, 0.1]  # 각 열에 대한 가중치 설정\n",
    "\n",
    "# KMeans 모델 초기화\n",
    "km_model = KMeans(n_clusters=15, random_state=0)\n",
    "\n",
    "# 데이터셋에 가중치 적용\n",
    "weighted_data = data * weights\n",
    "\n",
    "# 클러스터링 모델 훈련\n",
    "kmeans_model= km_model.fit(weighted_data)\n",
    "\n",
    "# 클러스터링 결과 확인\n",
    "labels = km_model.labels_\n",
    "centroids = km_model.cluster_centers_\n",
    "\n",
    "# 결과 출력 또는 저장 등 추가 작업 수행\n",
    "print(\"Labels:\", labels)\n",
    "print(\"Centroids:\", centroids)"
   ]
  },
  {
   "cell_type": "code",
   "execution_count": 9,
   "id": "22e16f32",
   "metadata": {
    "ExecuteTime": {
     "end_time": "2023-06-08T08:46:21.015960Z",
     "start_time": "2023-06-08T08:46:21.000955Z"
    }
   },
   "outputs": [],
   "source": [
    "import pickle\n",
    "\n",
    "# K-means 모델 저장\n",
    "with open('kmeans_model.pkl', 'wb') as f:\n",
    "    pickle.dump(km_model, f)\n",
    "\n",
    "# 스케일러 저장\n",
    "with open('scaler.pkl', 'wb') as f:\n",
    "    pickle.dump(scaler, f)\n"
   ]
  },
  {
   "cell_type": "markdown",
   "id": "152ca43d",
   "metadata": {},
   "source": [
    "# 새로운 데이터 예측"
   ]
  },
  {
   "cell_type": "code",
   "execution_count": 10,
   "id": "46c32a3e",
   "metadata": {
    "ExecuteTime": {
     "end_time": "2023-06-08T08:46:23.566544Z",
     "start_time": "2023-06-08T08:46:23.539855Z"
    }
   },
   "outputs": [],
   "source": [
    "def getWeather(input_date):\n",
    "    import requests\n",
    "    import json\n",
    "    from urllib.request import urlopen\n",
    "    import pandas as pd\n",
    "    from datetime import date, timedelta, datetime\n",
    "    date = str(input_date)\n",
    "    domain = \"https://apis.data.go.kr/1360000/VilageFcstInfoService_2.0/getVilageFcst?\"\n",
    "    servicekey = \"serviceKey=YlwyrgH2GoTFdpRhqVV1GWd7fsuSnU%2BUuUXMzkrGFZ8O9pfGNUXLgIxVuQ4LiEavT5CsUmjBcDZXTjSO0m0GVA%3D%3D&\"\n",
    "    pageno = \"pageNo=1&\"\n",
    "    numofrows = \"numOfRows=1000&\"\n",
    "    datatype = \"dataType=JSON&\"\n",
    "    base_date = \"base_date=\"+date+\"&\"\n",
    "    base_time = \"base_time=0500&\"\n",
    "    nx = \"nx=55&\"\n",
    "    ny = \"ny=127&\"\n",
    "    url = domain + servicekey + pageno + numofrows + datatype + base_date + base_time + nx + ny\n",
    "    res = requests.get(url)\n",
    "    items = res.json().get('response').get('body').get('items').get('item')\n",
    "    tmp = []\n",
    "    avgt = ['0000', '0300', '0600', '0900', '1200', '1500', '1800', '2100']\n",
    "    cate = ['TMP', 'WSD']\n",
    "    for i in range(0, len(items), 12):\n",
    "        td = dict()\n",
    "        td['발효날짜'] = items[i].get('fcstDate')\n",
    "        td['발효시각'] = items[i].get('fcstTime')\n",
    "        for j in range(i, i+11):\n",
    "            try:\n",
    "                if items[j].get('category') == 'TMP':\n",
    "                    td['기온'] = items[j].get('fcstValue')\n",
    "                elif items[j].get('category') == 'WSD':\n",
    "                    td['풍속'] = items[j].get('fcstValue')\n",
    "            except:\n",
    "                pass\n",
    "        tmp.append(td)\n",
    "    df = pd.DataFrame(tmp)\n",
    "    df = df.astype({'발효날짜':'datetime64' ,'기온':'float', '풍속':'float'})\n",
    "    df2 = pd.DataFrame([df.groupby('발효날짜')['기온'].min(), df.groupby('발효날짜')['기온'].max()]).T\n",
    "    df2.columns = ['최저기온', '최고기온']\n",
    "    df3 = df[(df['발효시각'] == '0000') | (df['발효시각'] == '0300') | (df['발효시각'] == '0600') | (df['발효시각'] == '0900') |\n",
    "       (df['발효시각'] == '1200') | (df['발효시각'] == '1500') | (df['발효시각'] == '1800') | (df['발효시각'] == '2100')].groupby('발효날짜')['기온', '풍속'].mean()\n",
    "    df3.columns = ['평균기온', '평균풍속']\n",
    "    df4 = pd.concat([df2, df3], axis=1)\n",
    "    df2 = pd.DataFrame([df.groupby('발효날짜')['기온'].min(), df.groupby('발효날짜')['기온'].max()]).T\n",
    "    df2.columns = ['최저기온', '최고기온']\n",
    "    df3 = df[(df['발효시각'] == '0000') | (df['발효시각'] == '0300') | (df['발효시각'] == '0600') | (df['발효시각'] == '0900') |\n",
    "   (df['발효시각'] == '1200') | (df['발효시각'] == '1500') | (df['발효시각'] == '1800') | (df['발효시각'] == '2100')].groupby('발효날짜')['기온', '풍속'].mean()\n",
    "    df3.columns = ['평균기온', '평균풍속']\n",
    "    df4 = pd.concat([df2, df3], axis=1).reset_index()\n",
    "    \n",
    "    # \n",
    "    X_new= df4[:3]\n",
    "    X_new['ap_tmp'] = 13.12 + 0.6215 * X_new['평균기온'] - 11.37 * X_new['평균풍속']**0.16 + 0.3965 * X_new['평균기온'] * X_new['평균풍속']**0.16\n",
    "    \n",
    "    import pandas as pd\n",
    "    from datetime import datetime\n",
    "    import numpy as np\n",
    "    \n",
    "    start_date = datetime(2023, 1, 1)\n",
    "    end_date = datetime(2023, 12, 31)\n",
    "    \n",
    "    # 날짜 범위 생성\n",
    "    date_range = pd.date_range(start=start_date, end=end_date, freq='D')\n",
    "    # x 값 범위 설정\n",
    "    x = np.linspace(0, len(date_range), len(date_range))\n",
    "    # y 값 계산\n",
    "    y = np.sin((2 * np.pi * x) / len(date_range))\n",
    "    # 데이터프레임 생성\n",
    "    df = pd.DataFrame({'x': date_range, 'y': y})\n",
    "    \n",
    "    X_new['sin'] = None\n",
    "    \n",
    "    # 각 행을 순회하며 조건과 비교하여 열 추가\n",
    "    for index, row in X_new.iterrows():\n",
    "        mask = df['x'] == row['발효날짜']\n",
    "        if any(mask):  # 조건에 맞는 행이 하나 이상 있는지 확인\n",
    "            X_new.loc[index, 'sin'] = df.loc[mask, 'y'].values[0]\n",
    "        else:\n",
    "            pass\n",
    "        \n",
    "    X_new['dif'] = X_new['최저기온'] - X_new['최고기온']\n",
    "    X_new.drop(['발효날짜', '최저기온', '최고기온', '평균기온', '평균풍속'], axis=1,inplace=True)\n",
    "    return X_new"
   ]
  },
  {
   "cell_type": "code",
   "execution_count": 11,
   "id": "90f40824",
   "metadata": {
    "ExecuteTime": {
     "end_time": "2023-06-08T08:46:25.776548Z",
     "start_time": "2023-06-08T08:46:24.415781Z"
    }
   },
   "outputs": [],
   "source": [
    "# 오늘 데이터 넣어야함\n",
    "X_now = getWeather(20230608)"
   ]
  },
  {
   "cell_type": "code",
   "execution_count": 12,
   "id": "a5e4b034",
   "metadata": {
    "ExecuteTime": {
     "end_time": "2023-06-08T08:46:27.450515Z",
     "start_time": "2023-06-08T08:46:27.433709Z"
    }
   },
   "outputs": [
    {
     "data": {
      "text/html": [
       "<div>\n",
       "<style scoped>\n",
       "    .dataframe tbody tr th:only-of-type {\n",
       "        vertical-align: middle;\n",
       "    }\n",
       "\n",
       "    .dataframe tbody tr th {\n",
       "        vertical-align: top;\n",
       "    }\n",
       "\n",
       "    .dataframe thead th {\n",
       "        text-align: right;\n",
       "    }\n",
       "</style>\n",
       "<table border=\"1\" class=\"dataframe\">\n",
       "  <thead>\n",
       "    <tr style=\"text-align: right;\">\n",
       "      <th></th>\n",
       "      <th>ap_tmp</th>\n",
       "      <th>sin</th>\n",
       "      <th>dif</th>\n",
       "    </tr>\n",
       "  </thead>\n",
       "  <tbody>\n",
       "    <tr>\n",
       "      <th>0</th>\n",
       "      <td>21.753116</td>\n",
       "      <td>0.402527</td>\n",
       "      <td>-5.0</td>\n",
       "    </tr>\n",
       "    <tr>\n",
       "      <th>1</th>\n",
       "      <td>22.594508</td>\n",
       "      <td>0.386667</td>\n",
       "      <td>-8.0</td>\n",
       "    </tr>\n",
       "    <tr>\n",
       "      <th>2</th>\n",
       "      <td>22.992714</td>\n",
       "      <td>0.370691</td>\n",
       "      <td>-9.0</td>\n",
       "    </tr>\n",
       "  </tbody>\n",
       "</table>\n",
       "</div>"
      ],
      "text/plain": [
       "      ap_tmp       sin  dif\n",
       "0  21.753116  0.402527 -5.0\n",
       "1  22.594508  0.386667 -8.0\n",
       "2  22.992714  0.370691 -9.0"
      ]
     },
     "execution_count": 12,
     "metadata": {},
     "output_type": "execute_result"
    }
   ],
   "source": [
    "X_now"
   ]
  },
  {
   "cell_type": "code",
   "execution_count": 13,
   "id": "f5f88f6a",
   "metadata": {
    "ExecuteTime": {
     "end_time": "2023-06-08T08:46:28.845641Z",
     "start_time": "2023-06-08T08:46:28.829050Z"
    }
   },
   "outputs": [],
   "source": [
    "# K-means 모델 로드\n",
    "with open('kmeans_model.pkl', 'rb') as f:\n",
    "    km_model = pickle.load(f)\n",
    "\n",
    "# 스케일러 로드\n",
    "with open('scaler.pkl', 'rb') as f:\n",
    "    scaler = pickle.load(f)"
   ]
  },
  {
   "cell_type": "code",
   "execution_count": 16,
   "id": "21f8a45f",
   "metadata": {
    "ExecuteTime": {
     "end_time": "2023-06-08T08:48:20.923881Z",
     "start_time": "2023-06-08T08:48:20.908882Z"
    }
   },
   "outputs": [
    {
     "name": "stdout",
     "output_type": "stream",
     "text": [
      "[11  0  0]\n"
     ]
    }
   ],
   "source": [
    "# 예측에 사용할 새로운 데이터 준비 (입력 데이터에 따라 적절하게 구성)\n",
    "new_data = X_now\n",
    "\n",
    "# 데이터 스케일링\n",
    "scaled_data = scaler.transform(new_data)\n",
    "\n",
    "# K-means 모델을 사용하여 예측 수행\n",
    "cluster_labels = km_model.predict(scaled_data)\n",
    "\n",
    "# 예측된 클러스터 레이블 출력\n",
    "print(cluster_labels)"
   ]
  }
 ],
 "metadata": {
  "kernelspec": {
   "display_name": "Python 3 (ipykernel)",
   "language": "python",
   "name": "python3"
  },
  "language_info": {
   "codemirror_mode": {
    "name": "ipython",
    "version": 3
   },
   "file_extension": ".py",
   "mimetype": "text/x-python",
   "name": "python",
   "nbconvert_exporter": "python",
   "pygments_lexer": "ipython3",
   "version": "3.9.15"
  },
  "toc": {
   "base_numbering": 1,
   "nav_menu": {},
   "number_sections": true,
   "sideBar": true,
   "skip_h1_title": false,
   "title_cell": "Table of Contents",
   "title_sidebar": "Contents",
   "toc_cell": false,
   "toc_position": {},
   "toc_section_display": true,
   "toc_window_display": false
  },
  "varInspector": {
   "cols": {
    "lenName": 16,
    "lenType": 16,
    "lenVar": 40
   },
   "kernels_config": {
    "python": {
     "delete_cmd_postfix": "",
     "delete_cmd_prefix": "del ",
     "library": "var_list.py",
     "varRefreshCmd": "print(var_dic_list())"
    },
    "r": {
     "delete_cmd_postfix": ") ",
     "delete_cmd_prefix": "rm(",
     "library": "var_list.r",
     "varRefreshCmd": "cat(var_dic_list()) "
    }
   },
   "types_to_exclude": [
    "module",
    "function",
    "builtin_function_or_method",
    "instance",
    "_Feature"
   ],
   "window_display": false
  }
 },
 "nbformat": 4,
 "nbformat_minor": 5
}
