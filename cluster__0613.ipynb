{
 "cells": [
  {
   "cell_type": "markdown",
   "metadata": {
    "id": "fdXICHCsvdjE"
   },
   "source": [
    "# import"
   ]
  },
  {
   "cell_type": "code",
   "execution_count": 32,
   "metadata": {
    "ExecuteTime": {
     "end_time": "2023-06-14T14:50:18.727623Z",
     "start_time": "2023-06-14T14:50:18.711149Z"
    },
    "colab": {
     "base_uri": "https://localhost:8080/"
    },
    "executionInfo": {
     "elapsed": 14340,
     "status": "ok",
     "timestamp": 1686117625944,
     "user": {
      "displayName": "박영서",
      "userId": "12258658121733962728"
     },
     "user_tz": -540
    },
    "id": "V8FaZuhxvate",
    "outputId": "b9396e63-844a-4b91-d825-5c9032eeef5f"
   },
   "outputs": [],
   "source": [
    "# from google.colab import drive\n",
    "# drive.mount('/content/drive')"
   ]
  },
  {
   "cell_type": "code",
   "execution_count": 33,
   "metadata": {
    "ExecuteTime": {
     "end_time": "2023-06-14T14:50:18.744027Z",
     "start_time": "2023-06-14T14:50:18.728938Z"
    },
    "executionInfo": {
     "elapsed": 1471,
     "status": "ok",
     "timestamp": 1686117629096,
     "user": {
      "displayName": "박영서",
      "userId": "12258658121733962728"
     },
     "user_tz": -540
    },
    "id": "_mnOcPrBvdV6"
   },
   "outputs": [],
   "source": [
    "from sklearn.preprocessing import StandardScaler\n",
    "\n",
    "import numpy as np \n",
    "import pandas as pd\n",
    "import matplotlib.pyplot as plt\n",
    "import seaborn as sns\n",
    "%matplotlib inline\n",
    "\n",
    "import os\n",
    "import warnings\n",
    "\n",
    "warnings.filterwarnings('ignore')\n",
    "\n",
    "from datetime import datetime"
   ]
  },
  {
   "cell_type": "markdown",
   "metadata": {
    "id": "OO5YLwb2vUXS"
   },
   "source": [
    "# 데이터 로딩 "
   ]
  },
  {
   "cell_type": "code",
   "execution_count": 71,
   "metadata": {
    "ExecuteTime": {
     "end_time": "2023-06-14T14:53:31.959382Z",
     "start_time": "2023-06-14T14:53:31.910317Z"
    },
    "colab": {
     "base_uri": "https://localhost:8080/"
    },
    "executionInfo": {
     "elapsed": 1000,
     "status": "ok",
     "timestamp": 1686117632878,
     "user": {
      "displayName": "박영서",
      "userId": "12258658121733962728"
     },
     "user_tz": -540
    },
    "id": "HYsGbma4ubMP",
    "outputId": "c4086d0f-ab58-4f8c-dcc2-55258df9f683"
   },
   "outputs": [
    {
     "data": {
      "text/plain": [
       "(27390, 7)"
      ]
     },
     "execution_count": 71,
     "metadata": {},
     "output_type": "execute_result"
    }
   ],
   "source": [
    "df_weather=pd.read_csv('./weather_0613.csv', encoding='cp949')\n",
    "\n",
    "df_weather.shape"
   ]
  },
  {
   "cell_type": "markdown",
   "metadata": {
    "id": "CD4SjPYi_9nV"
   },
   "source": [
    "# 데이터 전처리"
   ]
  },
  {
   "cell_type": "code",
   "execution_count": 72,
   "metadata": {
    "ExecuteTime": {
     "end_time": "2023-06-14T14:53:40.853688Z",
     "start_time": "2023-06-14T14:53:40.829395Z"
    },
    "colab": {
     "base_uri": "https://localhost:8080/"
    },
    "executionInfo": {
     "elapsed": 397,
     "status": "ok",
     "timestamp": 1686117635285,
     "user": {
      "displayName": "박영서",
      "userId": "12258658121733962728"
     },
     "user_tz": -540
    },
    "id": "VUJLpF7P0knT",
    "outputId": "4ba9b3ef-d6c9-4b9e-e6e0-b9e690fc1dfb"
   },
   "outputs": [
    {
     "name": "stdout",
     "output_type": "stream",
     "text": [
      "<class 'pandas.core.frame.DataFrame'>\n",
      "RangeIndex: 27390 entries, 0 to 27389\n",
      "Data columns (total 7 columns):\n",
      " #   Column      Non-Null Count  Dtype  \n",
      "---  ------      --------------  -----  \n",
      " 0   지점          27390 non-null  int64  \n",
      " 1   지점명         27390 non-null  object \n",
      " 2   일시          27390 non-null  object \n",
      " 3   평균기온(°C)    27386 non-null  float64\n",
      " 4   최저기온(°C)    27388 non-null  float64\n",
      " 5   최고기온(°C)    27390 non-null  float64\n",
      " 6   평균 풍속(m/s)  27375 non-null  float64\n",
      "dtypes: float64(4), int64(1), object(2)\n",
      "memory usage: 1.5+ MB\n"
     ]
    }
   ],
   "source": [
    "# 데이터 인포 확인\n",
    "df_weather.info()"
   ]
  },
  {
   "cell_type": "code",
   "execution_count": 74,
   "metadata": {
    "ExecuteTime": {
     "end_time": "2023-06-14T14:54:02.824737Z",
     "start_time": "2023-06-14T14:54:02.794091Z"
    },
    "colab": {
     "base_uri": "https://localhost:8080/"
    },
    "executionInfo": {
     "elapsed": 485,
     "status": "ok",
     "timestamp": 1686117636969,
     "user": {
      "displayName": "박영서",
      "userId": "12258658121733962728"
     },
     "user_tz": -540
    },
    "id": "Ye-CXj4r1ND4",
    "outputId": "ab25d3b2-48ab-4232-9a5b-03da0a4b35a6"
   },
   "outputs": [
    {
     "name": "stdout",
     "output_type": "stream",
     "text": [
      "<class 'pandas.core.frame.DataFrame'>\n",
      "RangeIndex: 27390 entries, 0 to 27389\n",
      "Data columns (total 7 columns):\n",
      " #   Column      Non-Null Count  Dtype         \n",
      "---  ------      --------------  -----         \n",
      " 0   지점          27390 non-null  int64         \n",
      " 1   지점명         27390 non-null  object        \n",
      " 2   일시          27390 non-null  datetime64[ns]\n",
      " 3   평균기온(°C)    27386 non-null  float64       \n",
      " 4   최저기온(°C)    27388 non-null  float64       \n",
      " 5   최고기온(°C)    27390 non-null  float64       \n",
      " 6   평균 풍속(m/s)  27375 non-null  float64       \n",
      "dtypes: datetime64[ns](1), float64(4), int64(1), object(1)\n",
      "memory usage: 1.5+ MB\n"
     ]
    }
   ],
   "source": [
    "# 일시 object -> datetimme으로 바꾸기\n",
    "df_weather['일시']=pd.to_datetime(df_weather['일시'], format=\"%Y-%m-%d\")\n",
    "df_weather.info()"
   ]
  },
  {
   "cell_type": "code",
   "execution_count": 75,
   "metadata": {
    "ExecuteTime": {
     "end_time": "2023-06-14T14:54:09.093251Z",
     "start_time": "2023-06-14T14:54:09.071997Z"
    },
    "colab": {
     "base_uri": "https://localhost:8080/"
    },
    "executionInfo": {
     "elapsed": 2,
     "status": "ok",
     "timestamp": 1686117638144,
     "user": {
      "displayName": "박영서",
      "userId": "12258658121733962728"
     },
     "user_tz": -540
    },
    "id": "hXNj_4YUxy7T",
    "outputId": "9f7b7278-e232-4bc5-e070-0f8535a60a48"
   },
   "outputs": [
    {
     "data": {
      "text/plain": [
       "Index(['지점', '지점명', '일시', '평균기온(°C)', '최저기온(°C)', '최고기온(°C)', '평균 풍속(m/s)'], dtype='object')"
      ]
     },
     "execution_count": 75,
     "metadata": {},
     "output_type": "execute_result"
    }
   ],
   "source": [
    "# 데이터 컬럼명 확인\n",
    "df_weather.columns"
   ]
  },
  {
   "cell_type": "code",
   "execution_count": 76,
   "metadata": {
    "ExecuteTime": {
     "end_time": "2023-06-14T14:54:32.671482Z",
     "start_time": "2023-06-14T14:54:32.655859Z"
    },
    "executionInfo": {
     "elapsed": 2,
     "status": "ok",
     "timestamp": 1686117639307,
     "user": {
      "displayName": "박영서",
      "userId": "12258658121733962728"
     },
     "user_tz": -540
    },
    "id": "Y5iU-72Lxizh"
   },
   "outputs": [],
   "source": [
    "# 분석에 사용할 사용 안 할 컬럼 drop\n",
    "df_분석 = df_weather.drop('지점', axis=1)"
   ]
  },
  {
   "cell_type": "code",
   "execution_count": 77,
   "metadata": {
    "ExecuteTime": {
     "end_time": "2023-06-14T14:54:37.268607Z",
     "start_time": "2023-06-14T14:54:37.252599Z"
    },
    "colab": {
     "base_uri": "https://localhost:8080/"
    },
    "executionInfo": {
     "elapsed": 4,
     "status": "ok",
     "timestamp": 1686117640406,
     "user": {
      "displayName": "박영서",
      "userId": "12258658121733962728"
     },
     "user_tz": -540
    },
    "id": "0rzd6O5Dwi1L",
    "outputId": "057916d0-d3af-4c28-e8a0-9f29996eb70b"
   },
   "outputs": [
    {
     "name": "stdout",
     "output_type": "stream",
     "text": [
      "<class 'pandas.core.frame.DataFrame'>\n",
      "RangeIndex: 27390 entries, 0 to 27389\n",
      "Data columns (total 6 columns):\n",
      " #   Column      Non-Null Count  Dtype         \n",
      "---  ------      --------------  -----         \n",
      " 0   지점명         27390 non-null  object        \n",
      " 1   일시          27390 non-null  datetime64[ns]\n",
      " 2   평균기온(°C)    27386 non-null  float64       \n",
      " 3   최저기온(°C)    27388 non-null  float64       \n",
      " 4   최고기온(°C)    27390 non-null  float64       \n",
      " 5   평균 풍속(m/s)  27375 non-null  float64       \n",
      "dtypes: datetime64[ns](1), float64(4), object(1)\n",
      "memory usage: 1.3+ MB\n"
     ]
    }
   ],
   "source": [
    "# 분석에 사용할 데이터 확인\n",
    "df_분석.info()\n",
    "# df_.describe()  #  정수/실수 타입 컬럼 정보 조회"
   ]
  },
  {
   "cell_type": "code",
   "execution_count": 78,
   "metadata": {
    "ExecuteTime": {
     "end_time": "2023-06-14T14:54:43.187791Z",
     "start_time": "2023-06-14T14:54:43.165691Z"
    },
    "colab": {
     "base_uri": "https://localhost:8080/",
     "height": 423
    },
    "executionInfo": {
     "elapsed": 5,
     "status": "ok",
     "timestamp": 1686117645596,
     "user": {
      "displayName": "박영서",
      "userId": "12258658121733962728"
     },
     "user_tz": -540
    },
    "id": "5_Cumr3VukK9",
    "outputId": "bd67339c-06c3-41f0-8761-15a789f73016"
   },
   "outputs": [
    {
     "data": {
      "text/plain": [
       "춘천    1826\n",
       "강릉    1826\n",
       "서울    1826\n",
       "수원    1826\n",
       "청주    1826\n",
       "대전    1826\n",
       "안동    1826\n",
       "대구    1826\n",
       "전주    1826\n",
       "울산    1826\n",
       "광주    1826\n",
       "부산    1826\n",
       "목포    1826\n",
       "여수    1826\n",
       "제주    1826\n",
       "Name: 지점명, dtype: int64"
      ]
     },
     "execution_count": 78,
     "metadata": {},
     "output_type": "execute_result"
    }
   ],
   "source": [
    "df_분석['지점명'].value_counts()"
   ]
  },
  {
   "cell_type": "markdown",
   "metadata": {
    "id": "-t8JX6WMwMhZ"
   },
   "source": [
    "결측치 처리\n",
    "- 기온 결측치 삭제\n",
    "\n"
   ]
  },
  {
   "cell_type": "code",
   "execution_count": 79,
   "metadata": {
    "ExecuteTime": {
     "end_time": "2023-06-14T14:54:47.884438Z",
     "start_time": "2023-06-14T14:54:47.860009Z"
    },
    "colab": {
     "base_uri": "https://localhost:8080/"
    },
    "executionInfo": {
     "elapsed": 296,
     "status": "ok",
     "timestamp": 1686117650974,
     "user": {
      "displayName": "박영서",
      "userId": "12258658121733962728"
     },
     "user_tz": -540
    },
    "id": "hVDullJlz6pZ",
    "outputId": "ed4c8fad-84b8-4dcd-d722-c6bacf389de6"
   },
   "outputs": [
    {
     "data": {
      "text/plain": [
       "지점명            0\n",
       "일시             0\n",
       "평균기온(°C)       4\n",
       "최저기온(°C)       2\n",
       "최고기온(°C)       0\n",
       "평균 풍속(m/s)    15\n",
       "dtype: int64"
      ]
     },
     "execution_count": 79,
     "metadata": {},
     "output_type": "execute_result"
    }
   ],
   "source": [
    "df_분석.isnull().sum() #결측치 확인"
   ]
  },
  {
   "cell_type": "code",
   "execution_count": 80,
   "metadata": {
    "ExecuteTime": {
     "end_time": "2023-06-14T14:54:57.743033Z",
     "start_time": "2023-06-14T14:54:57.709827Z"
    },
    "colab": {
     "base_uri": "https://localhost:8080/"
    },
    "executionInfo": {
     "elapsed": 4,
     "status": "ok",
     "timestamp": 1686117653565,
     "user": {
      "displayName": "박영서",
      "userId": "12258658121733962728"
     },
     "user_tz": -540
    },
    "id": "vltZMJca55qS",
    "outputId": "8e037638-8771-4c8f-e7d9-0ac7a8fa88d8"
   },
   "outputs": [
    {
     "data": {
      "text/plain": [
       "지점명           0\n",
       "일시            0\n",
       "평균기온(°C)      0\n",
       "최저기온(°C)      0\n",
       "최고기온(°C)      0\n",
       "평균 풍속(m/s)    0\n",
       "dtype: int64"
      ]
     },
     "execution_count": 80,
     "metadata": {},
     "output_type": "execute_result"
    }
   ],
   "source": [
    "# 나머지 데이터는 .. 다 버릴까\n",
    "df_분석.dropna(inplace=True)\n",
    "df_분석.isnull().sum() #결측치 확인"
   ]
  },
  {
   "cell_type": "markdown",
   "metadata": {
    "id": "lH6h-WNTxb-_"
   },
   "source": [
    "원하는 컬럼 더 파생변수로 추가"
   ]
  },
  {
   "cell_type": "code",
   "execution_count": 81,
   "metadata": {
    "ExecuteTime": {
     "end_time": "2023-06-14T14:55:12.550400Z",
     "start_time": "2023-06-14T14:55:12.537616Z"
    },
    "executionInfo": {
     "elapsed": 303,
     "status": "ok",
     "timestamp": 1686117656123,
     "user": {
      "displayName": "박영서",
      "userId": "12258658121733962728"
     },
     "user_tz": -540
    },
    "id": "eXyDeHMABG-Q"
   },
   "outputs": [],
   "source": [
    "X_파생 = df_분석"
   ]
  },
  {
   "cell_type": "markdown",
   "metadata": {
    "id": "6cLbU6Bi2Ksh"
   },
   "source": [
    "체감온도 계산"
   ]
  },
  {
   "cell_type": "code",
   "execution_count": 82,
   "metadata": {
    "ExecuteTime": {
     "end_time": "2023-06-14T14:55:45.344392Z",
     "start_time": "2023-06-14T14:55:45.330188Z"
    },
    "executionInfo": {
     "elapsed": 3,
     "status": "ok",
     "timestamp": 1686117658765,
     "user": {
      "displayName": "박영서",
      "userId": "12258658121733962728"
     },
     "user_tz": -540
    },
    "id": "tlAHGsDE2ruW"
   },
   "outputs": [],
   "source": [
    "X_파생['체감 기온(°C)'] = 13.12 + 0.6215 * X_파생['평균기온(°C)'] - 11.37 * X_파생['평균 풍속(m/s)']**0.16 + 0.3965 * X_파생['평균기온(°C)'] * X_파생['평균 풍속(m/s)']**0.16"
   ]
  },
  {
   "cell_type": "markdown",
   "metadata": {
    "id": "_9AkYRQ3yGAN"
   },
   "source": [
    "계절감 추가 위해"
   ]
  },
  {
   "cell_type": "code",
   "execution_count": 84,
   "metadata": {
    "ExecuteTime": {
     "end_time": "2023-06-14T14:56:30.453392Z",
     "start_time": "2023-06-14T14:56:30.425015Z"
    }
   },
   "outputs": [
    {
     "data": {
      "text/html": [
       "<div>\n",
       "<style scoped>\n",
       "    .dataframe tbody tr th:only-of-type {\n",
       "        vertical-align: middle;\n",
       "    }\n",
       "\n",
       "    .dataframe tbody tr th {\n",
       "        vertical-align: top;\n",
       "    }\n",
       "\n",
       "    .dataframe thead th {\n",
       "        text-align: right;\n",
       "    }\n",
       "</style>\n",
       "<table border=\"1\" class=\"dataframe\">\n",
       "  <thead>\n",
       "    <tr style=\"text-align: right;\">\n",
       "      <th></th>\n",
       "      <th>지점명</th>\n",
       "      <th>일시</th>\n",
       "      <th>평균기온(°C)</th>\n",
       "      <th>최저기온(°C)</th>\n",
       "      <th>최고기온(°C)</th>\n",
       "      <th>평균 풍속(m/s)</th>\n",
       "      <th>체감 기온(°C)</th>\n",
       "      <th>sin</th>\n",
       "    </tr>\n",
       "  </thead>\n",
       "  <tbody>\n",
       "    <tr>\n",
       "      <th>0</th>\n",
       "      <td>춘천</td>\n",
       "      <td>2018-06-14</td>\n",
       "      <td>20.1</td>\n",
       "      <td>18.7</td>\n",
       "      <td>23.1</td>\n",
       "      <td>2.0</td>\n",
       "      <td>21.812983</td>\n",
       "      <td>None</td>\n",
       "    </tr>\n",
       "    <tr>\n",
       "      <th>1</th>\n",
       "      <td>춘천</td>\n",
       "      <td>2018-06-15</td>\n",
       "      <td>19.6</td>\n",
       "      <td>15.7</td>\n",
       "      <td>23.4</td>\n",
       "      <td>3.1</td>\n",
       "      <td>20.988678</td>\n",
       "      <td>None</td>\n",
       "    </tr>\n",
       "    <tr>\n",
       "      <th>2</th>\n",
       "      <td>춘천</td>\n",
       "      <td>2018-06-16</td>\n",
       "      <td>21.2</td>\n",
       "      <td>13.4</td>\n",
       "      <td>29.4</td>\n",
       "      <td>1.5</td>\n",
       "      <td>23.132924</td>\n",
       "      <td>None</td>\n",
       "    </tr>\n",
       "    <tr>\n",
       "      <th>3</th>\n",
       "      <td>춘천</td>\n",
       "      <td>2018-06-17</td>\n",
       "      <td>22.3</td>\n",
       "      <td>16.5</td>\n",
       "      <td>27.9</td>\n",
       "      <td>1.0</td>\n",
       "      <td>24.451400</td>\n",
       "      <td>None</td>\n",
       "    </tr>\n",
       "    <tr>\n",
       "      <th>4</th>\n",
       "      <td>춘천</td>\n",
       "      <td>2018-06-18</td>\n",
       "      <td>24.4</td>\n",
       "      <td>18.0</td>\n",
       "      <td>32.0</td>\n",
       "      <td>1.4</td>\n",
       "      <td>26.495426</td>\n",
       "      <td>None</td>\n",
       "    </tr>\n",
       "    <tr>\n",
       "      <th>...</th>\n",
       "      <td>...</td>\n",
       "      <td>...</td>\n",
       "      <td>...</td>\n",
       "      <td>...</td>\n",
       "      <td>...</td>\n",
       "      <td>...</td>\n",
       "      <td>...</td>\n",
       "      <td>...</td>\n",
       "    </tr>\n",
       "    <tr>\n",
       "      <th>27385</th>\n",
       "      <td>제주</td>\n",
       "      <td>2023-06-09</td>\n",
       "      <td>22.3</td>\n",
       "      <td>18.6</td>\n",
       "      <td>26.5</td>\n",
       "      <td>2.4</td>\n",
       "      <td>24.071282</td>\n",
       "      <td>None</td>\n",
       "    </tr>\n",
       "    <tr>\n",
       "      <th>27386</th>\n",
       "      <td>제주</td>\n",
       "      <td>2023-06-10</td>\n",
       "      <td>23.8</td>\n",
       "      <td>19.8</td>\n",
       "      <td>30.0</td>\n",
       "      <td>2.8</td>\n",
       "      <td>25.632174</td>\n",
       "      <td>None</td>\n",
       "    </tr>\n",
       "    <tr>\n",
       "      <th>27387</th>\n",
       "      <td>제주</td>\n",
       "      <td>2023-06-11</td>\n",
       "      <td>21.9</td>\n",
       "      <td>19.5</td>\n",
       "      <td>25.3</td>\n",
       "      <td>2.4</td>\n",
       "      <td>23.640235</td>\n",
       "      <td>None</td>\n",
       "    </tr>\n",
       "    <tr>\n",
       "      <th>27388</th>\n",
       "      <td>제주</td>\n",
       "      <td>2023-06-12</td>\n",
       "      <td>22.2</td>\n",
       "      <td>20.0</td>\n",
       "      <td>25.2</td>\n",
       "      <td>2.2</td>\n",
       "      <td>24.004358</td>\n",
       "      <td>None</td>\n",
       "    </tr>\n",
       "    <tr>\n",
       "      <th>27389</th>\n",
       "      <td>제주</td>\n",
       "      <td>2023-06-13</td>\n",
       "      <td>21.5</td>\n",
       "      <td>19.9</td>\n",
       "      <td>25.0</td>\n",
       "      <td>2.0</td>\n",
       "      <td>23.303289</td>\n",
       "      <td>None</td>\n",
       "    </tr>\n",
       "  </tbody>\n",
       "</table>\n",
       "<p>27369 rows × 8 columns</p>\n",
       "</div>"
      ],
      "text/plain": [
       "      지점명         일시  평균기온(°C)  최저기온(°C)  최고기온(°C)  평균 풍속(m/s)  체감 기온(°C)  \\\n",
       "0      춘천 2018-06-14      20.1      18.7      23.1         2.0  21.812983   \n",
       "1      춘천 2018-06-15      19.6      15.7      23.4         3.1  20.988678   \n",
       "2      춘천 2018-06-16      21.2      13.4      29.4         1.5  23.132924   \n",
       "3      춘천 2018-06-17      22.3      16.5      27.9         1.0  24.451400   \n",
       "4      춘천 2018-06-18      24.4      18.0      32.0         1.4  26.495426   \n",
       "...    ..        ...       ...       ...       ...         ...        ...   \n",
       "27385  제주 2023-06-09      22.3      18.6      26.5         2.4  24.071282   \n",
       "27386  제주 2023-06-10      23.8      19.8      30.0         2.8  25.632174   \n",
       "27387  제주 2023-06-11      21.9      19.5      25.3         2.4  23.640235   \n",
       "27388  제주 2023-06-12      22.2      20.0      25.2         2.2  24.004358   \n",
       "27389  제주 2023-06-13      21.5      19.9      25.0         2.0  23.303289   \n",
       "\n",
       "        sin  \n",
       "0      None  \n",
       "1      None  \n",
       "2      None  \n",
       "3      None  \n",
       "4      None  \n",
       "...     ...  \n",
       "27385  None  \n",
       "27386  None  \n",
       "27387  None  \n",
       "27388  None  \n",
       "27389  None  \n",
       "\n",
       "[27369 rows x 8 columns]"
      ]
     },
     "execution_count": 84,
     "metadata": {},
     "output_type": "execute_result"
    }
   ],
   "source": [
    "X_파생"
   ]
  },
  {
   "cell_type": "code",
   "execution_count": 86,
   "metadata": {
    "ExecuteTime": {
     "end_time": "2023-06-14T14:57:38.271903Z",
     "start_time": "2023-06-14T14:57:25.339351Z"
    },
    "colab": {
     "base_uri": "https://localhost:8080/"
    },
    "executionInfo": {
     "elapsed": 444,
     "status": "ok",
     "timestamp": 1686117661305,
     "user": {
      "displayName": "박영서",
      "userId": "12258658121733962728"
     },
     "user_tz": -540
    },
    "id": "lEyUgRE3yE5c",
    "outputId": "1b8584c8-82d3-450f-a852-cb183e61ab97"
   },
   "outputs": [],
   "source": [
    "import pandas as pd\n",
    "from datetime import datetime\n",
    "import numpy as np\n",
    "\n",
    "dfs = []  # 데이터프레임을 저장할 리스트\n",
    "\n",
    "for i in [2018, 2019, 2020, 2021, 2022, 2023]:\n",
    "    # 시작 날짜와 끝 날짜 설정\n",
    "    start_date = datetime(i, 1, 1)\n",
    "    end_date = datetime(i, 12, 31)\n",
    "\n",
    "    # 날짜 범위 생성\n",
    "    date_range = pd.date_range(start=start_date, end=end_date, freq='D')\n",
    "    # x 값 범위 설정\n",
    "    x = np.linspace(0, len(date_range), len(date_range))\n",
    "\n",
    "    # y 값 계산\n",
    "    y = np.sin((2 * np.pi * x) / len(date_range))\n",
    "\n",
    "    # 데이터프레임 생성\n",
    "    df = pd.DataFrame({'x': date_range, 'y': y})\n",
    "    dfs.append(df)  # 데이터프레임을 리스트에 추가\n",
    "\n",
    "# 모든 데이터프레임을 하나로 합치기\n",
    "combined_df = pd.concat(dfs, ignore_index=True)\n",
    "\n",
    "X_파생['sin'] = None\n",
    "\n",
    "# 각 행을 순회하며 조건과 비교하여 열 추가\n",
    "for index, row in X_파생.iterrows():\n",
    "    mask = combined_df['x'] == row['일시']\n",
    "    if any(mask):  # 조건에 맞는 행이 하나 이상 있는지 확인\n",
    "        X_파생.loc[index, 'sin'] = combined_df.loc[mask, 'y'].values[0]\n",
    "    else:\n",
    "        pass"
   ]
  },
  {
   "cell_type": "code",
   "execution_count": 87,
   "metadata": {
    "ExecuteTime": {
     "end_time": "2023-06-14T14:58:07.016226Z",
     "start_time": "2023-06-14T14:58:07.002224Z"
    }
   },
   "outputs": [],
   "source": [
    "X_파생.loc[abs(X_파생['sin']) < 0.5 , 'sin'] = 0"
   ]
  },
  {
   "cell_type": "code",
   "execution_count": 88,
   "metadata": {
    "ExecuteTime": {
     "end_time": "2023-06-14T14:58:10.643152Z",
     "start_time": "2023-06-14T14:58:10.629155Z"
    }
   },
   "outputs": [
    {
     "data": {
      "text/html": [
       "<div>\n",
       "<style scoped>\n",
       "    .dataframe tbody tr th:only-of-type {\n",
       "        vertical-align: middle;\n",
       "    }\n",
       "\n",
       "    .dataframe tbody tr th {\n",
       "        vertical-align: top;\n",
       "    }\n",
       "\n",
       "    .dataframe thead th {\n",
       "        text-align: right;\n",
       "    }\n",
       "</style>\n",
       "<table border=\"1\" class=\"dataframe\">\n",
       "  <thead>\n",
       "    <tr style=\"text-align: right;\">\n",
       "      <th></th>\n",
       "      <th>지점명</th>\n",
       "      <th>일시</th>\n",
       "      <th>평균기온(°C)</th>\n",
       "      <th>최저기온(°C)</th>\n",
       "      <th>최고기온(°C)</th>\n",
       "      <th>평균 풍속(m/s)</th>\n",
       "      <th>체감 기온(°C)</th>\n",
       "      <th>sin</th>\n",
       "    </tr>\n",
       "  </thead>\n",
       "  <tbody>\n",
       "    <tr>\n",
       "      <th>350</th>\n",
       "      <td>춘천</td>\n",
       "      <td>2019-05-30</td>\n",
       "      <td>19.5</td>\n",
       "      <td>10.7</td>\n",
       "      <td>26.3</td>\n",
       "      <td>1.8</td>\n",
       "      <td>21.242232</td>\n",
       "      <td>0.53932</td>\n",
       "    </tr>\n",
       "    <tr>\n",
       "      <th>351</th>\n",
       "      <td>춘천</td>\n",
       "      <td>2019-05-31</td>\n",
       "      <td>20.4</td>\n",
       "      <td>17.0</td>\n",
       "      <td>25.1</td>\n",
       "      <td>2.6</td>\n",
       "      <td>21.975154</td>\n",
       "      <td>0.524704</td>\n",
       "    </tr>\n",
       "    <tr>\n",
       "      <th>352</th>\n",
       "      <td>춘천</td>\n",
       "      <td>2019-06-01</td>\n",
       "      <td>19.1</td>\n",
       "      <td>11.8</td>\n",
       "      <td>25.4</td>\n",
       "      <td>1.7</td>\n",
       "      <td>20.857366</td>\n",
       "      <td>0.509933</td>\n",
       "    </tr>\n",
       "    <tr>\n",
       "      <th>353</th>\n",
       "      <td>춘천</td>\n",
       "      <td>2019-06-02</td>\n",
       "      <td>21.5</td>\n",
       "      <td>13.8</td>\n",
       "      <td>29.2</td>\n",
       "      <td>1.4</td>\n",
       "      <td>23.479626</td>\n",
       "      <td>0</td>\n",
       "    </tr>\n",
       "    <tr>\n",
       "      <th>354</th>\n",
       "      <td>춘천</td>\n",
       "      <td>2019-06-03</td>\n",
       "      <td>22.4</td>\n",
       "      <td>14.4</td>\n",
       "      <td>29.8</td>\n",
       "      <td>1.4</td>\n",
       "      <td>24.415564</td>\n",
       "      <td>0</td>\n",
       "    </tr>\n",
       "    <tr>\n",
       "      <th>...</th>\n",
       "      <td>...</td>\n",
       "      <td>...</td>\n",
       "      <td>...</td>\n",
       "      <td>...</td>\n",
       "      <td>...</td>\n",
       "      <td>...</td>\n",
       "      <td>...</td>\n",
       "      <td>...</td>\n",
       "    </tr>\n",
       "    <tr>\n",
       "      <th>27385</th>\n",
       "      <td>제주</td>\n",
       "      <td>2023-06-09</td>\n",
       "      <td>22.3</td>\n",
       "      <td>18.6</td>\n",
       "      <td>26.5</td>\n",
       "      <td>2.4</td>\n",
       "      <td>24.071282</td>\n",
       "      <td>0</td>\n",
       "    </tr>\n",
       "    <tr>\n",
       "      <th>27386</th>\n",
       "      <td>제주</td>\n",
       "      <td>2023-06-10</td>\n",
       "      <td>23.8</td>\n",
       "      <td>19.8</td>\n",
       "      <td>30.0</td>\n",
       "      <td>2.8</td>\n",
       "      <td>25.632174</td>\n",
       "      <td>0</td>\n",
       "    </tr>\n",
       "    <tr>\n",
       "      <th>27387</th>\n",
       "      <td>제주</td>\n",
       "      <td>2023-06-11</td>\n",
       "      <td>21.9</td>\n",
       "      <td>19.5</td>\n",
       "      <td>25.3</td>\n",
       "      <td>2.4</td>\n",
       "      <td>23.640235</td>\n",
       "      <td>0</td>\n",
       "    </tr>\n",
       "    <tr>\n",
       "      <th>27388</th>\n",
       "      <td>제주</td>\n",
       "      <td>2023-06-12</td>\n",
       "      <td>22.2</td>\n",
       "      <td>20.0</td>\n",
       "      <td>25.2</td>\n",
       "      <td>2.2</td>\n",
       "      <td>24.004358</td>\n",
       "      <td>0</td>\n",
       "    </tr>\n",
       "    <tr>\n",
       "      <th>27389</th>\n",
       "      <td>제주</td>\n",
       "      <td>2023-06-13</td>\n",
       "      <td>21.5</td>\n",
       "      <td>19.9</td>\n",
       "      <td>25.0</td>\n",
       "      <td>2.0</td>\n",
       "      <td>23.303289</td>\n",
       "      <td>0</td>\n",
       "    </tr>\n",
       "  </tbody>\n",
       "</table>\n",
       "<p>27019 rows × 8 columns</p>\n",
       "</div>"
      ],
      "text/plain": [
       "      지점명         일시  평균기온(°C)  최저기온(°C)  최고기온(°C)  평균 풍속(m/s)  체감 기온(°C)  \\\n",
       "350    춘천 2019-05-30      19.5      10.7      26.3         1.8  21.242232   \n",
       "351    춘천 2019-05-31      20.4      17.0      25.1         2.6  21.975154   \n",
       "352    춘천 2019-06-01      19.1      11.8      25.4         1.7  20.857366   \n",
       "353    춘천 2019-06-02      21.5      13.8      29.2         1.4  23.479626   \n",
       "354    춘천 2019-06-03      22.4      14.4      29.8         1.4  24.415564   \n",
       "...    ..        ...       ...       ...       ...         ...        ...   \n",
       "27385  제주 2023-06-09      22.3      18.6      26.5         2.4  24.071282   \n",
       "27386  제주 2023-06-10      23.8      19.8      30.0         2.8  25.632174   \n",
       "27387  제주 2023-06-11      21.9      19.5      25.3         2.4  23.640235   \n",
       "27388  제주 2023-06-12      22.2      20.0      25.2         2.2  24.004358   \n",
       "27389  제주 2023-06-13      21.5      19.9      25.0         2.0  23.303289   \n",
       "\n",
       "            sin  \n",
       "350     0.53932  \n",
       "351    0.524704  \n",
       "352    0.509933  \n",
       "353           0  \n",
       "354           0  \n",
       "...         ...  \n",
       "27385         0  \n",
       "27386         0  \n",
       "27387         0  \n",
       "27388         0  \n",
       "27389         0  \n",
       "\n",
       "[27019 rows x 8 columns]"
      ]
     },
     "execution_count": 88,
     "metadata": {},
     "output_type": "execute_result"
    }
   ],
   "source": [
    "X_파생[350:]"
   ]
  },
  {
   "cell_type": "code",
   "execution_count": 89,
   "metadata": {
    "ExecuteTime": {
     "end_time": "2023-06-14T14:58:20.478190Z",
     "start_time": "2023-06-14T14:58:20.450112Z"
    },
    "executionInfo": {
     "elapsed": 3,
     "status": "ok",
     "timestamp": 1686111438799,
     "user": {
      "displayName": "박영서",
      "userId": "12258658121733962728"
     },
     "user_tz": -540
    },
    "id": "B2MSBi3B2gFS"
   },
   "outputs": [
    {
     "data": {
      "text/html": [
       "<div>\n",
       "<style scoped>\n",
       "    .dataframe tbody tr th:only-of-type {\n",
       "        vertical-align: middle;\n",
       "    }\n",
       "\n",
       "    .dataframe tbody tr th {\n",
       "        vertical-align: top;\n",
       "    }\n",
       "\n",
       "    .dataframe thead th {\n",
       "        text-align: right;\n",
       "    }\n",
       "</style>\n",
       "<table border=\"1\" class=\"dataframe\">\n",
       "  <thead>\n",
       "    <tr style=\"text-align: right;\">\n",
       "      <th></th>\n",
       "      <th>지점명</th>\n",
       "      <th>일시</th>\n",
       "      <th>평균기온(°C)</th>\n",
       "      <th>최저기온(°C)</th>\n",
       "      <th>최고기온(°C)</th>\n",
       "      <th>평균 풍속(m/s)</th>\n",
       "      <th>체감 기온(°C)</th>\n",
       "      <th>sin</th>\n",
       "    </tr>\n",
       "  </thead>\n",
       "  <tbody>\n",
       "    <tr>\n",
       "      <th>1569</th>\n",
       "      <td>춘천</td>\n",
       "      <td>2022-09-30</td>\n",
       "      <td>18.2</td>\n",
       "      <td>14.6</td>\n",
       "      <td>26.3</td>\n",
       "      <td>1.0</td>\n",
       "      <td>20.277600</td>\n",
       "      <td>-0.999851</td>\n",
       "    </tr>\n",
       "    <tr>\n",
       "      <th>3395</th>\n",
       "      <td>강릉</td>\n",
       "      <td>2022-09-30</td>\n",
       "      <td>23.9</td>\n",
       "      <td>18.0</td>\n",
       "      <td>30.8</td>\n",
       "      <td>2.0</td>\n",
       "      <td>25.858099</td>\n",
       "      <td>-0.999851</td>\n",
       "    </tr>\n",
       "    <tr>\n",
       "      <th>5221</th>\n",
       "      <td>서울</td>\n",
       "      <td>2022-09-30</td>\n",
       "      <td>20.7</td>\n",
       "      <td>14.8</td>\n",
       "      <td>27.7</td>\n",
       "      <td>1.6</td>\n",
       "      <td>22.575611</td>\n",
       "      <td>-0.999851</td>\n",
       "    </tr>\n",
       "    <tr>\n",
       "      <th>7047</th>\n",
       "      <td>수원</td>\n",
       "      <td>2022-09-30</td>\n",
       "      <td>19.9</td>\n",
       "      <td>13.5</td>\n",
       "      <td>28.1</td>\n",
       "      <td>1.0</td>\n",
       "      <td>22.008200</td>\n",
       "      <td>-0.999851</td>\n",
       "    </tr>\n",
       "    <tr>\n",
       "      <th>8873</th>\n",
       "      <td>청주</td>\n",
       "      <td>2022-09-30</td>\n",
       "      <td>20.1</td>\n",
       "      <td>13.6</td>\n",
       "      <td>28.6</td>\n",
       "      <td>0.7</td>\n",
       "      <td>22.400418</td>\n",
       "      <td>-0.999851</td>\n",
       "    </tr>\n",
       "    <tr>\n",
       "      <th>10699</th>\n",
       "      <td>대전</td>\n",
       "      <td>2022-09-30</td>\n",
       "      <td>19.4</td>\n",
       "      <td>13.0</td>\n",
       "      <td>29.2</td>\n",
       "      <td>1.1</td>\n",
       "      <td>21.442684</td>\n",
       "      <td>-0.999851</td>\n",
       "    </tr>\n",
       "    <tr>\n",
       "      <th>12525</th>\n",
       "      <td>안동</td>\n",
       "      <td>2022-09-30</td>\n",
       "      <td>18.2</td>\n",
       "      <td>12.7</td>\n",
       "      <td>28.0</td>\n",
       "      <td>0.7</td>\n",
       "      <td>20.508006</td>\n",
       "      <td>-0.999851</td>\n",
       "    </tr>\n",
       "    <tr>\n",
       "      <th>14351</th>\n",
       "      <td>대구</td>\n",
       "      <td>2022-09-30</td>\n",
       "      <td>21.6</td>\n",
       "      <td>14.1</td>\n",
       "      <td>31.2</td>\n",
       "      <td>0.9</td>\n",
       "      <td>23.785699</td>\n",
       "      <td>-0.999851</td>\n",
       "    </tr>\n",
       "    <tr>\n",
       "      <th>16177</th>\n",
       "      <td>전주</td>\n",
       "      <td>2022-09-30</td>\n",
       "      <td>20.9</td>\n",
       "      <td>14.3</td>\n",
       "      <td>28.8</td>\n",
       "      <td>1.0</td>\n",
       "      <td>23.026200</td>\n",
       "      <td>-0.999851</td>\n",
       "    </tr>\n",
       "    <tr>\n",
       "      <th>18003</th>\n",
       "      <td>울산</td>\n",
       "      <td>2022-09-30</td>\n",
       "      <td>20.8</td>\n",
       "      <td>15.3</td>\n",
       "      <td>28.0</td>\n",
       "      <td>0.9</td>\n",
       "      <td>22.976602</td>\n",
       "      <td>-0.999851</td>\n",
       "    </tr>\n",
       "    <tr>\n",
       "      <th>19829</th>\n",
       "      <td>광주</td>\n",
       "      <td>2022-09-30</td>\n",
       "      <td>21.7</td>\n",
       "      <td>15.2</td>\n",
       "      <td>29.7</td>\n",
       "      <td>0.4</td>\n",
       "      <td>24.217782</td>\n",
       "      <td>-0.999851</td>\n",
       "    </tr>\n",
       "    <tr>\n",
       "      <th>21655</th>\n",
       "      <td>부산</td>\n",
       "      <td>2022-09-30</td>\n",
       "      <td>22.1</td>\n",
       "      <td>18.4</td>\n",
       "      <td>26.9</td>\n",
       "      <td>1.8</td>\n",
       "      <td>23.990689</td>\n",
       "      <td>-0.999851</td>\n",
       "    </tr>\n",
       "    <tr>\n",
       "      <th>23481</th>\n",
       "      <td>목포</td>\n",
       "      <td>2022-09-30</td>\n",
       "      <td>20.5</td>\n",
       "      <td>15.2</td>\n",
       "      <td>27.0</td>\n",
       "      <td>1.9</td>\n",
       "      <td>22.268388</td>\n",
       "      <td>-0.999851</td>\n",
       "    </tr>\n",
       "    <tr>\n",
       "      <th>25307</th>\n",
       "      <td>여수</td>\n",
       "      <td>2022-09-30</td>\n",
       "      <td>22.2</td>\n",
       "      <td>18.3</td>\n",
       "      <td>26.6</td>\n",
       "      <td>2.3</td>\n",
       "      <td>23.983566</td>\n",
       "      <td>-0.999851</td>\n",
       "    </tr>\n",
       "    <tr>\n",
       "      <th>27133</th>\n",
       "      <td>제주</td>\n",
       "      <td>2022-09-30</td>\n",
       "      <td>21.7</td>\n",
       "      <td>17.2</td>\n",
       "      <td>26.2</td>\n",
       "      <td>2.5</td>\n",
       "      <td>23.403861</td>\n",
       "      <td>-0.999851</td>\n",
       "    </tr>\n",
       "  </tbody>\n",
       "</table>\n",
       "</div>"
      ],
      "text/plain": [
       "      지점명         일시  평균기온(°C)  최저기온(°C)  최고기온(°C)  평균 풍속(m/s)  체감 기온(°C)  \\\n",
       "1569   춘천 2022-09-30      18.2      14.6      26.3         1.0  20.277600   \n",
       "3395   강릉 2022-09-30      23.9      18.0      30.8         2.0  25.858099   \n",
       "5221   서울 2022-09-30      20.7      14.8      27.7         1.6  22.575611   \n",
       "7047   수원 2022-09-30      19.9      13.5      28.1         1.0  22.008200   \n",
       "8873   청주 2022-09-30      20.1      13.6      28.6         0.7  22.400418   \n",
       "10699  대전 2022-09-30      19.4      13.0      29.2         1.1  21.442684   \n",
       "12525  안동 2022-09-30      18.2      12.7      28.0         0.7  20.508006   \n",
       "14351  대구 2022-09-30      21.6      14.1      31.2         0.9  23.785699   \n",
       "16177  전주 2022-09-30      20.9      14.3      28.8         1.0  23.026200   \n",
       "18003  울산 2022-09-30      20.8      15.3      28.0         0.9  22.976602   \n",
       "19829  광주 2022-09-30      21.7      15.2      29.7         0.4  24.217782   \n",
       "21655  부산 2022-09-30      22.1      18.4      26.9         1.8  23.990689   \n",
       "23481  목포 2022-09-30      20.5      15.2      27.0         1.9  22.268388   \n",
       "25307  여수 2022-09-30      22.2      18.3      26.6         2.3  23.983566   \n",
       "27133  제주 2022-09-30      21.7      17.2      26.2         2.5  23.403861   \n",
       "\n",
       "            sin  \n",
       "1569  -0.999851  \n",
       "3395  -0.999851  \n",
       "5221  -0.999851  \n",
       "7047  -0.999851  \n",
       "8873  -0.999851  \n",
       "10699 -0.999851  \n",
       "12525 -0.999851  \n",
       "14351 -0.999851  \n",
       "16177 -0.999851  \n",
       "18003 -0.999851  \n",
       "19829 -0.999851  \n",
       "21655 -0.999851  \n",
       "23481 -0.999851  \n",
       "25307 -0.999851  \n",
       "27133 -0.999851  "
      ]
     },
     "execution_count": 89,
     "metadata": {},
     "output_type": "execute_result"
    }
   ],
   "source": [
    "# 확인용\n",
    "X_파생[X_파생['일시']=='2022-9-30']"
   ]
  },
  {
   "cell_type": "code",
   "execution_count": 90,
   "metadata": {
    "ExecuteTime": {
     "end_time": "2023-06-14T14:58:38.180897Z",
     "start_time": "2023-06-14T14:58:38.173897Z"
    },
    "colab": {
     "base_uri": "https://localhost:8080/",
     "height": 423
    },
    "executionInfo": {
     "elapsed": 4,
     "status": "ok",
     "timestamp": 1686118606191,
     "user": {
      "displayName": "박영서",
      "userId": "12258658121733962728"
     },
     "user_tz": -540
    },
    "id": "lGKZEcp3BWev",
    "outputId": "375e78cd-b9d5-4e85-e555-de4f5dbe6a74"
   },
   "outputs": [],
   "source": [
    "X_파생['dif'] = X_파생['최저기온(°C)'] - X_파생['최고기온(°C)']"
   ]
  },
  {
   "cell_type": "code",
   "execution_count": 91,
   "metadata": {
    "ExecuteTime": {
     "end_time": "2023-06-14T14:58:47.323314Z",
     "start_time": "2023-06-14T14:58:47.292186Z"
    },
    "colab": {
     "base_uri": "https://localhost:8080/",
     "height": 423
    },
    "executionInfo": {
     "elapsed": 353,
     "status": "ok",
     "timestamp": 1686118621565,
     "user": {
      "displayName": "박영서",
      "userId": "12258658121733962728"
     },
     "user_tz": -540
    },
    "id": "BTaIunAl3Bnp",
    "outputId": "41392c9a-50ca-4c54-c906-64ba03e4da11"
   },
   "outputs": [
    {
     "data": {
      "text/html": [
       "<div>\n",
       "<style scoped>\n",
       "    .dataframe tbody tr th:only-of-type {\n",
       "        vertical-align: middle;\n",
       "    }\n",
       "\n",
       "    .dataframe tbody tr th {\n",
       "        vertical-align: top;\n",
       "    }\n",
       "\n",
       "    .dataframe thead th {\n",
       "        text-align: right;\n",
       "    }\n",
       "</style>\n",
       "<table border=\"1\" class=\"dataframe\">\n",
       "  <thead>\n",
       "    <tr style=\"text-align: right;\">\n",
       "      <th></th>\n",
       "      <th>지점명</th>\n",
       "      <th>일시</th>\n",
       "      <th>평균기온(°C)</th>\n",
       "      <th>최저기온(°C)</th>\n",
       "      <th>최고기온(°C)</th>\n",
       "      <th>평균 풍속(m/s)</th>\n",
       "      <th>체감 기온(°C)</th>\n",
       "      <th>sin</th>\n",
       "      <th>dif</th>\n",
       "    </tr>\n",
       "  </thead>\n",
       "  <tbody>\n",
       "    <tr>\n",
       "      <th>21561</th>\n",
       "      <td>부산</td>\n",
       "      <td>2022-06-28</td>\n",
       "      <td>23.7</td>\n",
       "      <td>23.3</td>\n",
       "      <td>24.7</td>\n",
       "      <td>10.1</td>\n",
       "      <td>24.993226</td>\n",
       "      <td>0</td>\n",
       "      <td>-1.4</td>\n",
       "    </tr>\n",
       "    <tr>\n",
       "      <th>21562</th>\n",
       "      <td>부산</td>\n",
       "      <td>2022-06-29</td>\n",
       "      <td>24.1</td>\n",
       "      <td>23.0</td>\n",
       "      <td>25.0</td>\n",
       "      <td>10.5</td>\n",
       "      <td>25.455064</td>\n",
       "      <td>0</td>\n",
       "      <td>-2.0</td>\n",
       "    </tr>\n",
       "    <tr>\n",
       "      <th>22842</th>\n",
       "      <td>목포</td>\n",
       "      <td>2020-12-30</td>\n",
       "      <td>-3.0</td>\n",
       "      <td>-4.5</td>\n",
       "      <td>0.2</td>\n",
       "      <td>10.1</td>\n",
       "      <td>-6.927426</td>\n",
       "      <td>0</td>\n",
       "      <td>-4.7</td>\n",
       "    </tr>\n",
       "    <tr>\n",
       "      <th>23202</th>\n",
       "      <td>목포</td>\n",
       "      <td>2021-12-25</td>\n",
       "      <td>-2.6</td>\n",
       "      <td>-5.4</td>\n",
       "      <td>1.2</td>\n",
       "      <td>10.4</td>\n",
       "      <td>-6.533491</td>\n",
       "      <td>0</td>\n",
       "      <td>-6.6</td>\n",
       "    </tr>\n",
       "    <tr>\n",
       "      <th>23457</th>\n",
       "      <td>목포</td>\n",
       "      <td>2022-09-06</td>\n",
       "      <td>21.7</td>\n",
       "      <td>19.1</td>\n",
       "      <td>24.6</td>\n",
       "      <td>10.1</td>\n",
       "      <td>22.602166</td>\n",
       "      <td>-0.908324</td>\n",
       "      <td>-5.5</td>\n",
       "    </tr>\n",
       "    <tr>\n",
       "      <th>23470</th>\n",
       "      <td>목포</td>\n",
       "      <td>2022-09-19</td>\n",
       "      <td>23.0</td>\n",
       "      <td>20.6</td>\n",
       "      <td>25.7</td>\n",
       "      <td>10.7</td>\n",
       "      <td>24.126132</td>\n",
       "      <td>-0.978624</td>\n",
       "      <td>-5.1</td>\n",
       "    </tr>\n",
       "    <tr>\n",
       "      <th>23498</th>\n",
       "      <td>목포</td>\n",
       "      <td>2022-10-17</td>\n",
       "      <td>14.1</td>\n",
       "      <td>12.1</td>\n",
       "      <td>16.5</td>\n",
       "      <td>10.4</td>\n",
       "      <td>13.476861</td>\n",
       "      <td>-0.962103</td>\n",
       "      <td>-4.4</td>\n",
       "    </tr>\n",
       "    <tr>\n",
       "      <th>23541</th>\n",
       "      <td>목포</td>\n",
       "      <td>2022-11-29</td>\n",
       "      <td>10.3</td>\n",
       "      <td>4.9</td>\n",
       "      <td>18.8</td>\n",
       "      <td>10.4</td>\n",
       "      <td>8.923607</td>\n",
       "      <td>-0.524704</td>\n",
       "      <td>-13.9</td>\n",
       "    </tr>\n",
       "    <tr>\n",
       "      <th>23565</th>\n",
       "      <td>목포</td>\n",
       "      <td>2022-12-23</td>\n",
       "      <td>-2.7</td>\n",
       "      <td>-4.7</td>\n",
       "      <td>-1.0</td>\n",
       "      <td>10.1</td>\n",
       "      <td>-6.568767</td>\n",
       "      <td>0</td>\n",
       "      <td>-3.7</td>\n",
       "    </tr>\n",
       "    <tr>\n",
       "      <th>23597</th>\n",
       "      <td>목포</td>\n",
       "      <td>2023-01-24</td>\n",
       "      <td>-6.5</td>\n",
       "      <td>-8.1</td>\n",
       "      <td>-0.3</td>\n",
       "      <td>12.0</td>\n",
       "      <td>-11.676415</td>\n",
       "      <td>0</td>\n",
       "      <td>-7.8</td>\n",
       "    </tr>\n",
       "    <tr>\n",
       "      <th>24203</th>\n",
       "      <td>여수</td>\n",
       "      <td>2019-09-22</td>\n",
       "      <td>18.8</td>\n",
       "      <td>17.4</td>\n",
       "      <td>21.5</td>\n",
       "      <td>17.9</td>\n",
       "      <td>18.591549</td>\n",
       "      <td>-0.987957</td>\n",
       "      <td>-4.1</td>\n",
       "    </tr>\n",
       "    <tr>\n",
       "      <th>24554</th>\n",
       "      <td>여수</td>\n",
       "      <td>2020-09-07</td>\n",
       "      <td>22.2</td>\n",
       "      <td>20.0</td>\n",
       "      <td>23.2</td>\n",
       "      <td>10.2</td>\n",
       "      <td>23.194066</td>\n",
       "      <td>-0.917584</td>\n",
       "      <td>-3.2</td>\n",
       "    </tr>\n",
       "    <tr>\n",
       "      <th>26375</th>\n",
       "      <td>제주</td>\n",
       "      <td>2020-09-02</td>\n",
       "      <td>25.1</td>\n",
       "      <td>23.1</td>\n",
       "      <td>27.9</td>\n",
       "      <td>11.6</td>\n",
       "      <td>26.620983</td>\n",
       "      <td>-0.880012</td>\n",
       "      <td>-4.8</td>\n",
       "    </tr>\n",
       "  </tbody>\n",
       "</table>\n",
       "</div>"
      ],
      "text/plain": [
       "      지점명         일시  평균기온(°C)  최저기온(°C)  최고기온(°C)  평균 풍속(m/s)  체감 기온(°C)  \\\n",
       "21561  부산 2022-06-28      23.7      23.3      24.7        10.1  24.993226   \n",
       "21562  부산 2022-06-29      24.1      23.0      25.0        10.5  25.455064   \n",
       "22842  목포 2020-12-30      -3.0      -4.5       0.2        10.1  -6.927426   \n",
       "23202  목포 2021-12-25      -2.6      -5.4       1.2        10.4  -6.533491   \n",
       "23457  목포 2022-09-06      21.7      19.1      24.6        10.1  22.602166   \n",
       "23470  목포 2022-09-19      23.0      20.6      25.7        10.7  24.126132   \n",
       "23498  목포 2022-10-17      14.1      12.1      16.5        10.4  13.476861   \n",
       "23541  목포 2022-11-29      10.3       4.9      18.8        10.4   8.923607   \n",
       "23565  목포 2022-12-23      -2.7      -4.7      -1.0        10.1  -6.568767   \n",
       "23597  목포 2023-01-24      -6.5      -8.1      -0.3        12.0 -11.676415   \n",
       "24203  여수 2019-09-22      18.8      17.4      21.5        17.9  18.591549   \n",
       "24554  여수 2020-09-07      22.2      20.0      23.2        10.2  23.194066   \n",
       "26375  제주 2020-09-02      25.1      23.1      27.9        11.6  26.620983   \n",
       "\n",
       "            sin   dif  \n",
       "21561         0  -1.4  \n",
       "21562         0  -2.0  \n",
       "22842         0  -4.7  \n",
       "23202         0  -6.6  \n",
       "23457 -0.908324  -5.5  \n",
       "23470 -0.978624  -5.1  \n",
       "23498 -0.962103  -4.4  \n",
       "23541 -0.524704 -13.9  \n",
       "23565         0  -3.7  \n",
       "23597         0  -7.8  \n",
       "24203 -0.987957  -4.1  \n",
       "24554 -0.917584  -3.2  \n",
       "26375 -0.880012  -4.8  "
      ]
     },
     "execution_count": 91,
     "metadata": {},
     "output_type": "execute_result"
    }
   ],
   "source": [
    "# 평균 풍속과 체감기온의 차이 확인용\n",
    "X_파생[X_파생['평균 풍속(m/s)']> 10]"
   ]
  },
  {
   "cell_type": "code",
   "execution_count": 92,
   "metadata": {
    "ExecuteTime": {
     "end_time": "2023-06-14T14:59:25.727485Z",
     "start_time": "2023-06-14T14:59:25.707193Z"
    }
   },
   "outputs": [],
   "source": [
    "X_=X_파생.drop(['평균기온(°C)', '최저기온(°C)', '최고기온(°C)', '평균 풍속(m/s)'], axis=1)"
   ]
  },
  {
   "cell_type": "code",
   "execution_count": 93,
   "metadata": {
    "ExecuteTime": {
     "end_time": "2023-06-14T14:59:28.645658Z",
     "start_time": "2023-06-14T14:59:28.621371Z"
    }
   },
   "outputs": [
    {
     "data": {
      "text/html": [
       "<div>\n",
       "<style scoped>\n",
       "    .dataframe tbody tr th:only-of-type {\n",
       "        vertical-align: middle;\n",
       "    }\n",
       "\n",
       "    .dataframe tbody tr th {\n",
       "        vertical-align: top;\n",
       "    }\n",
       "\n",
       "    .dataframe thead th {\n",
       "        text-align: right;\n",
       "    }\n",
       "</style>\n",
       "<table border=\"1\" class=\"dataframe\">\n",
       "  <thead>\n",
       "    <tr style=\"text-align: right;\">\n",
       "      <th></th>\n",
       "      <th>지점명</th>\n",
       "      <th>일시</th>\n",
       "      <th>체감 기온(°C)</th>\n",
       "      <th>sin</th>\n",
       "      <th>dif</th>\n",
       "    </tr>\n",
       "  </thead>\n",
       "  <tbody>\n",
       "    <tr>\n",
       "      <th>0</th>\n",
       "      <td>춘천</td>\n",
       "      <td>2018-06-14</td>\n",
       "      <td>21.812983</td>\n",
       "      <td>0</td>\n",
       "      <td>-4.4</td>\n",
       "    </tr>\n",
       "    <tr>\n",
       "      <th>1</th>\n",
       "      <td>춘천</td>\n",
       "      <td>2018-06-15</td>\n",
       "      <td>20.988678</td>\n",
       "      <td>0</td>\n",
       "      <td>-7.7</td>\n",
       "    </tr>\n",
       "    <tr>\n",
       "      <th>2</th>\n",
       "      <td>춘천</td>\n",
       "      <td>2018-06-16</td>\n",
       "      <td>23.132924</td>\n",
       "      <td>0</td>\n",
       "      <td>-16.0</td>\n",
       "    </tr>\n",
       "    <tr>\n",
       "      <th>3</th>\n",
       "      <td>춘천</td>\n",
       "      <td>2018-06-17</td>\n",
       "      <td>24.451400</td>\n",
       "      <td>0</td>\n",
       "      <td>-11.4</td>\n",
       "    </tr>\n",
       "    <tr>\n",
       "      <th>4</th>\n",
       "      <td>춘천</td>\n",
       "      <td>2018-06-18</td>\n",
       "      <td>26.495426</td>\n",
       "      <td>0</td>\n",
       "      <td>-14.0</td>\n",
       "    </tr>\n",
       "    <tr>\n",
       "      <th>...</th>\n",
       "      <td>...</td>\n",
       "      <td>...</td>\n",
       "      <td>...</td>\n",
       "      <td>...</td>\n",
       "      <td>...</td>\n",
       "    </tr>\n",
       "    <tr>\n",
       "      <th>27385</th>\n",
       "      <td>제주</td>\n",
       "      <td>2023-06-09</td>\n",
       "      <td>24.071282</td>\n",
       "      <td>0</td>\n",
       "      <td>-7.9</td>\n",
       "    </tr>\n",
       "    <tr>\n",
       "      <th>27386</th>\n",
       "      <td>제주</td>\n",
       "      <td>2023-06-10</td>\n",
       "      <td>25.632174</td>\n",
       "      <td>0</td>\n",
       "      <td>-10.2</td>\n",
       "    </tr>\n",
       "    <tr>\n",
       "      <th>27387</th>\n",
       "      <td>제주</td>\n",
       "      <td>2023-06-11</td>\n",
       "      <td>23.640235</td>\n",
       "      <td>0</td>\n",
       "      <td>-5.8</td>\n",
       "    </tr>\n",
       "    <tr>\n",
       "      <th>27388</th>\n",
       "      <td>제주</td>\n",
       "      <td>2023-06-12</td>\n",
       "      <td>24.004358</td>\n",
       "      <td>0</td>\n",
       "      <td>-5.2</td>\n",
       "    </tr>\n",
       "    <tr>\n",
       "      <th>27389</th>\n",
       "      <td>제주</td>\n",
       "      <td>2023-06-13</td>\n",
       "      <td>23.303289</td>\n",
       "      <td>0</td>\n",
       "      <td>-5.1</td>\n",
       "    </tr>\n",
       "  </tbody>\n",
       "</table>\n",
       "<p>27369 rows × 5 columns</p>\n",
       "</div>"
      ],
      "text/plain": [
       "      지점명         일시  체감 기온(°C) sin   dif\n",
       "0      춘천 2018-06-14  21.812983   0  -4.4\n",
       "1      춘천 2018-06-15  20.988678   0  -7.7\n",
       "2      춘천 2018-06-16  23.132924   0 -16.0\n",
       "3      춘천 2018-06-17  24.451400   0 -11.4\n",
       "4      춘천 2018-06-18  26.495426   0 -14.0\n",
       "...    ..        ...        ...  ..   ...\n",
       "27385  제주 2023-06-09  24.071282   0  -7.9\n",
       "27386  제주 2023-06-10  25.632174   0 -10.2\n",
       "27387  제주 2023-06-11  23.640235   0  -5.8\n",
       "27388  제주 2023-06-12  24.004358   0  -5.2\n",
       "27389  제주 2023-06-13  23.303289   0  -5.1\n",
       "\n",
       "[27369 rows x 5 columns]"
      ]
     },
     "execution_count": 93,
     "metadata": {},
     "output_type": "execute_result"
    }
   ],
   "source": [
    "X_"
   ]
  },
  {
   "cell_type": "markdown",
   "metadata": {
    "id": "L7M21xEN25Jd"
   },
   "source": [
    "그래프 그릴시 한글이 깨지는 오류를 못 잡음\n",
    "그래서 영어로 그냥 변경"
   ]
  },
  {
   "cell_type": "code",
   "execution_count": 94,
   "metadata": {
    "ExecuteTime": {
     "end_time": "2023-06-14T14:59:37.124419Z",
     "start_time": "2023-06-14T14:59:37.105724Z"
    },
    "executionInfo": {
     "elapsed": 298,
     "status": "ok",
     "timestamp": 1686118737149,
     "user": {
      "displayName": "박영서",
      "userId": "12258658121733962728"
     },
     "user_tz": -540
    },
    "id": "IH-TQFDH2u7M"
   },
   "outputs": [],
   "source": [
    "# 컬럼 이름 변경\n",
    "X_.rename(columns={'일시': 'day'}, inplace=True)\n",
    "X_.rename(columns={'지점명': 'area'}, inplace=True)\n",
    "X_.rename(columns={'체감 기온(°C)': 'ap_tmp'}, inplace=True)"
   ]
  },
  {
   "cell_type": "code",
   "execution_count": 95,
   "metadata": {
    "ExecuteTime": {
     "end_time": "2023-06-14T14:59:42.567812Z",
     "start_time": "2023-06-14T14:59:42.457301Z"
    }
   },
   "outputs": [],
   "source": [
    "import pandas as pd\n",
    "\n",
    "# CSV 파일로 저장\n",
    "X_.to_csv('pre_weather_0613.csv', index=False)"
   ]
  },
  {
   "cell_type": "markdown",
   "metadata": {},
   "source": [
    "# 모델 예측"
   ]
  },
  {
   "cell_type": "code",
   "execution_count": 96,
   "metadata": {
    "ExecuteTime": {
     "end_time": "2023-06-14T15:00:29.669950Z",
     "start_time": "2023-06-14T15:00:29.663951Z"
    }
   },
   "outputs": [],
   "source": [
    "from sklearn.preprocessing import StandardScaler\n",
    "\n",
    "import numpy as np \n",
    "import pandas as pd\n",
    "import matplotlib.pyplot as plt\n",
    "import seaborn as sns\n",
    "%matplotlib inline\n",
    "\n",
    "import os\n",
    "import warnings\n",
    "\n",
    "warnings.filterwarnings('ignore')\n",
    "\n",
    "from datetime import datetime"
   ]
  },
  {
   "cell_type": "code",
   "execution_count": 97,
   "metadata": {
    "ExecuteTime": {
     "end_time": "2023-06-14T15:00:39.267110Z",
     "start_time": "2023-06-14T15:00:39.228040Z"
    }
   },
   "outputs": [
    {
     "data": {
      "text/plain": [
       "(27369, 5)"
      ]
     },
     "execution_count": 97,
     "metadata": {},
     "output_type": "execute_result"
    }
   ],
   "source": [
    "X_=pd.read_csv('./pre_weather_0613.csv')\n",
    "X_.shape"
   ]
  },
  {
   "cell_type": "code",
   "execution_count": 99,
   "metadata": {
    "ExecuteTime": {
     "end_time": "2023-06-14T15:00:44.537782Z",
     "start_time": "2023-06-14T15:00:44.524766Z"
    }
   },
   "outputs": [
    {
     "data": {
      "text/html": [
       "<div>\n",
       "<style scoped>\n",
       "    .dataframe tbody tr th:only-of-type {\n",
       "        vertical-align: middle;\n",
       "    }\n",
       "\n",
       "    .dataframe tbody tr th {\n",
       "        vertical-align: top;\n",
       "    }\n",
       "\n",
       "    .dataframe thead th {\n",
       "        text-align: right;\n",
       "    }\n",
       "</style>\n",
       "<table border=\"1\" class=\"dataframe\">\n",
       "  <thead>\n",
       "    <tr style=\"text-align: right;\">\n",
       "      <th></th>\n",
       "      <th>area</th>\n",
       "      <th>day</th>\n",
       "      <th>ap_tmp</th>\n",
       "      <th>sin</th>\n",
       "      <th>dif</th>\n",
       "    </tr>\n",
       "  </thead>\n",
       "  <tbody>\n",
       "    <tr>\n",
       "      <th>0</th>\n",
       "      <td>춘천</td>\n",
       "      <td>2018-06-14</td>\n",
       "      <td>21.812983</td>\n",
       "      <td>0.0</td>\n",
       "      <td>-4.4</td>\n",
       "    </tr>\n",
       "    <tr>\n",
       "      <th>1</th>\n",
       "      <td>춘천</td>\n",
       "      <td>2018-06-15</td>\n",
       "      <td>20.988678</td>\n",
       "      <td>0.0</td>\n",
       "      <td>-7.7</td>\n",
       "    </tr>\n",
       "    <tr>\n",
       "      <th>2</th>\n",
       "      <td>춘천</td>\n",
       "      <td>2018-06-16</td>\n",
       "      <td>23.132924</td>\n",
       "      <td>0.0</td>\n",
       "      <td>-16.0</td>\n",
       "    </tr>\n",
       "    <tr>\n",
       "      <th>3</th>\n",
       "      <td>춘천</td>\n",
       "      <td>2018-06-17</td>\n",
       "      <td>24.451400</td>\n",
       "      <td>0.0</td>\n",
       "      <td>-11.4</td>\n",
       "    </tr>\n",
       "    <tr>\n",
       "      <th>4</th>\n",
       "      <td>춘천</td>\n",
       "      <td>2018-06-18</td>\n",
       "      <td>26.495426</td>\n",
       "      <td>0.0</td>\n",
       "      <td>-14.0</td>\n",
       "    </tr>\n",
       "    <tr>\n",
       "      <th>...</th>\n",
       "      <td>...</td>\n",
       "      <td>...</td>\n",
       "      <td>...</td>\n",
       "      <td>...</td>\n",
       "      <td>...</td>\n",
       "    </tr>\n",
       "    <tr>\n",
       "      <th>27364</th>\n",
       "      <td>제주</td>\n",
       "      <td>2023-06-09</td>\n",
       "      <td>24.071282</td>\n",
       "      <td>0.0</td>\n",
       "      <td>-7.9</td>\n",
       "    </tr>\n",
       "    <tr>\n",
       "      <th>27365</th>\n",
       "      <td>제주</td>\n",
       "      <td>2023-06-10</td>\n",
       "      <td>25.632174</td>\n",
       "      <td>0.0</td>\n",
       "      <td>-10.2</td>\n",
       "    </tr>\n",
       "    <tr>\n",
       "      <th>27366</th>\n",
       "      <td>제주</td>\n",
       "      <td>2023-06-11</td>\n",
       "      <td>23.640235</td>\n",
       "      <td>0.0</td>\n",
       "      <td>-5.8</td>\n",
       "    </tr>\n",
       "    <tr>\n",
       "      <th>27367</th>\n",
       "      <td>제주</td>\n",
       "      <td>2023-06-12</td>\n",
       "      <td>24.004358</td>\n",
       "      <td>0.0</td>\n",
       "      <td>-5.2</td>\n",
       "    </tr>\n",
       "    <tr>\n",
       "      <th>27368</th>\n",
       "      <td>제주</td>\n",
       "      <td>2023-06-13</td>\n",
       "      <td>23.303289</td>\n",
       "      <td>0.0</td>\n",
       "      <td>-5.1</td>\n",
       "    </tr>\n",
       "  </tbody>\n",
       "</table>\n",
       "<p>27369 rows × 5 columns</p>\n",
       "</div>"
      ],
      "text/plain": [
       "      area         day     ap_tmp  sin   dif\n",
       "0       춘천  2018-06-14  21.812983  0.0  -4.4\n",
       "1       춘천  2018-06-15  20.988678  0.0  -7.7\n",
       "2       춘천  2018-06-16  23.132924  0.0 -16.0\n",
       "3       춘천  2018-06-17  24.451400  0.0 -11.4\n",
       "4       춘천  2018-06-18  26.495426  0.0 -14.0\n",
       "...    ...         ...        ...  ...   ...\n",
       "27364   제주  2023-06-09  24.071282  0.0  -7.9\n",
       "27365   제주  2023-06-10  25.632174  0.0 -10.2\n",
       "27366   제주  2023-06-11  23.640235  0.0  -5.8\n",
       "27367   제주  2023-06-12  24.004358  0.0  -5.2\n",
       "27368   제주  2023-06-13  23.303289  0.0  -5.1\n",
       "\n",
       "[27369 rows x 5 columns]"
      ]
     },
     "execution_count": 99,
     "metadata": {},
     "output_type": "execute_result"
    }
   ],
   "source": [
    "X_"
   ]
  },
  {
   "cell_type": "markdown",
   "metadata": {
    "id": "X0G-IBYgbknn"
   },
   "source": [
    "스케일링"
   ]
  },
  {
   "cell_type": "code",
   "execution_count": 100,
   "metadata": {
    "ExecuteTime": {
     "end_time": "2023-06-14T15:00:53.255926Z",
     "start_time": "2023-06-14T15:00:53.242926Z"
    },
    "executionInfo": {
     "elapsed": 305,
     "status": "ok",
     "timestamp": 1686118769150,
     "user": {
      "displayName": "박영서",
      "userId": "12258658121733962728"
     },
     "user_tz": -540
    },
    "id": "-0DC1mJGbkbe"
   },
   "outputs": [],
   "source": [
    "from sklearn.preprocessing import StandardScaler"
   ]
  },
  {
   "cell_type": "code",
   "execution_count": 101,
   "metadata": {
    "ExecuteTime": {
     "end_time": "2023-06-14T15:00:56.768757Z",
     "start_time": "2023-06-14T15:00:56.755757Z"
    },
    "colab": {
     "base_uri": "https://localhost:8080/"
    },
    "executionInfo": {
     "elapsed": 318,
     "status": "ok",
     "timestamp": 1686118770897,
     "user": {
      "displayName": "박영서",
      "userId": "12258658121733962728"
     },
     "user_tz": -540
    },
    "id": "vYntO-nTF5K6",
    "outputId": "e6563206-ac0b-4d5f-ac1d-6a97e2f4b524"
   },
   "outputs": [
    {
     "data": {
      "text/plain": [
       "Index(['area', 'day', 'ap_tmp', 'sin', 'dif'], dtype='object')"
      ]
     },
     "execution_count": 101,
     "metadata": {},
     "output_type": "execute_result"
    }
   ],
   "source": [
    "X_.columns"
   ]
  },
  {
   "cell_type": "code",
   "execution_count": 102,
   "metadata": {
    "ExecuteTime": {
     "end_time": "2023-06-14T15:01:01.952027Z",
     "start_time": "2023-06-14T15:01:01.938189Z"
    },
    "executionInfo": {
     "elapsed": 3,
     "status": "ok",
     "timestamp": 1686118797931,
     "user": {
      "displayName": "박영서",
      "userId": "12258658121733962728"
     },
     "user_tz": -540
    },
    "id": "5kY3uHsIGQQa"
   },
   "outputs": [],
   "source": [
    "cols=['ap_tmp', 'sin', 'dif']"
   ]
  },
  {
   "cell_type": "code",
   "execution_count": 103,
   "metadata": {
    "ExecuteTime": {
     "end_time": "2023-06-14T15:01:29.068061Z",
     "start_time": "2023-06-14T15:01:29.045057Z"
    },
    "colab": {
     "base_uri": "https://localhost:8080/",
     "height": 206
    },
    "executionInfo": {
     "elapsed": 3,
     "status": "ok",
     "timestamp": 1686118799087,
     "user": {
      "displayName": "박영서",
      "userId": "12258658121733962728"
     },
     "user_tz": -540
    },
    "id": "uCBcGjo7bkZo",
    "outputId": "5f9d31d2-0fad-4f38-8ace-ce36de7a32e0"
   },
   "outputs": [
    {
     "data": {
      "text/html": [
       "<div>\n",
       "<style scoped>\n",
       "    .dataframe tbody tr th:only-of-type {\n",
       "        vertical-align: middle;\n",
       "    }\n",
       "\n",
       "    .dataframe tbody tr th {\n",
       "        vertical-align: top;\n",
       "    }\n",
       "\n",
       "    .dataframe thead th {\n",
       "        text-align: right;\n",
       "    }\n",
       "</style>\n",
       "<table border=\"1\" class=\"dataframe\">\n",
       "  <thead>\n",
       "    <tr style=\"text-align: right;\">\n",
       "      <th></th>\n",
       "      <th>area</th>\n",
       "      <th>day</th>\n",
       "      <th>ap_tmp</th>\n",
       "      <th>sin</th>\n",
       "      <th>dif</th>\n",
       "    </tr>\n",
       "  </thead>\n",
       "  <tbody>\n",
       "    <tr>\n",
       "      <th>0</th>\n",
       "      <td>춘천</td>\n",
       "      <td>2018-06-14</td>\n",
       "      <td>0.602081</td>\n",
       "      <td>-0.00024</td>\n",
       "      <td>1.288326</td>\n",
       "    </tr>\n",
       "    <tr>\n",
       "      <th>1</th>\n",
       "      <td>춘천</td>\n",
       "      <td>2018-06-15</td>\n",
       "      <td>0.520280</td>\n",
       "      <td>-0.00024</td>\n",
       "      <td>0.381980</td>\n",
       "    </tr>\n",
       "    <tr>\n",
       "      <th>2</th>\n",
       "      <td>춘천</td>\n",
       "      <td>2018-06-16</td>\n",
       "      <td>0.733066</td>\n",
       "      <td>-0.00024</td>\n",
       "      <td>-1.897619</td>\n",
       "    </tr>\n",
       "    <tr>\n",
       "      <th>3</th>\n",
       "      <td>춘천</td>\n",
       "      <td>2018-06-17</td>\n",
       "      <td>0.863905</td>\n",
       "      <td>-0.00024</td>\n",
       "      <td>-0.634227</td>\n",
       "    </tr>\n",
       "    <tr>\n",
       "      <th>4</th>\n",
       "      <td>춘천</td>\n",
       "      <td>2018-06-18</td>\n",
       "      <td>1.066745</td>\n",
       "      <td>-0.00024</td>\n",
       "      <td>-1.348318</td>\n",
       "    </tr>\n",
       "  </tbody>\n",
       "</table>\n",
       "</div>"
      ],
      "text/plain": [
       "  area         day    ap_tmp      sin       dif\n",
       "0   춘천  2018-06-14  0.602081 -0.00024  1.288326\n",
       "1   춘천  2018-06-15  0.520280 -0.00024  0.381980\n",
       "2   춘천  2018-06-16  0.733066 -0.00024 -1.897619\n",
       "3   춘천  2018-06-17  0.863905 -0.00024 -0.634227\n",
       "4   춘천  2018-06-18  1.066745 -0.00024 -1.348318"
      ]
     },
     "execution_count": 103,
     "metadata": {},
     "output_type": "execute_result"
    }
   ],
   "source": [
    "scaler = StandardScaler()\n",
    "X_scaled = scaler.fit_transform(X_[cols])\n",
    "X_[cols] = X_scaled\n",
    "X_.head()"
   ]
  },
  {
   "cell_type": "markdown",
   "metadata": {
    "id": "CnI8dvm0ATss"
   },
   "source": [
    "분석"
   ]
  },
  {
   "cell_type": "code",
   "execution_count": 104,
   "metadata": {
    "ExecuteTime": {
     "end_time": "2023-06-14T15:01:41.124913Z",
     "start_time": "2023-06-14T15:01:41.108375Z"
    },
    "executionInfo": {
     "elapsed": 289,
     "status": "ok",
     "timestamp": 1686118825672,
     "user": {
      "displayName": "박영서",
      "userId": "12258658121733962728"
     },
     "user_tz": -540
    },
    "id": "Wf1bOaGamgn_"
   },
   "outputs": [],
   "source": [
    "df_area = X_[['area', 'day']]"
   ]
  },
  {
   "cell_type": "code",
   "execution_count": 105,
   "metadata": {
    "ExecuteTime": {
     "end_time": "2023-06-14T15:01:48.146323Z",
     "start_time": "2023-06-14T15:01:48.131879Z"
    }
   },
   "outputs": [
    {
     "data": {
      "text/html": [
       "<div>\n",
       "<style scoped>\n",
       "    .dataframe tbody tr th:only-of-type {\n",
       "        vertical-align: middle;\n",
       "    }\n",
       "\n",
       "    .dataframe tbody tr th {\n",
       "        vertical-align: top;\n",
       "    }\n",
       "\n",
       "    .dataframe thead th {\n",
       "        text-align: right;\n",
       "    }\n",
       "</style>\n",
       "<table border=\"1\" class=\"dataframe\">\n",
       "  <thead>\n",
       "    <tr style=\"text-align: right;\">\n",
       "      <th></th>\n",
       "      <th>area</th>\n",
       "      <th>day</th>\n",
       "      <th>ap_tmp</th>\n",
       "      <th>sin</th>\n",
       "      <th>dif</th>\n",
       "    </tr>\n",
       "  </thead>\n",
       "  <tbody>\n",
       "    <tr>\n",
       "      <th>0</th>\n",
       "      <td>춘천</td>\n",
       "      <td>2018-06-14</td>\n",
       "      <td>0.602081</td>\n",
       "      <td>-0.00024</td>\n",
       "      <td>1.288326</td>\n",
       "    </tr>\n",
       "    <tr>\n",
       "      <th>1</th>\n",
       "      <td>춘천</td>\n",
       "      <td>2018-06-15</td>\n",
       "      <td>0.520280</td>\n",
       "      <td>-0.00024</td>\n",
       "      <td>0.381980</td>\n",
       "    </tr>\n",
       "    <tr>\n",
       "      <th>2</th>\n",
       "      <td>춘천</td>\n",
       "      <td>2018-06-16</td>\n",
       "      <td>0.733066</td>\n",
       "      <td>-0.00024</td>\n",
       "      <td>-1.897619</td>\n",
       "    </tr>\n",
       "    <tr>\n",
       "      <th>3</th>\n",
       "      <td>춘천</td>\n",
       "      <td>2018-06-17</td>\n",
       "      <td>0.863905</td>\n",
       "      <td>-0.00024</td>\n",
       "      <td>-0.634227</td>\n",
       "    </tr>\n",
       "    <tr>\n",
       "      <th>4</th>\n",
       "      <td>춘천</td>\n",
       "      <td>2018-06-18</td>\n",
       "      <td>1.066745</td>\n",
       "      <td>-0.00024</td>\n",
       "      <td>-1.348318</td>\n",
       "    </tr>\n",
       "    <tr>\n",
       "      <th>...</th>\n",
       "      <td>...</td>\n",
       "      <td>...</td>\n",
       "      <td>...</td>\n",
       "      <td>...</td>\n",
       "      <td>...</td>\n",
       "    </tr>\n",
       "    <tr>\n",
       "      <th>27364</th>\n",
       "      <td>제주</td>\n",
       "      <td>2023-06-09</td>\n",
       "      <td>0.826184</td>\n",
       "      <td>-0.00024</td>\n",
       "      <td>0.327050</td>\n",
       "    </tr>\n",
       "    <tr>\n",
       "      <th>27365</th>\n",
       "      <td>제주</td>\n",
       "      <td>2023-06-10</td>\n",
       "      <td>0.981080</td>\n",
       "      <td>-0.00024</td>\n",
       "      <td>-0.304646</td>\n",
       "    </tr>\n",
       "    <tr>\n",
       "      <th>27366</th>\n",
       "      <td>제주</td>\n",
       "      <td>2023-06-11</td>\n",
       "      <td>0.783409</td>\n",
       "      <td>-0.00024</td>\n",
       "      <td>0.903816</td>\n",
       "    </tr>\n",
       "    <tr>\n",
       "      <th>27367</th>\n",
       "      <td>제주</td>\n",
       "      <td>2023-06-12</td>\n",
       "      <td>0.819543</td>\n",
       "      <td>-0.00024</td>\n",
       "      <td>1.068606</td>\n",
       "    </tr>\n",
       "    <tr>\n",
       "      <th>27368</th>\n",
       "      <td>제주</td>\n",
       "      <td>2023-06-13</td>\n",
       "      <td>0.749972</td>\n",
       "      <td>-0.00024</td>\n",
       "      <td>1.096071</td>\n",
       "    </tr>\n",
       "  </tbody>\n",
       "</table>\n",
       "<p>27369 rows × 5 columns</p>\n",
       "</div>"
      ],
      "text/plain": [
       "      area         day    ap_tmp      sin       dif\n",
       "0       춘천  2018-06-14  0.602081 -0.00024  1.288326\n",
       "1       춘천  2018-06-15  0.520280 -0.00024  0.381980\n",
       "2       춘천  2018-06-16  0.733066 -0.00024 -1.897619\n",
       "3       춘천  2018-06-17  0.863905 -0.00024 -0.634227\n",
       "4       춘천  2018-06-18  1.066745 -0.00024 -1.348318\n",
       "...    ...         ...       ...      ...       ...\n",
       "27364   제주  2023-06-09  0.826184 -0.00024  0.327050\n",
       "27365   제주  2023-06-10  0.981080 -0.00024 -0.304646\n",
       "27366   제주  2023-06-11  0.783409 -0.00024  0.903816\n",
       "27367   제주  2023-06-12  0.819543 -0.00024  1.068606\n",
       "27368   제주  2023-06-13  0.749972 -0.00024  1.096071\n",
       "\n",
       "[27369 rows x 5 columns]"
      ]
     },
     "execution_count": 105,
     "metadata": {},
     "output_type": "execute_result"
    }
   ],
   "source": [
    "X_"
   ]
  },
  {
   "cell_type": "code",
   "execution_count": 106,
   "metadata": {
    "ExecuteTime": {
     "end_time": "2023-06-14T15:01:54.032341Z",
     "start_time": "2023-06-14T15:01:54.020233Z"
    }
   },
   "outputs": [
    {
     "data": {
      "text/html": [
       "<div>\n",
       "<style scoped>\n",
       "    .dataframe tbody tr th:only-of-type {\n",
       "        vertical-align: middle;\n",
       "    }\n",
       "\n",
       "    .dataframe tbody tr th {\n",
       "        vertical-align: top;\n",
       "    }\n",
       "\n",
       "    .dataframe thead th {\n",
       "        text-align: right;\n",
       "    }\n",
       "</style>\n",
       "<table border=\"1\" class=\"dataframe\">\n",
       "  <thead>\n",
       "    <tr style=\"text-align: right;\">\n",
       "      <th></th>\n",
       "      <th>area</th>\n",
       "      <th>day</th>\n",
       "    </tr>\n",
       "  </thead>\n",
       "  <tbody>\n",
       "    <tr>\n",
       "      <th>0</th>\n",
       "      <td>춘천</td>\n",
       "      <td>2018-06-14</td>\n",
       "    </tr>\n",
       "    <tr>\n",
       "      <th>1</th>\n",
       "      <td>춘천</td>\n",
       "      <td>2018-06-15</td>\n",
       "    </tr>\n",
       "    <tr>\n",
       "      <th>2</th>\n",
       "      <td>춘천</td>\n",
       "      <td>2018-06-16</td>\n",
       "    </tr>\n",
       "    <tr>\n",
       "      <th>3</th>\n",
       "      <td>춘천</td>\n",
       "      <td>2018-06-17</td>\n",
       "    </tr>\n",
       "    <tr>\n",
       "      <th>4</th>\n",
       "      <td>춘천</td>\n",
       "      <td>2018-06-18</td>\n",
       "    </tr>\n",
       "    <tr>\n",
       "      <th>...</th>\n",
       "      <td>...</td>\n",
       "      <td>...</td>\n",
       "    </tr>\n",
       "    <tr>\n",
       "      <th>27364</th>\n",
       "      <td>제주</td>\n",
       "      <td>2023-06-09</td>\n",
       "    </tr>\n",
       "    <tr>\n",
       "      <th>27365</th>\n",
       "      <td>제주</td>\n",
       "      <td>2023-06-10</td>\n",
       "    </tr>\n",
       "    <tr>\n",
       "      <th>27366</th>\n",
       "      <td>제주</td>\n",
       "      <td>2023-06-11</td>\n",
       "    </tr>\n",
       "    <tr>\n",
       "      <th>27367</th>\n",
       "      <td>제주</td>\n",
       "      <td>2023-06-12</td>\n",
       "    </tr>\n",
       "    <tr>\n",
       "      <th>27368</th>\n",
       "      <td>제주</td>\n",
       "      <td>2023-06-13</td>\n",
       "    </tr>\n",
       "  </tbody>\n",
       "</table>\n",
       "<p>27369 rows × 2 columns</p>\n",
       "</div>"
      ],
      "text/plain": [
       "      area         day\n",
       "0       춘천  2018-06-14\n",
       "1       춘천  2018-06-15\n",
       "2       춘천  2018-06-16\n",
       "3       춘천  2018-06-17\n",
       "4       춘천  2018-06-18\n",
       "...    ...         ...\n",
       "27364   제주  2023-06-09\n",
       "27365   제주  2023-06-10\n",
       "27366   제주  2023-06-11\n",
       "27367   제주  2023-06-12\n",
       "27368   제주  2023-06-13\n",
       "\n",
       "[27369 rows x 2 columns]"
      ]
     },
     "execution_count": 106,
     "metadata": {},
     "output_type": "execute_result"
    }
   ],
   "source": [
    "df_area"
   ]
  },
  {
   "cell_type": "code",
   "execution_count": 107,
   "metadata": {
    "ExecuteTime": {
     "end_time": "2023-06-14T15:01:57.773968Z",
     "start_time": "2023-06-14T15:01:57.751965Z"
    }
   },
   "outputs": [
    {
     "data": {
      "text/html": [
       "<div>\n",
       "<style scoped>\n",
       "    .dataframe tbody tr th:only-of-type {\n",
       "        vertical-align: middle;\n",
       "    }\n",
       "\n",
       "    .dataframe tbody tr th {\n",
       "        vertical-align: top;\n",
       "    }\n",
       "\n",
       "    .dataframe thead th {\n",
       "        text-align: right;\n",
       "    }\n",
       "</style>\n",
       "<table border=\"1\" class=\"dataframe\">\n",
       "  <thead>\n",
       "    <tr style=\"text-align: right;\">\n",
       "      <th></th>\n",
       "      <th>area</th>\n",
       "      <th>day</th>\n",
       "      <th>ap_tmp</th>\n",
       "      <th>sin</th>\n",
       "      <th>dif</th>\n",
       "    </tr>\n",
       "  </thead>\n",
       "  <tbody>\n",
       "    <tr>\n",
       "      <th>0</th>\n",
       "      <td>춘천</td>\n",
       "      <td>2018-06-14</td>\n",
       "      <td>0.602081</td>\n",
       "      <td>-0.00024</td>\n",
       "      <td>1.288326</td>\n",
       "    </tr>\n",
       "    <tr>\n",
       "      <th>1</th>\n",
       "      <td>춘천</td>\n",
       "      <td>2018-06-15</td>\n",
       "      <td>0.520280</td>\n",
       "      <td>-0.00024</td>\n",
       "      <td>0.381980</td>\n",
       "    </tr>\n",
       "    <tr>\n",
       "      <th>2</th>\n",
       "      <td>춘천</td>\n",
       "      <td>2018-06-16</td>\n",
       "      <td>0.733066</td>\n",
       "      <td>-0.00024</td>\n",
       "      <td>-1.897619</td>\n",
       "    </tr>\n",
       "    <tr>\n",
       "      <th>3</th>\n",
       "      <td>춘천</td>\n",
       "      <td>2018-06-17</td>\n",
       "      <td>0.863905</td>\n",
       "      <td>-0.00024</td>\n",
       "      <td>-0.634227</td>\n",
       "    </tr>\n",
       "    <tr>\n",
       "      <th>4</th>\n",
       "      <td>춘천</td>\n",
       "      <td>2018-06-18</td>\n",
       "      <td>1.066745</td>\n",
       "      <td>-0.00024</td>\n",
       "      <td>-1.348318</td>\n",
       "    </tr>\n",
       "    <tr>\n",
       "      <th>...</th>\n",
       "      <td>...</td>\n",
       "      <td>...</td>\n",
       "      <td>...</td>\n",
       "      <td>...</td>\n",
       "      <td>...</td>\n",
       "    </tr>\n",
       "    <tr>\n",
       "      <th>27364</th>\n",
       "      <td>제주</td>\n",
       "      <td>2023-06-09</td>\n",
       "      <td>0.826184</td>\n",
       "      <td>-0.00024</td>\n",
       "      <td>0.327050</td>\n",
       "    </tr>\n",
       "    <tr>\n",
       "      <th>27365</th>\n",
       "      <td>제주</td>\n",
       "      <td>2023-06-10</td>\n",
       "      <td>0.981080</td>\n",
       "      <td>-0.00024</td>\n",
       "      <td>-0.304646</td>\n",
       "    </tr>\n",
       "    <tr>\n",
       "      <th>27366</th>\n",
       "      <td>제주</td>\n",
       "      <td>2023-06-11</td>\n",
       "      <td>0.783409</td>\n",
       "      <td>-0.00024</td>\n",
       "      <td>0.903816</td>\n",
       "    </tr>\n",
       "    <tr>\n",
       "      <th>27367</th>\n",
       "      <td>제주</td>\n",
       "      <td>2023-06-12</td>\n",
       "      <td>0.819543</td>\n",
       "      <td>-0.00024</td>\n",
       "      <td>1.068606</td>\n",
       "    </tr>\n",
       "    <tr>\n",
       "      <th>27368</th>\n",
       "      <td>제주</td>\n",
       "      <td>2023-06-13</td>\n",
       "      <td>0.749972</td>\n",
       "      <td>-0.00024</td>\n",
       "      <td>1.096071</td>\n",
       "    </tr>\n",
       "  </tbody>\n",
       "</table>\n",
       "<p>27369 rows × 5 columns</p>\n",
       "</div>"
      ],
      "text/plain": [
       "      area         day    ap_tmp      sin       dif\n",
       "0       춘천  2018-06-14  0.602081 -0.00024  1.288326\n",
       "1       춘천  2018-06-15  0.520280 -0.00024  0.381980\n",
       "2       춘천  2018-06-16  0.733066 -0.00024 -1.897619\n",
       "3       춘천  2018-06-17  0.863905 -0.00024 -0.634227\n",
       "4       춘천  2018-06-18  1.066745 -0.00024 -1.348318\n",
       "...    ...         ...       ...      ...       ...\n",
       "27364   제주  2023-06-09  0.826184 -0.00024  0.327050\n",
       "27365   제주  2023-06-10  0.981080 -0.00024 -0.304646\n",
       "27366   제주  2023-06-11  0.783409 -0.00024  0.903816\n",
       "27367   제주  2023-06-12  0.819543 -0.00024  1.068606\n",
       "27368   제주  2023-06-13  0.749972 -0.00024  1.096071\n",
       "\n",
       "[27369 rows x 5 columns]"
      ]
     },
     "execution_count": 107,
     "metadata": {},
     "output_type": "execute_result"
    }
   ],
   "source": [
    "X_"
   ]
  },
  {
   "cell_type": "code",
   "execution_count": 108,
   "metadata": {
    "ExecuteTime": {
     "end_time": "2023-06-14T15:02:03.625769Z",
     "start_time": "2023-06-14T15:02:03.618775Z"
    }
   },
   "outputs": [],
   "source": [
    "X=X_.drop(['area', 'day'], axis=1)"
   ]
  },
  {
   "cell_type": "code",
   "execution_count": 109,
   "metadata": {
    "ExecuteTime": {
     "end_time": "2023-06-14T15:02:04.654361Z",
     "start_time": "2023-06-14T15:02:04.638885Z"
    },
    "colab": {
     "base_uri": "https://localhost:8080/",
     "height": 206
    },
    "executionInfo": {
     "elapsed": 630,
     "status": "ok",
     "timestamp": 1686118840734,
     "user": {
      "displayName": "박영서",
      "userId": "12258658121733962728"
     },
     "user_tz": -540
    },
    "id": "gpiBKYj9ivzR",
    "outputId": "f6efba08-5cb6-45ac-f104-f377c969f0de"
   },
   "outputs": [
    {
     "data": {
      "text/html": [
       "<div>\n",
       "<style scoped>\n",
       "    .dataframe tbody tr th:only-of-type {\n",
       "        vertical-align: middle;\n",
       "    }\n",
       "\n",
       "    .dataframe tbody tr th {\n",
       "        vertical-align: top;\n",
       "    }\n",
       "\n",
       "    .dataframe thead th {\n",
       "        text-align: right;\n",
       "    }\n",
       "</style>\n",
       "<table border=\"1\" class=\"dataframe\">\n",
       "  <thead>\n",
       "    <tr style=\"text-align: right;\">\n",
       "      <th></th>\n",
       "      <th>ap_tmp</th>\n",
       "      <th>sin</th>\n",
       "      <th>dif</th>\n",
       "    </tr>\n",
       "  </thead>\n",
       "  <tbody>\n",
       "    <tr>\n",
       "      <th>0</th>\n",
       "      <td>0.602081</td>\n",
       "      <td>-0.00024</td>\n",
       "      <td>1.288326</td>\n",
       "    </tr>\n",
       "    <tr>\n",
       "      <th>1</th>\n",
       "      <td>0.520280</td>\n",
       "      <td>-0.00024</td>\n",
       "      <td>0.381980</td>\n",
       "    </tr>\n",
       "    <tr>\n",
       "      <th>2</th>\n",
       "      <td>0.733066</td>\n",
       "      <td>-0.00024</td>\n",
       "      <td>-1.897619</td>\n",
       "    </tr>\n",
       "    <tr>\n",
       "      <th>3</th>\n",
       "      <td>0.863905</td>\n",
       "      <td>-0.00024</td>\n",
       "      <td>-0.634227</td>\n",
       "    </tr>\n",
       "    <tr>\n",
       "      <th>4</th>\n",
       "      <td>1.066745</td>\n",
       "      <td>-0.00024</td>\n",
       "      <td>-1.348318</td>\n",
       "    </tr>\n",
       "  </tbody>\n",
       "</table>\n",
       "</div>"
      ],
      "text/plain": [
       "     ap_tmp      sin       dif\n",
       "0  0.602081 -0.00024  1.288326\n",
       "1  0.520280 -0.00024  0.381980\n",
       "2  0.733066 -0.00024 -1.897619\n",
       "3  0.863905 -0.00024 -0.634227\n",
       "4  1.066745 -0.00024 -1.348318"
      ]
     },
     "execution_count": 109,
     "metadata": {},
     "output_type": "execute_result"
    }
   ],
   "source": [
    "X.head()"
   ]
  },
  {
   "cell_type": "markdown",
   "metadata": {
    "id": "HEqnhUurhKuy"
   },
   "source": [
    "# k 값"
   ]
  },
  {
   "cell_type": "code",
   "execution_count": 111,
   "metadata": {
    "ExecuteTime": {
     "end_time": "2023-06-14T15:03:07.706367Z",
     "start_time": "2023-06-14T15:02:29.217562Z"
    },
    "colab": {
     "base_uri": "https://localhost:8080/",
     "height": 472
    },
    "executionInfo": {
     "elapsed": 630476,
     "status": "ok",
     "timestamp": 1686119612175,
     "user": {
      "displayName": "박영서",
      "userId": "12258658121733962728"
     },
     "user_tz": -540
    },
    "id": "J3HJwSsNhNVT",
    "outputId": "1582bcc5-1000-4199-b0e7-378d65882e0d"
   },
   "outputs": [
    {
     "data": {
      "image/png": "[encoded data removed]",
      "text/plain": [
       "<Figure size 640x480 with 1 Axes>"
      ]
     },
     "metadata": {},
     "output_type": "display_data"
    }
   ],
   "source": [
    "import numpy as np\n",
    "import matplotlib.pyplot as plt\n",
    "from sklearn.cluster import KMeans\n",
    "from sklearn.metrics import silhouette_score\n",
    "\n",
    "# 데이터 준비\n",
    "\n",
    "# 가중치 설정\n",
    "weights = [0.6, 0.3, 0.1]  # 각 열에 대한 가중치 설정\n",
    "\n",
    "# weights = [1, 1, 1]\n",
    "\n",
    "# 데이터셋에 가중치 적용\n",
    "weighted_data = X * weights\n",
    "\n",
    "# 클러스터의 개수(k) 범위 설정\n",
    "k_values = range(12, 18)\n",
    "silhouette_scores = []\n",
    "\n",
    "# k 값에 따른 실루엣 계수 계산\n",
    "for k in k_values:\n",
    "    kmeans = KMeans(n_clusters=k, random_state=42)\n",
    "    kmeans.fit(weighted_data)\n",
    "    labels = kmeans.labels_\n",
    "    score = silhouette_score(weighted_data, labels)\n",
    "    silhouette_scores.append(score)\n",
    "\n",
    "# 실루엣 계수 그래프 그리기\n",
    "plt.plot(k_values, silhouette_scores, 'bx-')\n",
    "plt.xlabel('Number of Clusters (k)')\n",
    "plt.ylabel('Silhouette Score')\n",
    "plt.title('Silhouette Method')\n",
    "plt.show()"
   ]
  },
  {
   "cell_type": "code",
   "execution_count": 112,
   "metadata": {
    "ExecuteTime": {
     "end_time": "2023-06-14T15:03:24.632414Z",
     "start_time": "2023-06-14T15:03:24.384591Z"
    }
   },
   "outputs": [
    {
     "name": "stdout",
     "output_type": "stream",
     "text": [
      "Labels: [7 7 7 ... 7 7 7]\n",
      "Centroids: [[ 8.28495869e-01  2.51547724e-03  1.91718656e-02]\n",
      " [-4.01265131e-01  3.96046513e-04  3.07875953e-02]\n",
      " [-3.76063293e-02 -3.73964838e-01 -2.60167782e-02]\n",
      " [-8.48058841e-01  2.99363796e-01 -7.67920012e-03]\n",
      " [ 6.14769108e-02  3.86566798e-01 -4.12542794e-02]\n",
      " [-5.11238742e-01  3.69741143e-01 -2.77925628e-02]\n",
      " [ 2.78540504e-01 -4.21218727e-01  2.11226134e-02]\n",
      " [ 5.01121013e-01  4.64317428e-04  4.77427675e-02]\n",
      " [ 8.66749781e-01 -2.98736502e-01  4.88229107e-02]\n",
      " [-9.60182918e-01 -5.17840558e-03 -9.31407135e-03]\n",
      " [ 5.67688108e-01 -3.92712864e-01  5.84641960e-02]\n",
      " [ 3.67292489e-01  3.10302778e-01 -5.53816941e-02]\n",
      " [-1.31417657e+00  5.86760972e-02  2.52624600e-03]\n",
      " [-3.50406566e-01 -3.16974252e-01 -4.19390093e-02]\n",
      " [-2.30231179e-01  4.10462477e-01 -4.25324178e-02]\n",
      " [-6.90455061e-01 -2.65681424e-02  6.66828209e-03]]\n"
     ]
    }
   ],
   "source": [
    "from sklearn.cluster import KMeans\n",
    "\n",
    "# 가중치 설정\n",
    "weights = [0.6, 0.3, 0.1]  # 각 열에 대한 가중치 설정\n",
    "\n",
    "# KMeans 모델 초기화\n",
    "km_model = KMeans(n_clusters=16, random_state=0)\n",
    "\n",
    "# 데이터셋에 가중치 적용\n",
    "weighted_data = X * weights\n",
    "\n",
    "# 클러스터링 모델 훈련\n",
    "kmeans_model = km_model.fit(weighted_data)\n",
    "\n",
    "# 클러스터링 결과 확인\n",
    "labels = kmeans_model.labels_\n",
    "centroids = kmeans_model.cluster_centers_\n",
    "\n",
    "# 결과 출력 또는 저장 등 추가 작업 수행\n",
    "print(\"Labels:\", labels)\n",
    "print(\"Centroids:\", centroids)\n"
   ]
  },
  {
   "cell_type": "code",
   "execution_count": 136,
   "metadata": {
    "ExecuteTime": {
     "end_time": "2023-06-14T15:32:13.348765Z",
     "start_time": "2023-06-14T15:32:13.334851Z"
    }
   },
   "outputs": [],
   "source": [
    "import pickle\n",
    "\n",
    "# K-means 모델 저장\n",
    "with open('kmeans_model.pkl', 'wb') as f:\n",
    "    pickle.dump(km_model, f)\n",
    "\n",
    "# 스케일러 저장\n",
    "with open('scaler.pkl', 'wb') as f:\n",
    "    pickle.dump(scaler, f)"
   ]
  },
  {
   "cell_type": "code",
   "execution_count": 113,
   "metadata": {
    "ExecuteTime": {
     "end_time": "2023-06-14T15:03:42.386352Z",
     "start_time": "2023-06-14T15:03:42.363694Z"
    }
   },
   "outputs": [
    {
     "data": {
      "text/html": [
       "<div>\n",
       "<style scoped>\n",
       "    .dataframe tbody tr th:only-of-type {\n",
       "        vertical-align: middle;\n",
       "    }\n",
       "\n",
       "    .dataframe tbody tr th {\n",
       "        vertical-align: top;\n",
       "    }\n",
       "\n",
       "    .dataframe thead th {\n",
       "        text-align: right;\n",
       "    }\n",
       "</style>\n",
       "<table border=\"1\" class=\"dataframe\">\n",
       "  <thead>\n",
       "    <tr style=\"text-align: right;\">\n",
       "      <th></th>\n",
       "      <th>area</th>\n",
       "      <th>day</th>\n",
       "      <th>ap_tmp</th>\n",
       "      <th>sin</th>\n",
       "      <th>dif</th>\n",
       "    </tr>\n",
       "  </thead>\n",
       "  <tbody>\n",
       "    <tr>\n",
       "      <th>0</th>\n",
       "      <td>춘천</td>\n",
       "      <td>2018-06-14</td>\n",
       "      <td>0.602081</td>\n",
       "      <td>-0.00024</td>\n",
       "      <td>1.288326</td>\n",
       "    </tr>\n",
       "    <tr>\n",
       "      <th>1</th>\n",
       "      <td>춘천</td>\n",
       "      <td>2018-06-15</td>\n",
       "      <td>0.520280</td>\n",
       "      <td>-0.00024</td>\n",
       "      <td>0.381980</td>\n",
       "    </tr>\n",
       "    <tr>\n",
       "      <th>2</th>\n",
       "      <td>춘천</td>\n",
       "      <td>2018-06-16</td>\n",
       "      <td>0.733066</td>\n",
       "      <td>-0.00024</td>\n",
       "      <td>-1.897619</td>\n",
       "    </tr>\n",
       "    <tr>\n",
       "      <th>3</th>\n",
       "      <td>춘천</td>\n",
       "      <td>2018-06-17</td>\n",
       "      <td>0.863905</td>\n",
       "      <td>-0.00024</td>\n",
       "      <td>-0.634227</td>\n",
       "    </tr>\n",
       "    <tr>\n",
       "      <th>4</th>\n",
       "      <td>춘천</td>\n",
       "      <td>2018-06-18</td>\n",
       "      <td>1.066745</td>\n",
       "      <td>-0.00024</td>\n",
       "      <td>-1.348318</td>\n",
       "    </tr>\n",
       "    <tr>\n",
       "      <th>...</th>\n",
       "      <td>...</td>\n",
       "      <td>...</td>\n",
       "      <td>...</td>\n",
       "      <td>...</td>\n",
       "      <td>...</td>\n",
       "    </tr>\n",
       "    <tr>\n",
       "      <th>27364</th>\n",
       "      <td>제주</td>\n",
       "      <td>2023-06-09</td>\n",
       "      <td>0.826184</td>\n",
       "      <td>-0.00024</td>\n",
       "      <td>0.327050</td>\n",
       "    </tr>\n",
       "    <tr>\n",
       "      <th>27365</th>\n",
       "      <td>제주</td>\n",
       "      <td>2023-06-10</td>\n",
       "      <td>0.981080</td>\n",
       "      <td>-0.00024</td>\n",
       "      <td>-0.304646</td>\n",
       "    </tr>\n",
       "    <tr>\n",
       "      <th>27366</th>\n",
       "      <td>제주</td>\n",
       "      <td>2023-06-11</td>\n",
       "      <td>0.783409</td>\n",
       "      <td>-0.00024</td>\n",
       "      <td>0.903816</td>\n",
       "    </tr>\n",
       "    <tr>\n",
       "      <th>27367</th>\n",
       "      <td>제주</td>\n",
       "      <td>2023-06-12</td>\n",
       "      <td>0.819543</td>\n",
       "      <td>-0.00024</td>\n",
       "      <td>1.068606</td>\n",
       "    </tr>\n",
       "    <tr>\n",
       "      <th>27368</th>\n",
       "      <td>제주</td>\n",
       "      <td>2023-06-13</td>\n",
       "      <td>0.749972</td>\n",
       "      <td>-0.00024</td>\n",
       "      <td>1.096071</td>\n",
       "    </tr>\n",
       "  </tbody>\n",
       "</table>\n",
       "<p>27369 rows × 5 columns</p>\n",
       "</div>"
      ],
      "text/plain": [
       "      area         day    ap_tmp      sin       dif\n",
       "0       춘천  2018-06-14  0.602081 -0.00024  1.288326\n",
       "1       춘천  2018-06-15  0.520280 -0.00024  0.381980\n",
       "2       춘천  2018-06-16  0.733066 -0.00024 -1.897619\n",
       "3       춘천  2018-06-17  0.863905 -0.00024 -0.634227\n",
       "4       춘천  2018-06-18  1.066745 -0.00024 -1.348318\n",
       "...    ...         ...       ...      ...       ...\n",
       "27364   제주  2023-06-09  0.826184 -0.00024  0.327050\n",
       "27365   제주  2023-06-10  0.981080 -0.00024 -0.304646\n",
       "27366   제주  2023-06-11  0.783409 -0.00024  0.903816\n",
       "27367   제주  2023-06-12  0.819543 -0.00024  1.068606\n",
       "27368   제주  2023-06-13  0.749972 -0.00024  1.096071\n",
       "\n",
       "[27369 rows x 5 columns]"
      ]
     },
     "execution_count": 113,
     "metadata": {},
     "output_type": "execute_result"
    }
   ],
   "source": [
    "X_"
   ]
  },
  {
   "cell_type": "code",
   "execution_count": 114,
   "metadata": {
    "ExecuteTime": {
     "end_time": "2023-06-14T15:03:46.164593Z",
     "start_time": "2023-06-14T15:03:46.158285Z"
    }
   },
   "outputs": [],
   "source": [
    "X_['label'] = labels"
   ]
  },
  {
   "cell_type": "code",
   "execution_count": 116,
   "metadata": {
    "ExecuteTime": {
     "end_time": "2023-06-14T15:03:56.137400Z",
     "start_time": "2023-06-14T15:03:56.120310Z"
    }
   },
   "outputs": [
    {
     "data": {
      "text/html": [
       "<div>\n",
       "<style scoped>\n",
       "    .dataframe tbody tr th:only-of-type {\n",
       "        vertical-align: middle;\n",
       "    }\n",
       "\n",
       "    .dataframe tbody tr th {\n",
       "        vertical-align: top;\n",
       "    }\n",
       "\n",
       "    .dataframe thead th {\n",
       "        text-align: right;\n",
       "    }\n",
       "</style>\n",
       "<table border=\"1\" class=\"dataframe\">\n",
       "  <thead>\n",
       "    <tr style=\"text-align: right;\">\n",
       "      <th></th>\n",
       "      <th>area</th>\n",
       "      <th>day</th>\n",
       "      <th>ap_tmp</th>\n",
       "      <th>sin</th>\n",
       "      <th>dif</th>\n",
       "      <th>label</th>\n",
       "    </tr>\n",
       "  </thead>\n",
       "  <tbody>\n",
       "    <tr>\n",
       "      <th>330</th>\n",
       "      <td>춘천</td>\n",
       "      <td>2019-05-10</td>\n",
       "      <td>0.427296</td>\n",
       "      <td>1.156224</td>\n",
       "      <td>-3.463126</td>\n",
       "      <td>11</td>\n",
       "    </tr>\n",
       "    <tr>\n",
       "      <th>331</th>\n",
       "      <td>춘천</td>\n",
       "      <td>2019-05-11</td>\n",
       "      <td>0.619041</td>\n",
       "      <td>1.140689</td>\n",
       "      <td>-2.776500</td>\n",
       "      <td>11</td>\n",
       "    </tr>\n",
       "    <tr>\n",
       "      <th>332</th>\n",
       "      <td>춘천</td>\n",
       "      <td>2019-05-12</td>\n",
       "      <td>0.626217</td>\n",
       "      <td>1.124814</td>\n",
       "      <td>-1.870154</td>\n",
       "      <td>11</td>\n",
       "    </tr>\n",
       "    <tr>\n",
       "      <th>333</th>\n",
       "      <td>춘천</td>\n",
       "      <td>2019-05-13</td>\n",
       "      <td>0.457877</td>\n",
       "      <td>1.108604</td>\n",
       "      <td>0.134794</td>\n",
       "      <td>11</td>\n",
       "    </tr>\n",
       "    <tr>\n",
       "      <th>334</th>\n",
       "      <td>춘천</td>\n",
       "      <td>2019-05-14</td>\n",
       "      <td>0.556845</td>\n",
       "      <td>1.092064</td>\n",
       "      <td>-1.650433</td>\n",
       "      <td>11</td>\n",
       "    </tr>\n",
       "    <tr>\n",
       "      <th>...</th>\n",
       "      <td>...</td>\n",
       "      <td>...</td>\n",
       "      <td>...</td>\n",
       "      <td>...</td>\n",
       "      <td>...</td>\n",
       "      <td>...</td>\n",
       "    </tr>\n",
       "    <tr>\n",
       "      <th>27364</th>\n",
       "      <td>제주</td>\n",
       "      <td>2023-06-09</td>\n",
       "      <td>0.826184</td>\n",
       "      <td>-0.000240</td>\n",
       "      <td>0.327050</td>\n",
       "      <td>7</td>\n",
       "    </tr>\n",
       "    <tr>\n",
       "      <th>27365</th>\n",
       "      <td>제주</td>\n",
       "      <td>2023-06-10</td>\n",
       "      <td>0.981080</td>\n",
       "      <td>-0.000240</td>\n",
       "      <td>-0.304646</td>\n",
       "      <td>7</td>\n",
       "    </tr>\n",
       "    <tr>\n",
       "      <th>27366</th>\n",
       "      <td>제주</td>\n",
       "      <td>2023-06-11</td>\n",
       "      <td>0.783409</td>\n",
       "      <td>-0.000240</td>\n",
       "      <td>0.903816</td>\n",
       "      <td>7</td>\n",
       "    </tr>\n",
       "    <tr>\n",
       "      <th>27367</th>\n",
       "      <td>제주</td>\n",
       "      <td>2023-06-12</td>\n",
       "      <td>0.819543</td>\n",
       "      <td>-0.000240</td>\n",
       "      <td>1.068606</td>\n",
       "      <td>7</td>\n",
       "    </tr>\n",
       "    <tr>\n",
       "      <th>27368</th>\n",
       "      <td>제주</td>\n",
       "      <td>2023-06-13</td>\n",
       "      <td>0.749972</td>\n",
       "      <td>-0.000240</td>\n",
       "      <td>1.096071</td>\n",
       "      <td>7</td>\n",
       "    </tr>\n",
       "  </tbody>\n",
       "</table>\n",
       "<p>27039 rows × 6 columns</p>\n",
       "</div>"
      ],
      "text/plain": [
       "      area         day    ap_tmp       sin       dif  label\n",
       "330     춘천  2019-05-10  0.427296  1.156224 -3.463126     11\n",
       "331     춘천  2019-05-11  0.619041  1.140689 -2.776500     11\n",
       "332     춘천  2019-05-12  0.626217  1.124814 -1.870154     11\n",
       "333     춘천  2019-05-13  0.457877  1.108604  0.134794     11\n",
       "334     춘천  2019-05-14  0.556845  1.092064 -1.650433     11\n",
       "...    ...         ...       ...       ...       ...    ...\n",
       "27364   제주  2023-06-09  0.826184 -0.000240  0.327050      7\n",
       "27365   제주  2023-06-10  0.981080 -0.000240 -0.304646      7\n",
       "27366   제주  2023-06-11  0.783409 -0.000240  0.903816      7\n",
       "27367   제주  2023-06-12  0.819543 -0.000240  1.068606      7\n",
       "27368   제주  2023-06-13  0.749972 -0.000240  1.096071      7\n",
       "\n",
       "[27039 rows x 6 columns]"
      ]
     },
     "execution_count": 116,
     "metadata": {},
     "output_type": "execute_result"
    }
   ],
   "source": [
    "X_[330:]"
   ]
  },
  {
   "cell_type": "code",
   "execution_count": 117,
   "metadata": {
    "ExecuteTime": {
     "end_time": "2023-06-14T15:04:02.428846Z",
     "start_time": "2023-06-14T15:04:02.408279Z"
    }
   },
   "outputs": [
    {
     "data": {
      "text/html": [
       "<div>\n",
       "<style scoped>\n",
       "    .dataframe tbody tr th:only-of-type {\n",
       "        vertical-align: middle;\n",
       "    }\n",
       "\n",
       "    .dataframe tbody tr th {\n",
       "        vertical-align: top;\n",
       "    }\n",
       "\n",
       "    .dataframe thead th {\n",
       "        text-align: right;\n",
       "    }\n",
       "</style>\n",
       "<table border=\"1\" class=\"dataframe\">\n",
       "  <thead>\n",
       "    <tr style=\"text-align: right;\">\n",
       "      <th></th>\n",
       "      <th>area</th>\n",
       "      <th>day</th>\n",
       "      <th>ap_tmp</th>\n",
       "      <th>sin</th>\n",
       "      <th>dif</th>\n",
       "      <th>label</th>\n",
       "    </tr>\n",
       "  </thead>\n",
       "  <tbody>\n",
       "    <tr>\n",
       "      <th>465</th>\n",
       "      <td>춘천</td>\n",
       "      <td>2019-09-25</td>\n",
       "      <td>0.484101</td>\n",
       "      <td>-1.451723</td>\n",
       "      <td>-0.634227</td>\n",
       "      <td>6</td>\n",
       "    </tr>\n",
       "    <tr>\n",
       "      <th>466</th>\n",
       "      <td>춘천</td>\n",
       "      <td>2019-09-26</td>\n",
       "      <td>0.663456</td>\n",
       "      <td>-1.454111</td>\n",
       "      <td>-0.853947</td>\n",
       "      <td>6</td>\n",
       "    </tr>\n",
       "    <tr>\n",
       "      <th>467</th>\n",
       "      <td>춘천</td>\n",
       "      <td>2019-09-27</td>\n",
       "      <td>0.673421</td>\n",
       "      <td>-1.456066</td>\n",
       "      <td>-0.277181</td>\n",
       "      <td>6</td>\n",
       "    </tr>\n",
       "    <tr>\n",
       "      <th>468</th>\n",
       "      <td>춘천</td>\n",
       "      <td>2019-09-28</td>\n",
       "      <td>0.793190</td>\n",
       "      <td>-1.457586</td>\n",
       "      <td>-0.579297</td>\n",
       "      <td>10</td>\n",
       "    </tr>\n",
       "    <tr>\n",
       "      <th>469</th>\n",
       "      <td>춘천</td>\n",
       "      <td>2019-09-29</td>\n",
       "      <td>0.621453</td>\n",
       "      <td>-1.458673</td>\n",
       "      <td>-0.936342</td>\n",
       "      <td>6</td>\n",
       "    </tr>\n",
       "    <tr>\n",
       "      <th>...</th>\n",
       "      <td>...</td>\n",
       "      <td>...</td>\n",
       "      <td>...</td>\n",
       "      <td>...</td>\n",
       "      <td>...</td>\n",
       "      <td>...</td>\n",
       "    </tr>\n",
       "    <tr>\n",
       "      <th>27364</th>\n",
       "      <td>제주</td>\n",
       "      <td>2023-06-09</td>\n",
       "      <td>0.826184</td>\n",
       "      <td>-0.000240</td>\n",
       "      <td>0.327050</td>\n",
       "      <td>7</td>\n",
       "    </tr>\n",
       "    <tr>\n",
       "      <th>27365</th>\n",
       "      <td>제주</td>\n",
       "      <td>2023-06-10</td>\n",
       "      <td>0.981080</td>\n",
       "      <td>-0.000240</td>\n",
       "      <td>-0.304646</td>\n",
       "      <td>7</td>\n",
       "    </tr>\n",
       "    <tr>\n",
       "      <th>27366</th>\n",
       "      <td>제주</td>\n",
       "      <td>2023-06-11</td>\n",
       "      <td>0.783409</td>\n",
       "      <td>-0.000240</td>\n",
       "      <td>0.903816</td>\n",
       "      <td>7</td>\n",
       "    </tr>\n",
       "    <tr>\n",
       "      <th>27367</th>\n",
       "      <td>제주</td>\n",
       "      <td>2023-06-12</td>\n",
       "      <td>0.819543</td>\n",
       "      <td>-0.000240</td>\n",
       "      <td>1.068606</td>\n",
       "      <td>7</td>\n",
       "    </tr>\n",
       "    <tr>\n",
       "      <th>27368</th>\n",
       "      <td>제주</td>\n",
       "      <td>2023-06-13</td>\n",
       "      <td>0.749972</td>\n",
       "      <td>-0.000240</td>\n",
       "      <td>1.096071</td>\n",
       "      <td>7</td>\n",
       "    </tr>\n",
       "  </tbody>\n",
       "</table>\n",
       "<p>26904 rows × 6 columns</p>\n",
       "</div>"
      ],
      "text/plain": [
       "      area         day    ap_tmp       sin       dif  label\n",
       "465     춘천  2019-09-25  0.484101 -1.451723 -0.634227      6\n",
       "466     춘천  2019-09-26  0.663456 -1.454111 -0.853947      6\n",
       "467     춘천  2019-09-27  0.673421 -1.456066 -0.277181      6\n",
       "468     춘천  2019-09-28  0.793190 -1.457586 -0.579297     10\n",
       "469     춘천  2019-09-29  0.621453 -1.458673 -0.936342      6\n",
       "...    ...         ...       ...       ...       ...    ...\n",
       "27364   제주  2023-06-09  0.826184 -0.000240  0.327050      7\n",
       "27365   제주  2023-06-10  0.981080 -0.000240 -0.304646      7\n",
       "27366   제주  2023-06-11  0.783409 -0.000240  0.903816      7\n",
       "27367   제주  2023-06-12  0.819543 -0.000240  1.068606      7\n",
       "27368   제주  2023-06-13  0.749972 -0.000240  1.096071      7\n",
       "\n",
       "[26904 rows x 6 columns]"
      ]
     },
     "execution_count": 117,
     "metadata": {},
     "output_type": "execute_result"
    }
   ],
   "source": [
    "X_[465:]"
   ]
  },
  {
   "cell_type": "code",
   "execution_count": null,
   "metadata": {},
   "outputs": [],
   "source": []
  },
  {
   "cell_type": "code",
   "execution_count": 118,
   "metadata": {
    "ExecuteTime": {
     "end_time": "2023-06-14T15:04:25.427620Z",
     "start_time": "2023-06-14T15:04:25.419999Z"
    }
   },
   "outputs": [
    {
     "data": {
      "text/plain": [
       "7     2586\n",
       "10    2275\n",
       "14    2219\n",
       "4     2056\n",
       "0     1997\n",
       "2     1967\n",
       "15    1866\n",
       "5     1809\n",
       "11    1757\n",
       "8     1689\n",
       "6     1627\n",
       "9     1441\n",
       "13    1306\n",
       "3     1066\n",
       "1      955\n",
       "12     753\n",
       "Name: label, dtype: int64"
      ]
     },
     "execution_count": 118,
     "metadata": {},
     "output_type": "execute_result"
    }
   ],
   "source": [
    "X_['label'].value_counts()"
   ]
  },
  {
   "cell_type": "code",
   "execution_count": 120,
   "metadata": {
    "ExecuteTime": {
     "end_time": "2023-06-14T15:04:51.987740Z",
     "start_time": "2023-06-14T15:04:51.949963Z"
    }
   },
   "outputs": [
    {
     "name": "stdout",
     "output_type": "stream",
     "text": [
      "0\n",
      "min    1.086153\n",
      "max    2.022618\n",
      "Name: ap_tmp, dtype: float64\n",
      "1\n",
      "min   -0.926834\n",
      "max   -0.020396\n",
      "Name: ap_tmp, dtype: float64\n",
      "2\n",
      "min   -0.355784\n",
      "max    0.241227\n",
      "Name: ap_tmp, dtype: float64\n",
      "3\n",
      "min   -1.940728\n",
      "max   -1.090526\n",
      "Name: ap_tmp, dtype: float64\n",
      "4\n",
      "min   -0.147939\n",
      "max    0.394294\n",
      "Name: ap_tmp, dtype: float64\n",
      "5\n",
      "min   -1.170758\n",
      "max   -0.591473\n",
      "Name: ap_tmp, dtype: float64\n",
      "6\n",
      "min    0.160675\n",
      "max    0.737626\n",
      "Name: ap_tmp, dtype: float64\n",
      "7\n",
      "min    0.159439\n",
      "max    1.127848\n",
      "Name: ap_tmp, dtype: float64\n",
      "8\n",
      "min    1.140827\n",
      "max    2.072568\n",
      "Name: ap_tmp, dtype: float64\n",
      "9\n",
      "min   -1.923895\n",
      "max   -1.355403\n",
      "Name: ap_tmp, dtype: float64\n",
      "10\n",
      "min    0.677407\n",
      "max    1.235012\n",
      "Name: ap_tmp, dtype: float64\n",
      "11\n",
      "min    0.316212\n",
      "max    1.244315\n",
      "Name: ap_tmp, dtype: float64\n",
      "12\n",
      "min   -3.345903\n",
      "max   -1.863457\n",
      "Name: ap_tmp, dtype: float64\n",
      "13\n",
      "min   -1.107169\n",
      "max   -0.292875\n",
      "Name: ap_tmp, dtype: float64\n",
      "14\n",
      "min   -0.640853\n",
      "max   -0.134729\n",
      "Name: ap_tmp, dtype: float64\n",
      "15\n",
      "min   -1.406184\n",
      "max   -0.883459\n",
      "Name: ap_tmp, dtype: float64\n"
     ]
    }
   ],
   "source": [
    "for i in range(16):\n",
    "    print(i)\n",
    "    print(X_[X_['label'] ==i ]['ap_tmp'].agg(['min', 'max']))"
   ]
  },
  {
   "cell_type": "code",
   "execution_count": 123,
   "metadata": {
    "ExecuteTime": {
     "end_time": "2023-06-14T15:07:17.858590Z",
     "start_time": "2023-06-14T15:07:17.846156Z"
    }
   },
   "outputs": [
    {
     "data": {
      "text/html": [
       "<div>\n",
       "<style scoped>\n",
       "    .dataframe tbody tr th:only-of-type {\n",
       "        vertical-align: middle;\n",
       "    }\n",
       "\n",
       "    .dataframe tbody tr th {\n",
       "        vertical-align: top;\n",
       "    }\n",
       "\n",
       "    .dataframe thead th {\n",
       "        text-align: right;\n",
       "    }\n",
       "</style>\n",
       "<table border=\"1\" class=\"dataframe\">\n",
       "  <thead>\n",
       "    <tr style=\"text-align: right;\">\n",
       "      <th></th>\n",
       "      <th>area</th>\n",
       "      <th>day</th>\n",
       "      <th>ap_tmp</th>\n",
       "      <th>sin</th>\n",
       "      <th>dif</th>\n",
       "      <th>label</th>\n",
       "    </tr>\n",
       "  </thead>\n",
       "  <tbody>\n",
       "    <tr>\n",
       "      <th>0</th>\n",
       "      <td>춘천</td>\n",
       "      <td>2018-06-14</td>\n",
       "      <td>0.602081</td>\n",
       "      <td>-0.00024</td>\n",
       "      <td>1.288326</td>\n",
       "      <td>7</td>\n",
       "    </tr>\n",
       "    <tr>\n",
       "      <th>1</th>\n",
       "      <td>춘천</td>\n",
       "      <td>2018-06-15</td>\n",
       "      <td>0.520280</td>\n",
       "      <td>-0.00024</td>\n",
       "      <td>0.381980</td>\n",
       "      <td>7</td>\n",
       "    </tr>\n",
       "    <tr>\n",
       "      <th>2</th>\n",
       "      <td>춘천</td>\n",
       "      <td>2018-06-16</td>\n",
       "      <td>0.733066</td>\n",
       "      <td>-0.00024</td>\n",
       "      <td>-1.897619</td>\n",
       "      <td>7</td>\n",
       "    </tr>\n",
       "    <tr>\n",
       "      <th>3</th>\n",
       "      <td>춘천</td>\n",
       "      <td>2018-06-17</td>\n",
       "      <td>0.863905</td>\n",
       "      <td>-0.00024</td>\n",
       "      <td>-0.634227</td>\n",
       "      <td>7</td>\n",
       "    </tr>\n",
       "    <tr>\n",
       "      <th>4</th>\n",
       "      <td>춘천</td>\n",
       "      <td>2018-06-18</td>\n",
       "      <td>1.066745</td>\n",
       "      <td>-0.00024</td>\n",
       "      <td>-1.348318</td>\n",
       "      <td>7</td>\n",
       "    </tr>\n",
       "    <tr>\n",
       "      <th>...</th>\n",
       "      <td>...</td>\n",
       "      <td>...</td>\n",
       "      <td>...</td>\n",
       "      <td>...</td>\n",
       "      <td>...</td>\n",
       "      <td>...</td>\n",
       "    </tr>\n",
       "    <tr>\n",
       "      <th>27364</th>\n",
       "      <td>제주</td>\n",
       "      <td>2023-06-09</td>\n",
       "      <td>0.826184</td>\n",
       "      <td>-0.00024</td>\n",
       "      <td>0.327050</td>\n",
       "      <td>7</td>\n",
       "    </tr>\n",
       "    <tr>\n",
       "      <th>27365</th>\n",
       "      <td>제주</td>\n",
       "      <td>2023-06-10</td>\n",
       "      <td>0.981080</td>\n",
       "      <td>-0.00024</td>\n",
       "      <td>-0.304646</td>\n",
       "      <td>7</td>\n",
       "    </tr>\n",
       "    <tr>\n",
       "      <th>27366</th>\n",
       "      <td>제주</td>\n",
       "      <td>2023-06-11</td>\n",
       "      <td>0.783409</td>\n",
       "      <td>-0.00024</td>\n",
       "      <td>0.903816</td>\n",
       "      <td>7</td>\n",
       "    </tr>\n",
       "    <tr>\n",
       "      <th>27367</th>\n",
       "      <td>제주</td>\n",
       "      <td>2023-06-12</td>\n",
       "      <td>0.819543</td>\n",
       "      <td>-0.00024</td>\n",
       "      <td>1.068606</td>\n",
       "      <td>7</td>\n",
       "    </tr>\n",
       "    <tr>\n",
       "      <th>27368</th>\n",
       "      <td>제주</td>\n",
       "      <td>2023-06-13</td>\n",
       "      <td>0.749972</td>\n",
       "      <td>-0.00024</td>\n",
       "      <td>1.096071</td>\n",
       "      <td>7</td>\n",
       "    </tr>\n",
       "  </tbody>\n",
       "</table>\n",
       "<p>27369 rows × 6 columns</p>\n",
       "</div>"
      ],
      "text/plain": [
       "      area         day    ap_tmp      sin       dif  label\n",
       "0       춘천  2018-06-14  0.602081 -0.00024  1.288326      7\n",
       "1       춘천  2018-06-15  0.520280 -0.00024  0.381980      7\n",
       "2       춘천  2018-06-16  0.733066 -0.00024 -1.897619      7\n",
       "3       춘천  2018-06-17  0.863905 -0.00024 -0.634227      7\n",
       "4       춘천  2018-06-18  1.066745 -0.00024 -1.348318      7\n",
       "...    ...         ...       ...      ...       ...    ...\n",
       "27364   제주  2023-06-09  0.826184 -0.00024  0.327050      7\n",
       "27365   제주  2023-06-10  0.981080 -0.00024 -0.304646      7\n",
       "27366   제주  2023-06-11  0.783409 -0.00024  0.903816      7\n",
       "27367   제주  2023-06-12  0.819543 -0.00024  1.068606      7\n",
       "27368   제주  2023-06-13  0.749972 -0.00024  1.096071      7\n",
       "\n",
       "[27369 rows x 6 columns]"
      ]
     },
     "execution_count": 123,
     "metadata": {},
     "output_type": "execute_result"
    }
   ],
   "source": [
    "X_"
   ]
  },
  {
   "cell_type": "code",
   "execution_count": 124,
   "metadata": {
    "ExecuteTime": {
     "end_time": "2023-06-14T15:07:26.473271Z",
     "start_time": "2023-06-14T15:07:26.455431Z"
    }
   },
   "outputs": [
    {
     "data": {
      "text/plain": [
       "Index(['area', 'day', 'ap_tmp', 'sin', 'dif', 'label'], dtype='object')"
      ]
     },
     "execution_count": 124,
     "metadata": {},
     "output_type": "execute_result"
    }
   ],
   "source": [
    "X_.columns"
   ]
  },
  {
   "cell_type": "code",
   "execution_count": null,
   "metadata": {},
   "outputs": [],
   "source": []
  },
  {
   "cell_type": "code",
   "execution_count": null,
   "metadata": {},
   "outputs": [],
   "source": []
  },
  {
   "cell_type": "code",
   "execution_count": 125,
   "metadata": {
    "ExecuteTime": {
     "end_time": "2023-06-14T15:07:58.809542Z",
     "start_time": "2023-06-14T15:07:58.791547Z"
    }
   },
   "outputs": [],
   "source": [
    "X_results=X_.drop(['ap_tmp', 'sin', 'dif'], axis=1)"
   ]
  },
  {
   "cell_type": "code",
   "execution_count": 126,
   "metadata": {
    "ExecuteTime": {
     "end_time": "2023-06-14T15:08:03.949142Z",
     "start_time": "2023-06-14T15:08:03.930558Z"
    }
   },
   "outputs": [
    {
     "data": {
      "text/html": [
       "<div>\n",
       "<style scoped>\n",
       "    .dataframe tbody tr th:only-of-type {\n",
       "        vertical-align: middle;\n",
       "    }\n",
       "\n",
       "    .dataframe tbody tr th {\n",
       "        vertical-align: top;\n",
       "    }\n",
       "\n",
       "    .dataframe thead th {\n",
       "        text-align: right;\n",
       "    }\n",
       "</style>\n",
       "<table border=\"1\" class=\"dataframe\">\n",
       "  <thead>\n",
       "    <tr style=\"text-align: right;\">\n",
       "      <th></th>\n",
       "      <th>area</th>\n",
       "      <th>day</th>\n",
       "      <th>label</th>\n",
       "    </tr>\n",
       "  </thead>\n",
       "  <tbody>\n",
       "    <tr>\n",
       "      <th>0</th>\n",
       "      <td>춘천</td>\n",
       "      <td>2018-06-14</td>\n",
       "      <td>7</td>\n",
       "    </tr>\n",
       "    <tr>\n",
       "      <th>1</th>\n",
       "      <td>춘천</td>\n",
       "      <td>2018-06-15</td>\n",
       "      <td>7</td>\n",
       "    </tr>\n",
       "    <tr>\n",
       "      <th>2</th>\n",
       "      <td>춘천</td>\n",
       "      <td>2018-06-16</td>\n",
       "      <td>7</td>\n",
       "    </tr>\n",
       "    <tr>\n",
       "      <th>3</th>\n",
       "      <td>춘천</td>\n",
       "      <td>2018-06-17</td>\n",
       "      <td>7</td>\n",
       "    </tr>\n",
       "    <tr>\n",
       "      <th>4</th>\n",
       "      <td>춘천</td>\n",
       "      <td>2018-06-18</td>\n",
       "      <td>7</td>\n",
       "    </tr>\n",
       "    <tr>\n",
       "      <th>...</th>\n",
       "      <td>...</td>\n",
       "      <td>...</td>\n",
       "      <td>...</td>\n",
       "    </tr>\n",
       "    <tr>\n",
       "      <th>27364</th>\n",
       "      <td>제주</td>\n",
       "      <td>2023-06-09</td>\n",
       "      <td>7</td>\n",
       "    </tr>\n",
       "    <tr>\n",
       "      <th>27365</th>\n",
       "      <td>제주</td>\n",
       "      <td>2023-06-10</td>\n",
       "      <td>7</td>\n",
       "    </tr>\n",
       "    <tr>\n",
       "      <th>27366</th>\n",
       "      <td>제주</td>\n",
       "      <td>2023-06-11</td>\n",
       "      <td>7</td>\n",
       "    </tr>\n",
       "    <tr>\n",
       "      <th>27367</th>\n",
       "      <td>제주</td>\n",
       "      <td>2023-06-12</td>\n",
       "      <td>7</td>\n",
       "    </tr>\n",
       "    <tr>\n",
       "      <th>27368</th>\n",
       "      <td>제주</td>\n",
       "      <td>2023-06-13</td>\n",
       "      <td>7</td>\n",
       "    </tr>\n",
       "  </tbody>\n",
       "</table>\n",
       "<p>27369 rows × 3 columns</p>\n",
       "</div>"
      ],
      "text/plain": [
       "      area         day  label\n",
       "0       춘천  2018-06-14      7\n",
       "1       춘천  2018-06-15      7\n",
       "2       춘천  2018-06-16      7\n",
       "3       춘천  2018-06-17      7\n",
       "4       춘천  2018-06-18      7\n",
       "...    ...         ...    ...\n",
       "27364   제주  2023-06-09      7\n",
       "27365   제주  2023-06-10      7\n",
       "27366   제주  2023-06-11      7\n",
       "27367   제주  2023-06-12      7\n",
       "27368   제주  2023-06-13      7\n",
       "\n",
       "[27369 rows x 3 columns]"
      ]
     },
     "execution_count": 126,
     "metadata": {},
     "output_type": "execute_result"
    }
   ],
   "source": [
    "X_results"
   ]
  },
  {
   "cell_type": "code",
   "execution_count": 127,
   "metadata": {
    "ExecuteTime": {
     "end_time": "2023-06-14T15:08:28.645750Z",
     "start_time": "2023-06-14T15:08:28.602568Z"
    }
   },
   "outputs": [],
   "source": [
    "import pandas as pd\n",
    "\n",
    "# CSV 파일로 저장\n",
    "X_results.to_csv('label_weather_0613.csv', index=False)"
   ]
  },
  {
   "cell_type": "code",
   "execution_count": 129,
   "metadata": {
    "ExecuteTime": {
     "end_time": "2023-06-14T15:11:08.899945Z",
     "start_time": "2023-06-14T15:11:08.880353Z"
    }
   },
   "outputs": [
    {
     "data": {
      "text/plain": [
       "0        2018-06-14\n",
       "1        2018-06-15\n",
       "2        2018-06-16\n",
       "3        2018-06-17\n",
       "4        2018-06-18\n",
       "            ...    \n",
       "27364    2023-06-09\n",
       "27365    2023-06-10\n",
       "27366    2023-06-11\n",
       "27367    2023-06-12\n",
       "27368    2023-06-13\n",
       "Name: day, Length: 27369, dtype: object"
      ]
     },
     "execution_count": 129,
     "metadata": {},
     "output_type": "execute_result"
    }
   ],
   "source": [
    "X_results['day']"
   ]
  },
  {
   "cell_type": "code",
   "execution_count": 130,
   "metadata": {
    "ExecuteTime": {
     "end_time": "2023-06-14T15:11:33.759919Z",
     "start_time": "2023-06-14T15:11:33.733319Z"
    }
   },
   "outputs": [
    {
     "name": "stdout",
     "output_type": "stream",
     "text": [
      "<class 'pandas.core.frame.DataFrame'>\n",
      "RangeIndex: 27369 entries, 0 to 27368\n",
      "Data columns (total 3 columns):\n",
      " #   Column  Non-Null Count  Dtype \n",
      "---  ------  --------------  ----- \n",
      " 0   area    27369 non-null  object\n",
      " 1   day     27369 non-null  object\n",
      " 2   label   27369 non-null  int32 \n",
      "dtypes: int32(1), object(2)\n",
      "memory usage: 534.7+ KB\n"
     ]
    }
   ],
   "source": [
    "X_results.info()"
   ]
  },
  {
   "cell_type": "code",
   "execution_count": 131,
   "metadata": {
    "ExecuteTime": {
     "end_time": "2023-06-14T15:14:00.442027Z",
     "start_time": "2023-06-14T15:14:00.421042Z"
    }
   },
   "outputs": [],
   "source": [
    "X_results['day']=pd.to_datetime(X_results['day'], format=\"%Y-%m-%d\")"
   ]
  },
  {
   "cell_type": "code",
   "execution_count": 132,
   "metadata": {
    "ExecuteTime": {
     "end_time": "2023-06-14T15:14:08.545475Z",
     "start_time": "2023-06-14T15:14:08.530019Z"
    }
   },
   "outputs": [
    {
     "name": "stdout",
     "output_type": "stream",
     "text": [
      "<class 'pandas.core.frame.DataFrame'>\n",
      "RangeIndex: 27369 entries, 0 to 27368\n",
      "Data columns (total 3 columns):\n",
      " #   Column  Non-Null Count  Dtype         \n",
      "---  ------  --------------  -----         \n",
      " 0   area    27369 non-null  object        \n",
      " 1   day     27369 non-null  datetime64[ns]\n",
      " 2   label   27369 non-null  int32         \n",
      "dtypes: datetime64[ns](1), int32(1), object(1)\n",
      "memory usage: 534.7+ KB\n"
     ]
    }
   ],
   "source": [
    "X_results.info()"
   ]
  },
  {
   "cell_type": "code",
   "execution_count": null,
   "metadata": {},
   "outputs": [],
   "source": [
    "X_results['day']"
   ]
  },
  {
   "cell_type": "code",
   "execution_count": null,
   "metadata": {},
   "outputs": [],
   "source": [
    "import pandas as pd\n",
    "\n",
    "# 데이터프레임 생성\n",
    "data = pd.DataFrame({'Date': ['2020-01-01', '2020-01-15', '2020-02-01', '2020-02-15', '2020-03-01'],\n",
    "                     'Value': [1, 2, 3, 4, 5]})\n",
    "\n",
    "# 'Date' 열을 날짜 형식으로 변환\n",
    "data['Date'] = pd.to_datetime(data['Date'])\n",
    "\n",
    "# 조건에 해당하는 행 선택\n",
    "filtered_data = data[(data['Date'] >= '2020-01-01') & (data['Date'] <= '2020-02-29')]\n",
    "\n",
    "# 결과 출력\n",
    "print(filtered_data)\n"
   ]
  },
  {
   "cell_type": "code",
   "execution_count": 133,
   "metadata": {
    "ExecuteTime": {
     "end_time": "2023-06-14T15:17:45.862765Z",
     "start_time": "2023-06-14T15:17:45.842921Z"
    }
   },
   "outputs": [
    {
     "name": "stdout",
     "output_type": "stream",
     "text": [
      "      area        day  label\n",
      "1459    춘천 2022-06-15      7\n",
      "1460    춘천 2022-06-16      7\n",
      "1461    춘천 2022-06-17      7\n",
      "1462    춘천 2022-06-18      7\n",
      "1463    춘천 2022-06-19      7\n",
      "...    ...        ...    ...\n",
      "27364   제주 2023-06-09      7\n",
      "27365   제주 2023-06-10      7\n",
      "27366   제주 2023-06-11      7\n",
      "27367   제주 2023-06-12      7\n",
      "27368   제주 2023-06-13      7\n",
      "\n",
      "[5453 rows x 3 columns]\n"
     ]
    }
   ],
   "source": [
    "filtered_data = X_results[(X_results['day'] >= '2022-06-15') & (X_results['day'] <= '2023-06-14')]\n",
    "\n",
    "# 결과 출력\n",
    "print(filtered_data)"
   ]
  },
  {
   "cell_type": "code",
   "execution_count": 134,
   "metadata": {
    "ExecuteTime": {
     "end_time": "2023-06-14T15:18:32.616003Z",
     "start_time": "2023-06-14T15:18:32.591402Z"
    }
   },
   "outputs": [
    {
     "data": {
      "text/html": [
       "<div>\n",
       "<style scoped>\n",
       "    .dataframe tbody tr th:only-of-type {\n",
       "        vertical-align: middle;\n",
       "    }\n",
       "\n",
       "    .dataframe tbody tr th {\n",
       "        vertical-align: top;\n",
       "    }\n",
       "\n",
       "    .dataframe thead th {\n",
       "        text-align: right;\n",
       "    }\n",
       "</style>\n",
       "<table border=\"1\" class=\"dataframe\">\n",
       "  <thead>\n",
       "    <tr style=\"text-align: right;\">\n",
       "      <th></th>\n",
       "      <th>area</th>\n",
       "      <th>day</th>\n",
       "      <th>label</th>\n",
       "    </tr>\n",
       "  </thead>\n",
       "  <tbody>\n",
       "    <tr>\n",
       "      <th>1459</th>\n",
       "      <td>춘천</td>\n",
       "      <td>2022-06-15</td>\n",
       "      <td>7</td>\n",
       "    </tr>\n",
       "    <tr>\n",
       "      <th>1460</th>\n",
       "      <td>춘천</td>\n",
       "      <td>2022-06-16</td>\n",
       "      <td>7</td>\n",
       "    </tr>\n",
       "    <tr>\n",
       "      <th>1461</th>\n",
       "      <td>춘천</td>\n",
       "      <td>2022-06-17</td>\n",
       "      <td>7</td>\n",
       "    </tr>\n",
       "    <tr>\n",
       "      <th>1462</th>\n",
       "      <td>춘천</td>\n",
       "      <td>2022-06-18</td>\n",
       "      <td>7</td>\n",
       "    </tr>\n",
       "    <tr>\n",
       "      <th>1463</th>\n",
       "      <td>춘천</td>\n",
       "      <td>2022-06-19</td>\n",
       "      <td>7</td>\n",
       "    </tr>\n",
       "    <tr>\n",
       "      <th>...</th>\n",
       "      <td>...</td>\n",
       "      <td>...</td>\n",
       "      <td>...</td>\n",
       "    </tr>\n",
       "    <tr>\n",
       "      <th>27364</th>\n",
       "      <td>제주</td>\n",
       "      <td>2023-06-09</td>\n",
       "      <td>7</td>\n",
       "    </tr>\n",
       "    <tr>\n",
       "      <th>27365</th>\n",
       "      <td>제주</td>\n",
       "      <td>2023-06-10</td>\n",
       "      <td>7</td>\n",
       "    </tr>\n",
       "    <tr>\n",
       "      <th>27366</th>\n",
       "      <td>제주</td>\n",
       "      <td>2023-06-11</td>\n",
       "      <td>7</td>\n",
       "    </tr>\n",
       "    <tr>\n",
       "      <th>27367</th>\n",
       "      <td>제주</td>\n",
       "      <td>2023-06-12</td>\n",
       "      <td>7</td>\n",
       "    </tr>\n",
       "    <tr>\n",
       "      <th>27368</th>\n",
       "      <td>제주</td>\n",
       "      <td>2023-06-13</td>\n",
       "      <td>7</td>\n",
       "    </tr>\n",
       "  </tbody>\n",
       "</table>\n",
       "<p>5453 rows × 3 columns</p>\n",
       "</div>"
      ],
      "text/plain": [
       "      area        day  label\n",
       "1459    춘천 2022-06-15      7\n",
       "1460    춘천 2022-06-16      7\n",
       "1461    춘천 2022-06-17      7\n",
       "1462    춘천 2022-06-18      7\n",
       "1463    춘천 2022-06-19      7\n",
       "...    ...        ...    ...\n",
       "27364   제주 2023-06-09      7\n",
       "27365   제주 2023-06-10      7\n",
       "27366   제주 2023-06-11      7\n",
       "27367   제주 2023-06-12      7\n",
       "27368   제주 2023-06-13      7\n",
       "\n",
       "[5453 rows x 3 columns]"
      ]
     },
     "execution_count": 134,
     "metadata": {},
     "output_type": "execute_result"
    }
   ],
   "source": [
    "filtered_data"
   ]
  },
  {
   "cell_type": "code",
   "execution_count": 135,
   "metadata": {
    "ExecuteTime": {
     "end_time": "2023-06-14T15:19:30.292354Z",
     "start_time": "2023-06-14T15:19:30.265892Z"
    }
   },
   "outputs": [],
   "source": [
    "filtered_data.to_csv('labels_weather_0613.csv', index=False)"
   ]
  },
  {
   "cell_type": "code",
   "execution_count": null,
   "metadata": {},
   "outputs": [],
   "source": []
  }
 ],
 "metadata": {
  "accelerator": "GPU",
  "colab": {
   "authorship_tag": "ABX9TyP5PA9Luo7IQrf3G2quLPWZ",
   "gpuType": "T4",
   "mount_file_id": "1sRfWbCBgZvmDXMn9AKrJUSOG9B2JFU4L",
   "provenance": []
  },
  "kernelspec": {
   "display_name": "Python 3 (ipykernel)",
   "language": "python",
   "name": "python3"
  },
  "language_info": {
   "codemirror_mode": {
    "name": "ipython",
    "version": 3
   },
   "file_extension": ".py",
   "mimetype": "text/x-python",
   "name": "python",
   "nbconvert_exporter": "python",
   "pygments_lexer": "ipython3",
   "version": "3.9.15"
  },
  "toc": {
   "base_numbering": 1,
   "nav_menu": {},
   "number_sections": true,
   "sideBar": true,
   "skip_h1_title": false,
   "title_cell": "Table of Contents",
   "title_sidebar": "Contents",
   "toc_cell": false,
   "toc_position": {},
   "toc_section_display": true,
   "toc_window_display": false
  },
  "varInspector": {
   "cols": {
    "lenName": 16,
    "lenType": 16,
    "lenVar": 40
   },
   "kernels_config": {
    "python": {
     "delete_cmd_postfix": "",
     "delete_cmd_prefix": "del ",
     "library": "var_list.py",
     "varRefreshCmd": "print(var_dic_list())"
    },
    "r": {
     "delete_cmd_postfix": ") ",
     "delete_cmd_prefix": "rm(",
     "library": "var_list.r",
     "varRefreshCmd": "cat(var_dic_list()) "
    }
   },
   "types_to_exclude": [
    "module",
    "function",
    "builtin_function_or_method",
    "instance",
    "_Feature"
   ],
   "window_display": false
  }
 },
 "nbformat": 4,
 "nbformat_minor": 1
}
