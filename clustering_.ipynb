{
 "cells": [
  {
   "cell_type": "markdown",
   "metadata": {
    "id": "fdXICHCsvdjE"
   },
   "source": [
    "# import"
   ]
  },
  {
   "cell_type": "code",
   "execution_count": 4,
   "metadata": {
    "colab": {
     "base_uri": "https://localhost:8080/"
    },
    "executionInfo": {
     "elapsed": 14340,
     "status": "ok",
     "timestamp": 1686117625944,
     "user": {
      "displayName": "박영서",
      "userId": "12258658121733962728"
     },
     "user_tz": -540
    },
    "id": "V8FaZuhxvate",
    "outputId": "b9396e63-844a-4b91-d825-5c9032eeef5f"
   },
   "outputs": [
    {
     "name": "stdout",
     "output_type": "stream",
     "text": [
      "Drive already mounted at /content/drive; to attempt to forcibly remount, call drive.mount(\"/content/drive\", force_remount=True).\n"
     ]
    }
   ],
   "source": [
    "from google.colab import drive\n",
    "drive.mount('/content/drive')"
   ]
  },
  {
   "cell_type": "code",
   "execution_count": 1,
   "metadata": {
    "ExecuteTime": {
     "end_time": "2023-06-08T11:28:35.356999Z",
     "start_time": "2023-06-08T11:28:33.801375Z"
    },
    "executionInfo": {
     "elapsed": 1471,
     "status": "ok",
     "timestamp": 1686117629096,
     "user": {
      "displayName": "박영서",
      "userId": "12258658121733962728"
     },
     "user_tz": -540
    },
    "id": "_mnOcPrBvdV6"
   },
   "outputs": [],
   "source": [
    "from sklearn.preprocessing import StandardScaler\n",
    "\n",
    "import numpy as np \n",
    "import pandas as pd\n",
    "import matplotlib.pyplot as plt\n",
    "import seaborn as sns\n",
    "%matplotlib inline\n",
    "\n",
    "import os\n",
    "import warnings\n",
    "\n",
    "warnings.filterwarnings('ignore')\n",
    "\n",
    "from datetime import datetime"
   ]
  },
  {
   "cell_type": "markdown",
   "metadata": {
    "id": "OO5YLwb2vUXS"
   },
   "source": [
    "# 데이터 로딩 "
   ]
  },
  {
   "cell_type": "code",
   "execution_count": 2,
   "metadata": {
    "ExecuteTime": {
     "end_time": "2023-06-08T11:28:36.104721Z",
     "start_time": "2023-06-08T11:28:35.993438Z"
    },
    "colab": {
     "base_uri": "https://localhost:8080/"
    },
    "executionInfo": {
     "elapsed": 1000,
     "status": "ok",
     "timestamp": 1686117632878,
     "user": {
      "displayName": "박영서",
      "userId": "12258658121733962728"
     },
     "user_tz": -540
    },
    "id": "HYsGbma4ubMP",
    "outputId": "c4086d0f-ab58-4f8c-dcc2-55258df9f683"
   },
   "outputs": [
    {
     "data": {
      "text/plain": [
       "(104040, 7)"
      ]
     },
     "execution_count": 2,
     "metadata": {},
     "output_type": "execute_result"
    }
   ],
   "source": [
    "# 기상청 3년치 날씨 데이터\n",
    "df=pd.read_csv('./weather_0608.csv', encoding='cp949')\n",
    "\n",
    "df.shape"
   ]
  },
  {
   "cell_type": "markdown",
   "metadata": {
    "id": "CD4SjPYi_9nV"
   },
   "source": [
    "# 데이터 전처리"
   ]
  },
  {
   "cell_type": "code",
   "execution_count": 3,
   "metadata": {
    "ExecuteTime": {
     "end_time": "2023-06-08T11:28:51.914373Z",
     "start_time": "2023-06-08T11:28:51.869871Z"
    },
    "colab": {
     "base_uri": "https://localhost:8080/"
    },
    "executionInfo": {
     "elapsed": 397,
     "status": "ok",
     "timestamp": 1686117635285,
     "user": {
      "displayName": "박영서",
      "userId": "12258658121733962728"
     },
     "user_tz": -540
    },
    "id": "VUJLpF7P0knT",
    "outputId": "4ba9b3ef-d6c9-4b9e-e6e0-b9e690fc1dfb"
   },
   "outputs": [
    {
     "name": "stdout",
     "output_type": "stream",
     "text": [
      "<class 'pandas.core.frame.DataFrame'>\n",
      "RangeIndex: 104040 entries, 0 to 104039\n",
      "Data columns (total 7 columns):\n",
      " #   Column      Non-Null Count   Dtype  \n",
      "---  ------      --------------   -----  \n",
      " 0   지점          104040 non-null  int64  \n",
      " 1   지점명         104040 non-null  object \n",
      " 2   일시          104040 non-null  object \n",
      " 3   평균기온(°C)    103946 non-null  float64\n",
      " 4   최저기온(°C)    104018 non-null  float64\n",
      " 5   최고기온(°C)    104016 non-null  float64\n",
      " 6   평균 풍속(m/s)  103920 non-null  float64\n",
      "dtypes: float64(4), int64(1), object(2)\n",
      "memory usage: 5.6+ MB\n"
     ]
    }
   ],
   "source": [
    "# 데이터 인포 확인\n",
    "df.info()"
   ]
  },
  {
   "cell_type": "code",
   "execution_count": 4,
   "metadata": {
    "ExecuteTime": {
     "end_time": "2023-06-08T11:28:52.574657Z",
     "start_time": "2023-06-08T11:28:52.488907Z"
    },
    "colab": {
     "base_uri": "https://localhost:8080/"
    },
    "executionInfo": {
     "elapsed": 485,
     "status": "ok",
     "timestamp": 1686117636969,
     "user": {
      "displayName": "박영서",
      "userId": "12258658121733962728"
     },
     "user_tz": -540
    },
    "id": "Ye-CXj4r1ND4",
    "outputId": "ab25d3b2-48ab-4232-9a5b-03da0a4b35a6"
   },
   "outputs": [
    {
     "name": "stdout",
     "output_type": "stream",
     "text": [
      "<class 'pandas.core.frame.DataFrame'>\n",
      "RangeIndex: 104040 entries, 0 to 104039\n",
      "Data columns (total 7 columns):\n",
      " #   Column      Non-Null Count   Dtype         \n",
      "---  ------      --------------   -----         \n",
      " 0   지점          104040 non-null  int64         \n",
      " 1   지점명         104040 non-null  object        \n",
      " 2   일시          104040 non-null  datetime64[ns]\n",
      " 3   평균기온(°C)    103946 non-null  float64       \n",
      " 4   최저기온(°C)    104018 non-null  float64       \n",
      " 5   최고기온(°C)    104016 non-null  float64       \n",
      " 6   평균 풍속(m/s)  103920 non-null  float64       \n",
      "dtypes: datetime64[ns](1), float64(4), int64(1), object(1)\n",
      "memory usage: 5.6+ MB\n"
     ]
    }
   ],
   "source": [
    "# 일시 object -> datetimme으로 바꾸기\n",
    "df['일시']=pd.to_datetime(df['일시'], format=\"%Y-%m-%d\")\n",
    "df.info()"
   ]
  },
  {
   "cell_type": "markdown",
   "metadata": {},
   "source": [
    "## 결측치 처리"
   ]
  },
  {
   "cell_type": "code",
   "execution_count": 5,
   "metadata": {
    "ExecuteTime": {
     "end_time": "2023-06-08T11:28:53.337228Z",
     "start_time": "2023-06-08T11:28:53.322008Z"
    },
    "colab": {
     "base_uri": "https://localhost:8080/"
    },
    "executionInfo": {
     "elapsed": 2,
     "status": "ok",
     "timestamp": 1686117638144,
     "user": {
      "displayName": "박영서",
      "userId": "12258658121733962728"
     },
     "user_tz": -540
    },
    "id": "hXNj_4YUxy7T",
    "outputId": "9f7b7278-e232-4bc5-e070-0f8535a60a48"
   },
   "outputs": [
    {
     "data": {
      "text/plain": [
       "Index(['지점', '지점명', '일시', '평균기온(°C)', '최저기온(°C)', '최고기온(°C)', '평균 풍속(m/s)'], dtype='object')"
      ]
     },
     "execution_count": 5,
     "metadata": {},
     "output_type": "execute_result"
    }
   ],
   "source": [
    "# 데이터 컬럼명 확인\n",
    "df.columns"
   ]
  },
  {
   "cell_type": "code",
   "execution_count": 6,
   "metadata": {
    "ExecuteTime": {
     "end_time": "2023-06-08T11:28:54.294054Z",
     "start_time": "2023-06-08T11:28:54.278823Z"
    },
    "executionInfo": {
     "elapsed": 2,
     "status": "ok",
     "timestamp": 1686117639307,
     "user": {
      "displayName": "박영서",
      "userId": "12258658121733962728"
     },
     "user_tz": -540
    },
    "id": "Y5iU-72Lxizh"
   },
   "outputs": [],
   "source": [
    "# 분석에 사용할 사용 안 할 컬럼 drop\n",
    "df_ = df.drop('지점', axis=1)"
   ]
  },
  {
   "cell_type": "code",
   "execution_count": 7,
   "metadata": {
    "ExecuteTime": {
     "end_time": "2023-06-08T11:28:54.887562Z",
     "start_time": "2023-06-08T11:28:54.856252Z"
    },
    "colab": {
     "base_uri": "https://localhost:8080/"
    },
    "executionInfo": {
     "elapsed": 4,
     "status": "ok",
     "timestamp": 1686117640406,
     "user": {
      "displayName": "박영서",
      "userId": "12258658121733962728"
     },
     "user_tz": -540
    },
    "id": "0rzd6O5Dwi1L",
    "outputId": "057916d0-d3af-4c28-e8a0-9f29996eb70b"
   },
   "outputs": [
    {
     "name": "stdout",
     "output_type": "stream",
     "text": [
      "<class 'pandas.core.frame.DataFrame'>\n",
      "RangeIndex: 104040 entries, 0 to 104039\n",
      "Data columns (total 6 columns):\n",
      " #   Column      Non-Null Count   Dtype         \n",
      "---  ------      --------------   -----         \n",
      " 0   지점명         104040 non-null  object        \n",
      " 1   일시          104040 non-null  datetime64[ns]\n",
      " 2   평균기온(°C)    103946 non-null  float64       \n",
      " 3   최저기온(°C)    104018 non-null  float64       \n",
      " 4   최고기온(°C)    104016 non-null  float64       \n",
      " 5   평균 풍속(m/s)  103920 non-null  float64       \n",
      "dtypes: datetime64[ns](1), float64(4), object(1)\n",
      "memory usage: 4.8+ MB\n"
     ]
    }
   ],
   "source": [
    "# 분석에 사용할 데이터 확인\n",
    "df_.info()\n",
    "# df_.describe()  #  정수/실수 타입 컬럼 정보 조회"
   ]
  },
  {
   "cell_type": "code",
   "execution_count": 8,
   "metadata": {
    "ExecuteTime": {
     "end_time": "2023-06-08T11:28:55.506223Z",
     "start_time": "2023-06-08T11:28:55.473744Z"
    },
    "colab": {
     "base_uri": "https://localhost:8080/",
     "height": 423
    },
    "executionInfo": {
     "elapsed": 5,
     "status": "ok",
     "timestamp": 1686117645596,
     "user": {
      "displayName": "박영서",
      "userId": "12258658121733962728"
     },
     "user_tz": -540
    },
    "id": "5_Cumr3VukK9",
    "outputId": "bd67339c-06c3-41f0-8761-15a789f73016"
   },
   "outputs": [
    {
     "data": {
      "text/html": [
       "<div>\n",
       "<style scoped>\n",
       "    .dataframe tbody tr th:only-of-type {\n",
       "        vertical-align: middle;\n",
       "    }\n",
       "\n",
       "    .dataframe tbody tr th {\n",
       "        vertical-align: top;\n",
       "    }\n",
       "\n",
       "    .dataframe thead th {\n",
       "        text-align: right;\n",
       "    }\n",
       "</style>\n",
       "<table border=\"1\" class=\"dataframe\">\n",
       "  <thead>\n",
       "    <tr style=\"text-align: right;\">\n",
       "      <th></th>\n",
       "      <th>지점명</th>\n",
       "      <th>일시</th>\n",
       "      <th>평균기온(°C)</th>\n",
       "      <th>최저기온(°C)</th>\n",
       "      <th>최고기온(°C)</th>\n",
       "      <th>평균 풍속(m/s)</th>\n",
       "    </tr>\n",
       "  </thead>\n",
       "  <tbody>\n",
       "    <tr>\n",
       "      <th>0</th>\n",
       "      <td>속초</td>\n",
       "      <td>2020-06-08</td>\n",
       "      <td>22.8</td>\n",
       "      <td>16.7</td>\n",
       "      <td>29.4</td>\n",
       "      <td>1.9</td>\n",
       "    </tr>\n",
       "    <tr>\n",
       "      <th>1</th>\n",
       "      <td>속초</td>\n",
       "      <td>2020-06-09</td>\n",
       "      <td>25.0</td>\n",
       "      <td>20.4</td>\n",
       "      <td>32.0</td>\n",
       "      <td>1.3</td>\n",
       "    </tr>\n",
       "    <tr>\n",
       "      <th>2</th>\n",
       "      <td>속초</td>\n",
       "      <td>2020-06-10</td>\n",
       "      <td>24.2</td>\n",
       "      <td>19.6</td>\n",
       "      <td>29.6</td>\n",
       "      <td>1.7</td>\n",
       "    </tr>\n",
       "    <tr>\n",
       "      <th>3</th>\n",
       "      <td>속초</td>\n",
       "      <td>2020-06-11</td>\n",
       "      <td>24.7</td>\n",
       "      <td>21.9</td>\n",
       "      <td>29.1</td>\n",
       "      <td>1.8</td>\n",
       "    </tr>\n",
       "    <tr>\n",
       "      <th>4</th>\n",
       "      <td>속초</td>\n",
       "      <td>2020-06-12</td>\n",
       "      <td>20.4</td>\n",
       "      <td>19.3</td>\n",
       "      <td>22.3</td>\n",
       "      <td>1.1</td>\n",
       "    </tr>\n",
       "    <tr>\n",
       "      <th>...</th>\n",
       "      <td>...</td>\n",
       "      <td>...</td>\n",
       "      <td>...</td>\n",
       "      <td>...</td>\n",
       "      <td>...</td>\n",
       "      <td>...</td>\n",
       "    </tr>\n",
       "    <tr>\n",
       "      <th>104035</th>\n",
       "      <td>남해</td>\n",
       "      <td>2023-06-03</td>\n",
       "      <td>22.2</td>\n",
       "      <td>17.1</td>\n",
       "      <td>27.3</td>\n",
       "      <td>1.2</td>\n",
       "    </tr>\n",
       "    <tr>\n",
       "      <th>104036</th>\n",
       "      <td>남해</td>\n",
       "      <td>2023-06-04</td>\n",
       "      <td>23.1</td>\n",
       "      <td>16.4</td>\n",
       "      <td>28.2</td>\n",
       "      <td>1.1</td>\n",
       "    </tr>\n",
       "    <tr>\n",
       "      <th>104037</th>\n",
       "      <td>남해</td>\n",
       "      <td>2023-06-05</td>\n",
       "      <td>22.3</td>\n",
       "      <td>18.4</td>\n",
       "      <td>26.6</td>\n",
       "      <td>1.1</td>\n",
       "    </tr>\n",
       "    <tr>\n",
       "      <th>104038</th>\n",
       "      <td>남해</td>\n",
       "      <td>2023-06-06</td>\n",
       "      <td>20.5</td>\n",
       "      <td>17.4</td>\n",
       "      <td>25.1</td>\n",
       "      <td>1.1</td>\n",
       "    </tr>\n",
       "    <tr>\n",
       "      <th>104039</th>\n",
       "      <td>남해</td>\n",
       "      <td>2023-06-07</td>\n",
       "      <td>21.7</td>\n",
       "      <td>16.5</td>\n",
       "      <td>28.3</td>\n",
       "      <td>1.1</td>\n",
       "    </tr>\n",
       "  </tbody>\n",
       "</table>\n",
       "<p>104040 rows × 6 columns</p>\n",
       "</div>"
      ],
      "text/plain": [
       "       지점명         일시  평균기온(°C)  최저기온(°C)  최고기온(°C)  평균 풍속(m/s)\n",
       "0       속초 2020-06-08      22.8      16.7      29.4         1.9\n",
       "1       속초 2020-06-09      25.0      20.4      32.0         1.3\n",
       "2       속초 2020-06-10      24.2      19.6      29.6         1.7\n",
       "3       속초 2020-06-11      24.7      21.9      29.1         1.8\n",
       "4       속초 2020-06-12      20.4      19.3      22.3         1.1\n",
       "...     ..        ...       ...       ...       ...         ...\n",
       "104035  남해 2023-06-03      22.2      17.1      27.3         1.2\n",
       "104036  남해 2023-06-04      23.1      16.4      28.2         1.1\n",
       "104037  남해 2023-06-05      22.3      18.4      26.6         1.1\n",
       "104038  남해 2023-06-06      20.5      17.4      25.1         1.1\n",
       "104039  남해 2023-06-07      21.7      16.5      28.3         1.1\n",
       "\n",
       "[104040 rows x 6 columns]"
      ]
     },
     "execution_count": 8,
     "metadata": {},
     "output_type": "execute_result"
    }
   ],
   "source": [
    "df_"
   ]
  },
  {
   "cell_type": "markdown",
   "metadata": {
    "id": "-t8JX6WMwMhZ"
   },
   "source": [
    "결측치 처리\n",
    "- 기온 결측치 삭제\n",
    "\n"
   ]
  },
  {
   "cell_type": "code",
   "execution_count": 9,
   "metadata": {
    "ExecuteTime": {
     "end_time": "2023-06-08T11:28:56.457558Z",
     "start_time": "2023-06-08T11:28:56.425171Z"
    },
    "colab": {
     "base_uri": "https://localhost:8080/"
    },
    "executionInfo": {
     "elapsed": 296,
     "status": "ok",
     "timestamp": 1686117650974,
     "user": {
      "displayName": "박영서",
      "userId": "12258658121733962728"
     },
     "user_tz": -540
    },
    "id": "hVDullJlz6pZ",
    "outputId": "ed4c8fad-84b8-4dcd-d722-c6bacf389de6"
   },
   "outputs": [
    {
     "data": {
      "text/plain": [
       "지점명             0\n",
       "일시              0\n",
       "평균기온(°C)       94\n",
       "최저기온(°C)       22\n",
       "최고기온(°C)       24\n",
       "평균 풍속(m/s)    120\n",
       "dtype: int64"
      ]
     },
     "execution_count": 9,
     "metadata": {},
     "output_type": "execute_result"
    }
   ],
   "source": [
    "df_.isnull().sum() #결측치 확인"
   ]
  },
  {
   "cell_type": "code",
   "execution_count": 11,
   "metadata": {
    "ExecuteTime": {
     "end_time": "2023-06-08T11:28:57.405893Z",
     "start_time": "2023-06-08T11:28:57.365590Z"
    },
    "colab": {
     "base_uri": "https://localhost:8080/"
    },
    "executionInfo": {
     "elapsed": 4,
     "status": "ok",
     "timestamp": 1686117653565,
     "user": {
      "displayName": "박영서",
      "userId": "12258658121733962728"
     },
     "user_tz": -540
    },
    "id": "vltZMJca55qS",
    "outputId": "8e037638-8771-4c8f-e7d9-0ac7a8fa88d8"
   },
   "outputs": [
    {
     "data": {
      "text/plain": [
       "지점명           0\n",
       "일시            0\n",
       "평균기온(°C)      0\n",
       "최저기온(°C)      0\n",
       "최고기온(°C)      0\n",
       "평균 풍속(m/s)    0\n",
       "dtype: int64"
      ]
     },
     "execution_count": 11,
     "metadata": {},
     "output_type": "execute_result"
    }
   ],
   "source": [
    "# 나머지 데이터는 .. 다 버릴까\n",
    "df_.dropna(inplace=True)\n",
    "df_.isnull().sum() #결측치 확인"
   ]
  },
  {
   "cell_type": "markdown",
   "metadata": {
    "id": "lH6h-WNTxb-_"
   },
   "source": [
    "## 파생변수로 추가"
   ]
  },
  {
   "cell_type": "code",
   "execution_count": 12,
   "metadata": {
    "ExecuteTime": {
     "end_time": "2023-06-08T11:28:58.643379Z",
     "start_time": "2023-06-08T11:28:58.626972Z"
    },
    "executionInfo": {
     "elapsed": 303,
     "status": "ok",
     "timestamp": 1686117656123,
     "user": {
      "displayName": "박영서",
      "userId": "12258658121733962728"
     },
     "user_tz": -540
    },
    "id": "eXyDeHMABG-Q"
   },
   "outputs": [],
   "source": [
    "X = df_"
   ]
  },
  {
   "cell_type": "markdown",
   "metadata": {
    "id": "6cLbU6Bi2Ksh"
   },
   "source": [
    "체감온도 계산"
   ]
  },
  {
   "cell_type": "code",
   "execution_count": 13,
   "metadata": {
    "ExecuteTime": {
     "end_time": "2023-06-08T11:28:59.562163Z",
     "start_time": "2023-06-08T11:28:59.538325Z"
    },
    "executionInfo": {
     "elapsed": 3,
     "status": "ok",
     "timestamp": 1686117658765,
     "user": {
      "displayName": "박영서",
      "userId": "12258658121733962728"
     },
     "user_tz": -540
    },
    "id": "tlAHGsDE2ruW"
   },
   "outputs": [],
   "source": [
    "X['체감 기온(°C)'] = 13.12 + 0.6215 * X['평균기온(°C)'] - 11.37 * X['평균 풍속(m/s)']**0.16 + 0.3965 * X['평균기온(°C)'] * X['평균 풍속(m/s)']**0.16"
   ]
  },
  {
   "cell_type": "markdown",
   "metadata": {
    "id": "_9AkYRQ3yGAN"
   },
   "source": [
    "계절감 추가"
   ]
  },
  {
   "cell_type": "code",
   "execution_count": 14,
   "metadata": {
    "ExecuteTime": {
     "end_time": "2023-06-08T11:30:16.752370Z",
     "start_time": "2023-06-08T11:29:00.848118Z"
    },
    "colab": {
     "base_uri": "https://localhost:8080/"
    },
    "executionInfo": {
     "elapsed": 444,
     "status": "ok",
     "timestamp": 1686117661305,
     "user": {
      "displayName": "박영서",
      "userId": "12258658121733962728"
     },
     "user_tz": -540
    },
    "id": "lEyUgRE3yE5c",
    "outputId": "1b8584c8-82d3-450f-a852-cb183e61ab97"
   },
   "outputs": [],
   "source": [
    "import pandas as pd\n",
    "from datetime import datetime\n",
    "import numpy as np\n",
    "\n",
    "dfs = []  # 데이터프레임을 저장할 리스트\n",
    "\n",
    "for i in [2020, 2021, 2022, 2023]:\n",
    "    # 시작 날짜와 끝 날짜 설정\n",
    "    start_date = datetime(i, 1, 1)\n",
    "    end_date = datetime(i, 12, 31)\n",
    "\n",
    "    # 날짜 범위 생성\n",
    "    date_range = pd.date_range(start=start_date, end=end_date, freq='D')\n",
    "    # x 값 범위 설정\n",
    "    x = np.linspace(0, len(date_range), len(date_range))\n",
    "\n",
    "    # y 값 계산\n",
    "    y = np.sin((2 * np.pi * x) / len(date_range))\n",
    "\n",
    "    # 데이터프레임 생성\n",
    "    df = pd.DataFrame({'x': date_range, 'y': y})\n",
    "    dfs.append(df)  # 데이터프레임을 리스트에 추가\n",
    "\n",
    "# 모든 데이터프레임을 하나로 합치기\n",
    "combined_df = pd.concat(dfs, ignore_index=True)\n",
    "\n",
    "X['sin'] = None\n",
    "\n",
    "# 각 행을 순회하며 조건과 비교하여 열 추가\n",
    "for index, row in X.iterrows():\n",
    "    mask = combined_df['x'] == row['일시']\n",
    "    if any(mask):  # 조건에 맞는 행이 하나 이상 있는지 확인\n",
    "        X.loc[index, 'sin'] = combined_df.loc[mask, 'y'].values[0]\n",
    "    else:\n",
    "        pass"
   ]
  },
  {
   "cell_type": "code",
   "execution_count": 15,
   "metadata": {
    "ExecuteTime": {
     "end_time": "2023-06-08T11:31:41.793177Z",
     "start_time": "2023-06-08T11:30:27.158544Z"
    },
    "executionInfo": {
     "elapsed": 53446,
     "status": "ok",
     "timestamp": 1686117716880,
     "user": {
      "displayName": "박영서",
      "userId": "12258658121733962728"
     },
     "user_tz": -540
    },
    "id": "gGV2eNxCDqGU"
   },
   "outputs": [],
   "source": [
    "# 새로운 열 초기화\n",
    "X['sin'] = None\n",
    "\n",
    "# 각 행을 순회하며 조건과 비교하여 열 추가\n",
    "for index, row in X.iterrows():\n",
    "    mask = combined_df['x'] == row['일시']\n",
    "    if any(mask):  # 조건에 맞는 행이 하나 이상 있는지 확인\n",
    "        X.loc[index, 'sin'] = combined_df.loc[mask, 'y'].values[0]\n",
    "    else:\n",
    "        pass"
   ]
  },
  {
   "cell_type": "code",
   "execution_count": 17,
   "metadata": {
    "ExecuteTime": {
     "end_time": "2023-06-08T11:32:42.571408Z",
     "start_time": "2023-06-08T11:32:42.533463Z"
    },
    "executionInfo": {
     "elapsed": 3,
     "status": "ok",
     "timestamp": 1686111438799,
     "user": {
      "displayName": "박영서",
      "userId": "12258658121733962728"
     },
     "user_tz": -540
    },
    "id": "B2MSBi3B2gFS"
   },
   "outputs": [
    {
     "data": {
      "text/html": [
       "<div>\n",
       "<style scoped>\n",
       "    .dataframe tbody tr th:only-of-type {\n",
       "        vertical-align: middle;\n",
       "    }\n",
       "\n",
       "    .dataframe tbody tr th {\n",
       "        vertical-align: top;\n",
       "    }\n",
       "\n",
       "    .dataframe thead th {\n",
       "        text-align: right;\n",
       "    }\n",
       "</style>\n",
       "<table border=\"1\" class=\"dataframe\">\n",
       "  <thead>\n",
       "    <tr style=\"text-align: right;\">\n",
       "      <th></th>\n",
       "      <th>지점명</th>\n",
       "      <th>일시</th>\n",
       "      <th>평균기온(°C)</th>\n",
       "      <th>최저기온(°C)</th>\n",
       "      <th>최고기온(°C)</th>\n",
       "      <th>평균 풍속(m/s)</th>\n",
       "      <th>체감 기온(°C)</th>\n",
       "      <th>sin</th>\n",
       "    </tr>\n",
       "  </thead>\n",
       "  <tbody>\n",
       "    <tr>\n",
       "      <th>844</th>\n",
       "      <td>속초</td>\n",
       "      <td>2022-09-30</td>\n",
       "      <td>21.5</td>\n",
       "      <td>13.8</td>\n",
       "      <td>27.5</td>\n",
       "      <td>1.6</td>\n",
       "      <td>23.414785</td>\n",
       "      <td>-0.999851</td>\n",
       "    </tr>\n",
       "    <tr>\n",
       "      <th>1939</th>\n",
       "      <td>북춘천</td>\n",
       "      <td>2022-09-30</td>\n",
       "      <td>17.0</td>\n",
       "      <td>12.4</td>\n",
       "      <td>25.5</td>\n",
       "      <td>0.7</td>\n",
       "      <td>19.312799</td>\n",
       "      <td>-0.999851</td>\n",
       "    </tr>\n",
       "    <tr>\n",
       "      <th>3034</th>\n",
       "      <td>철원</td>\n",
       "      <td>2022-09-30</td>\n",
       "      <td>16.4</td>\n",
       "      <td>8.9</td>\n",
       "      <td>25.8</td>\n",
       "      <td>0.7</td>\n",
       "      <td>18.715195</td>\n",
       "      <td>-0.999851</td>\n",
       "    </tr>\n",
       "    <tr>\n",
       "      <th>4129</th>\n",
       "      <td>동두천</td>\n",
       "      <td>2022-09-30</td>\n",
       "      <td>17.8</td>\n",
       "      <td>11.1</td>\n",
       "      <td>26.6</td>\n",
       "      <td>0.5</td>\n",
       "      <td>20.323083</td>\n",
       "      <td>-0.999851</td>\n",
       "    </tr>\n",
       "    <tr>\n",
       "      <th>5224</th>\n",
       "      <td>파주</td>\n",
       "      <td>2022-09-30</td>\n",
       "      <td>16.8</td>\n",
       "      <td>11.5</td>\n",
       "      <td>26.0</td>\n",
       "      <td>0.5</td>\n",
       "      <td>19.346706</td>\n",
       "      <td>-0.999851</td>\n",
       "    </tr>\n",
       "    <tr>\n",
       "      <th>...</th>\n",
       "      <td>...</td>\n",
       "      <td>...</td>\n",
       "      <td>...</td>\n",
       "      <td>...</td>\n",
       "      <td>...</td>\n",
       "      <td>...</td>\n",
       "      <td>...</td>\n",
       "      <td>...</td>\n",
       "    </tr>\n",
       "    <tr>\n",
       "      <th>99409</th>\n",
       "      <td>합천</td>\n",
       "      <td>2022-09-30</td>\n",
       "      <td>18.8</td>\n",
       "      <td>11.5</td>\n",
       "      <td>29.6</td>\n",
       "      <td>0.5</td>\n",
       "      <td>21.299461</td>\n",
       "      <td>-0.999851</td>\n",
       "    </tr>\n",
       "    <tr>\n",
       "      <th>100504</th>\n",
       "      <td>밀양</td>\n",
       "      <td>2022-09-30</td>\n",
       "      <td>20.2</td>\n",
       "      <td>13.8</td>\n",
       "      <td>29.6</td>\n",
       "      <td>0.6</td>\n",
       "      <td>22.577352</td>\n",
       "      <td>-0.999851</td>\n",
       "    </tr>\n",
       "    <tr>\n",
       "      <th>101599</th>\n",
       "      <td>산청</td>\n",
       "      <td>2022-09-30</td>\n",
       "      <td>18.4</td>\n",
       "      <td>10.8</td>\n",
       "      <td>28.9</td>\n",
       "      <td>0.5</td>\n",
       "      <td>20.908910</td>\n",
       "      <td>-0.999851</td>\n",
       "    </tr>\n",
       "    <tr>\n",
       "      <th>102694</th>\n",
       "      <td>거제</td>\n",
       "      <td>2022-09-30</td>\n",
       "      <td>20.3</td>\n",
       "      <td>15.5</td>\n",
       "      <td>27.4</td>\n",
       "      <td>0.7</td>\n",
       "      <td>22.599619</td>\n",
       "      <td>-0.999851</td>\n",
       "    </tr>\n",
       "    <tr>\n",
       "      <th>103789</th>\n",
       "      <td>남해</td>\n",
       "      <td>2022-09-30</td>\n",
       "      <td>20.8</td>\n",
       "      <td>15.7</td>\n",
       "      <td>27.6</td>\n",
       "      <td>1.0</td>\n",
       "      <td>22.924400</td>\n",
       "      <td>-0.999851</td>\n",
       "    </tr>\n",
       "  </tbody>\n",
       "</table>\n",
       "<p>93 rows × 8 columns</p>\n",
       "</div>"
      ],
      "text/plain": [
       "        지점명         일시  평균기온(°C)  최저기온(°C)  최고기온(°C)  평균 풍속(m/s)  체감 기온(°C)  \\\n",
       "844      속초 2022-09-30      21.5      13.8      27.5         1.6  23.414785   \n",
       "1939    북춘천 2022-09-30      17.0      12.4      25.5         0.7  19.312799   \n",
       "3034     철원 2022-09-30      16.4       8.9      25.8         0.7  18.715195   \n",
       "4129    동두천 2022-09-30      17.8      11.1      26.6         0.5  20.323083   \n",
       "5224     파주 2022-09-30      16.8      11.5      26.0         0.5  19.346706   \n",
       "...     ...        ...       ...       ...       ...         ...        ...   \n",
       "99409    합천 2022-09-30      18.8      11.5      29.6         0.5  21.299461   \n",
       "100504   밀양 2022-09-30      20.2      13.8      29.6         0.6  22.577352   \n",
       "101599   산청 2022-09-30      18.4      10.8      28.9         0.5  20.908910   \n",
       "102694   거제 2022-09-30      20.3      15.5      27.4         0.7  22.599619   \n",
       "103789   남해 2022-09-30      20.8      15.7      27.6         1.0  22.924400   \n",
       "\n",
       "             sin  \n",
       "844    -0.999851  \n",
       "1939   -0.999851  \n",
       "3034   -0.999851  \n",
       "4129   -0.999851  \n",
       "5224   -0.999851  \n",
       "...          ...  \n",
       "99409  -0.999851  \n",
       "100504 -0.999851  \n",
       "101599 -0.999851  \n",
       "102694 -0.999851  \n",
       "103789 -0.999851  \n",
       "\n",
       "[93 rows x 8 columns]"
      ]
     },
     "execution_count": 17,
     "metadata": {},
     "output_type": "execute_result"
    }
   ],
   "source": [
    "# 확인용\n",
    "X[X['일시']=='2022-9-30']"
   ]
  },
  {
   "cell_type": "code",
   "execution_count": 19,
   "metadata": {
    "ExecuteTime": {
     "end_time": "2023-06-08T11:32:44.299060Z",
     "start_time": "2023-06-08T11:32:44.287549Z"
    },
    "executionInfo": {
     "elapsed": 541,
     "status": "ok",
     "timestamp": 1686118578446,
     "user": {
      "displayName": "박영서",
      "userId": "12258658121733962728"
     },
     "user_tz": -540
    },
    "id": "5na3_HkpKxLt"
   },
   "outputs": [],
   "source": [
    "X=X.drop(['일시', '평균기온(°C)'], axis=1)"
   ]
  },
  {
   "cell_type": "code",
   "execution_count": 20,
   "metadata": {
    "ExecuteTime": {
     "end_time": "2023-06-08T11:32:44.783037Z",
     "start_time": "2023-06-08T11:32:44.766470Z"
    },
    "colab": {
     "base_uri": "https://localhost:8080/",
     "height": 423
    },
    "executionInfo": {
     "elapsed": 4,
     "status": "ok",
     "timestamp": 1686118606191,
     "user": {
      "displayName": "박영서",
      "userId": "12258658121733962728"
     },
     "user_tz": -540
    },
    "id": "lGKZEcp3BWev",
    "outputId": "375e78cd-b9d5-4e85-e555-de4f5dbe6a74"
   },
   "outputs": [],
   "source": [
    "X['dif'] = X['최저기온(°C)'] - X['최고기온(°C)']"
   ]
  },
  {
   "cell_type": "code",
   "execution_count": 21,
   "metadata": {
    "ExecuteTime": {
     "end_time": "2023-06-08T11:32:45.290873Z",
     "start_time": "2023-06-08T11:32:45.250710Z"
    },
    "colab": {
     "base_uri": "https://localhost:8080/",
     "height": 423
    },
    "executionInfo": {
     "elapsed": 353,
     "status": "ok",
     "timestamp": 1686118621565,
     "user": {
      "displayName": "박영서",
      "userId": "12258658121733962728"
     },
     "user_tz": -540
    },
    "id": "BTaIunAl3Bnp",
    "outputId": "41392c9a-50ca-4c54-c906-64ba03e4da11"
   },
   "outputs": [
    {
     "data": {
      "text/html": [
       "<div>\n",
       "<style scoped>\n",
       "    .dataframe tbody tr th:only-of-type {\n",
       "        vertical-align: middle;\n",
       "    }\n",
       "\n",
       "    .dataframe tbody tr th {\n",
       "        vertical-align: top;\n",
       "    }\n",
       "\n",
       "    .dataframe thead th {\n",
       "        text-align: right;\n",
       "    }\n",
       "</style>\n",
       "<table border=\"1\" class=\"dataframe\">\n",
       "  <thead>\n",
       "    <tr style=\"text-align: right;\">\n",
       "      <th></th>\n",
       "      <th>지점명</th>\n",
       "      <th>최저기온(°C)</th>\n",
       "      <th>최고기온(°C)</th>\n",
       "      <th>평균 풍속(m/s)</th>\n",
       "      <th>체감 기온(°C)</th>\n",
       "      <th>sin</th>\n",
       "      <th>dif</th>\n",
       "    </tr>\n",
       "  </thead>\n",
       "  <tbody>\n",
       "    <tr>\n",
       "      <th>6008</th>\n",
       "      <td>대관령</td>\n",
       "      <td>-8.4</td>\n",
       "      <td>-2.5</td>\n",
       "      <td>10.9</td>\n",
       "      <td>-10.036727</td>\n",
       "      <td>-0.609902</td>\n",
       "      <td>-5.9</td>\n",
       "    </tr>\n",
       "    <tr>\n",
       "      <th>6329</th>\n",
       "      <td>대관령</td>\n",
       "      <td>2.0</td>\n",
       "      <td>6.7</td>\n",
       "      <td>10.8</td>\n",
       "      <td>2.009628</td>\n",
       "      <td>-0.987957</td>\n",
       "      <td>-4.7</td>\n",
       "    </tr>\n",
       "    <tr>\n",
       "      <th>7802</th>\n",
       "      <td>백령도</td>\n",
       "      <td>9.1</td>\n",
       "      <td>11.8</td>\n",
       "      <td>10.4</td>\n",
       "      <td>8.564140</td>\n",
       "      <td>-0.927542</td>\n",
       "      <td>-2.7</td>\n",
       "    </tr>\n",
       "    <tr>\n",
       "      <th>7869</th>\n",
       "      <td>백령도</td>\n",
       "      <td>-7.9</td>\n",
       "      <td>4.9</td>\n",
       "      <td>11.3</td>\n",
       "      <td>-5.930465</td>\n",
       "      <td>-0.034422</td>\n",
       "      <td>-12.8</td>\n",
       "    </tr>\n",
       "    <tr>\n",
       "      <th>7870</th>\n",
       "      <td>백령도</td>\n",
       "      <td>-10.0</td>\n",
       "      <td>-5.9</td>\n",
       "      <td>12.1</td>\n",
       "      <td>-13.765016</td>\n",
       "      <td>-0.017213</td>\n",
       "      <td>-4.1</td>\n",
       "    </tr>\n",
       "    <tr>\n",
       "      <th>...</th>\n",
       "      <td>...</td>\n",
       "      <td>...</td>\n",
       "      <td>...</td>\n",
       "      <td>...</td>\n",
       "      <td>...</td>\n",
       "      <td>...</td>\n",
       "      <td>...</td>\n",
       "    </tr>\n",
       "    <tr>\n",
       "      <th>47057</th>\n",
       "      <td>고산</td>\n",
       "      <td>8.3</td>\n",
       "      <td>14.2</td>\n",
       "      <td>11.1</td>\n",
       "      <td>9.053429</td>\n",
       "      <td>0.996278</td>\n",
       "      <td>-5.9</td>\n",
       "    </tr>\n",
       "    <tr>\n",
       "      <th>47058</th>\n",
       "      <td>고산</td>\n",
       "      <td>7.7</td>\n",
       "      <td>14.6</td>\n",
       "      <td>10.8</td>\n",
       "      <td>9.460278</td>\n",
       "      <td>0.994642</td>\n",
       "      <td>-6.9</td>\n",
       "    </tr>\n",
       "    <tr>\n",
       "      <th>47066</th>\n",
       "      <td>고산</td>\n",
       "      <td>10.2</td>\n",
       "      <td>16.9</td>\n",
       "      <td>10.3</td>\n",
       "      <td>12.891179</td>\n",
       "      <td>0.970942</td>\n",
       "      <td>-6.7</td>\n",
       "    </tr>\n",
       "    <tr>\n",
       "      <th>47084</th>\n",
       "      <td>고산</td>\n",
       "      <td>15.0</td>\n",
       "      <td>18.7</td>\n",
       "      <td>10.2</td>\n",
       "      <td>17.570819</td>\n",
       "      <td>0.851284</td>\n",
       "      <td>-3.7</td>\n",
       "    </tr>\n",
       "    <tr>\n",
       "      <th>47085</th>\n",
       "      <td>고산</td>\n",
       "      <td>17.2</td>\n",
       "      <td>18.9</td>\n",
       "      <td>12.4</td>\n",
       "      <td>18.338606</td>\n",
       "      <td>0.842101</td>\n",
       "      <td>-1.7</td>\n",
       "    </tr>\n",
       "  </tbody>\n",
       "</table>\n",
       "<p>271 rows × 7 columns</p>\n",
       "</div>"
      ],
      "text/plain": [
       "       지점명  최저기온(°C)  최고기온(°C)  평균 풍속(m/s)  체감 기온(°C)       sin   dif\n",
       "6008   대관령      -8.4      -2.5        10.9 -10.036727 -0.609902  -5.9\n",
       "6329   대관령       2.0       6.7        10.8   2.009628 -0.987957  -4.7\n",
       "7802   백령도       9.1      11.8        10.4   8.564140 -0.927542  -2.7\n",
       "7869   백령도      -7.9       4.9        11.3  -5.930465 -0.034422 -12.8\n",
       "7870   백령도     -10.0      -5.9        12.1 -13.765016 -0.017213  -4.1\n",
       "...    ...       ...       ...         ...        ...       ...   ...\n",
       "47057   고산       8.3      14.2        11.1   9.053429  0.996278  -5.9\n",
       "47058   고산       7.7      14.6        10.8   9.460278  0.994642  -6.9\n",
       "47066   고산      10.2      16.9        10.3  12.891179  0.970942  -6.7\n",
       "47084   고산      15.0      18.7        10.2  17.570819  0.851284  -3.7\n",
       "47085   고산      17.2      18.9        12.4  18.338606  0.842101  -1.7\n",
       "\n",
       "[271 rows x 7 columns]"
      ]
     },
     "execution_count": 21,
     "metadata": {},
     "output_type": "execute_result"
    }
   ],
   "source": [
    "# 평균 풍속과 체감기온의 차이 확인용\n",
    "X[X['평균 풍속(m/s)']> 10]"
   ]
  },
  {
   "cell_type": "markdown",
   "metadata": {
    "id": "L7M21xEN25Jd"
   },
   "source": [
    "그래프 그릴시 한글이 깨지는 오류를 못 잡음\n",
    "그래서 영어로 그냥 변경"
   ]
  },
  {
   "cell_type": "code",
   "execution_count": 22,
   "metadata": {
    "ExecuteTime": {
     "end_time": "2023-06-08T11:32:47.416212Z",
     "start_time": "2023-06-08T11:32:47.400585Z"
    },
    "executionInfo": {
     "elapsed": 298,
     "status": "ok",
     "timestamp": 1686118737149,
     "user": {
      "displayName": "박영서",
      "userId": "12258658121733962728"
     },
     "user_tz": -540
    },
    "id": "IH-TQFDH2u7M"
   },
   "outputs": [],
   "source": [
    "# 컬럼 이름 변경\n",
    "X.rename(columns={'지점명': 'area'}, inplace=True)\n",
    "X.rename(columns={'최저기온(°C)': 'row_tmp'}, inplace=True)\n",
    "X.rename(columns={'최고기온(°C)': 'top_tmp'}, inplace=True)\n",
    "X.rename(columns={'평균 풍속(m/s)': 'av_wsd'}, inplace=True)\n",
    "X.rename(columns={'체감 기온(°C)': 'ap_tmp'}, inplace=True)"
   ]
  },
  {
   "cell_type": "markdown",
   "metadata": {},
   "source": [
    " - 전처리 과정이 조금 오래걸리니 파일로 저장해 둠"
   ]
  },
  {
   "cell_type": "code",
   "execution_count": 23,
   "metadata": {
    "ExecuteTime": {
     "end_time": "2023-06-08T11:32:50.184684Z",
     "start_time": "2023-06-08T11:32:49.602699Z"
    }
   },
   "outputs": [],
   "source": [
    "import pandas as pd\n",
    "\n",
    "# CSV 파일로 저장\n",
    "X.to_csv('pro_weather_0608.csv', index=False)\n"
   ]
  },
  {
   "cell_type": "markdown",
   "metadata": {},
   "source": [
    "# 모델링"
   ]
  },
  {
   "cell_type": "markdown",
   "metadata": {},
   "source": [
    "## import"
   ]
  },
  {
   "cell_type": "code",
   "execution_count": 24,
   "metadata": {
    "ExecuteTime": {
     "end_time": "2023-06-08T11:32:54.977070Z",
     "start_time": "2023-06-08T11:32:54.954175Z"
    }
   },
   "outputs": [],
   "source": [
    "from sklearn.preprocessing import StandardScaler\n",
    "\n",
    "import numpy as np \n",
    "import pandas as pd\n",
    "import matplotlib.pyplot as plt\n",
    "import seaborn as sns\n",
    "%matplotlib inline\n",
    "\n",
    "import os\n",
    "import warnings\n",
    "\n",
    "warnings.filterwarnings('ignore')\n",
    "\n",
    "from datetime import datetime"
   ]
  },
  {
   "cell_type": "code",
   "execution_count": 25,
   "metadata": {
    "ExecuteTime": {
     "end_time": "2023-06-08T11:32:55.535590Z",
     "start_time": "2023-06-08T11:32:55.405709Z"
    }
   },
   "outputs": [
    {
     "data": {
      "text/plain": [
       "(103825, 7)"
      ]
     },
     "execution_count": 25,
     "metadata": {},
     "output_type": "execute_result"
    }
   ],
   "source": [
    "X_=pd.read_csv('./pro_weather_0608.csv')\n",
    "X_.shape"
   ]
  },
  {
   "cell_type": "code",
   "execution_count": 26,
   "metadata": {
    "ExecuteTime": {
     "end_time": "2023-06-08T11:32:57.881919Z",
     "start_time": "2023-06-08T11:32:57.861996Z"
    }
   },
   "outputs": [
    {
     "data": {
      "text/html": [
       "<div>\n",
       "<style scoped>\n",
       "    .dataframe tbody tr th:only-of-type {\n",
       "        vertical-align: middle;\n",
       "    }\n",
       "\n",
       "    .dataframe tbody tr th {\n",
       "        vertical-align: top;\n",
       "    }\n",
       "\n",
       "    .dataframe thead th {\n",
       "        text-align: right;\n",
       "    }\n",
       "</style>\n",
       "<table border=\"1\" class=\"dataframe\">\n",
       "  <thead>\n",
       "    <tr style=\"text-align: right;\">\n",
       "      <th></th>\n",
       "      <th>area</th>\n",
       "      <th>row_tmp</th>\n",
       "      <th>top_tmp</th>\n",
       "      <th>av_wsd</th>\n",
       "      <th>ap_tmp</th>\n",
       "      <th>sin</th>\n",
       "      <th>dif</th>\n",
       "    </tr>\n",
       "  </thead>\n",
       "  <tbody>\n",
       "    <tr>\n",
       "      <th>0</th>\n",
       "      <td>속초</td>\n",
       "      <td>16.7</td>\n",
       "      <td>29.4</td>\n",
       "      <td>1.9</td>\n",
       "      <td>24.708420</td>\n",
       "      <td>0.393590</td>\n",
       "      <td>-12.7</td>\n",
       "    </tr>\n",
       "    <tr>\n",
       "      <th>1</th>\n",
       "      <td>속초</td>\n",
       "      <td>20.4</td>\n",
       "      <td>32.0</td>\n",
       "      <td>1.3</td>\n",
       "      <td>27.137514</td>\n",
       "      <td>0.377708</td>\n",
       "      <td>-11.6</td>\n",
       "    </tr>\n",
       "    <tr>\n",
       "      <th>2</th>\n",
       "      <td>속초</td>\n",
       "      <td>19.6</td>\n",
       "      <td>29.6</td>\n",
       "      <td>1.7</td>\n",
       "      <td>26.228346</td>\n",
       "      <td>0.361714</td>\n",
       "      <td>-10.0</td>\n",
       "    </tr>\n",
       "    <tr>\n",
       "      <th>3</th>\n",
       "      <td>속초</td>\n",
       "      <td>21.9</td>\n",
       "      <td>29.1</td>\n",
       "      <td>1.8</td>\n",
       "      <td>26.739146</td>\n",
       "      <td>0.345612</td>\n",
       "      <td>-7.2</td>\n",
       "    </tr>\n",
       "    <tr>\n",
       "      <th>4</th>\n",
       "      <td>속초</td>\n",
       "      <td>19.3</td>\n",
       "      <td>22.3</td>\n",
       "      <td>1.1</td>\n",
       "      <td>22.466776</td>\n",
       "      <td>0.329408</td>\n",
       "      <td>-3.0</td>\n",
       "    </tr>\n",
       "    <tr>\n",
       "      <th>...</th>\n",
       "      <td>...</td>\n",
       "      <td>...</td>\n",
       "      <td>...</td>\n",
       "      <td>...</td>\n",
       "      <td>...</td>\n",
       "      <td>...</td>\n",
       "      <td>...</td>\n",
       "    </tr>\n",
       "    <tr>\n",
       "      <th>103820</th>\n",
       "      <td>남해</td>\n",
       "      <td>17.1</td>\n",
       "      <td>27.3</td>\n",
       "      <td>1.2</td>\n",
       "      <td>24.273593</td>\n",
       "      <td>0.479937</td>\n",
       "      <td>-10.2</td>\n",
       "    </tr>\n",
       "    <tr>\n",
       "      <th>103821</th>\n",
       "      <td>남해</td>\n",
       "      <td>16.4</td>\n",
       "      <td>28.2</td>\n",
       "      <td>1.1</td>\n",
       "      <td>25.231827</td>\n",
       "      <td>0.464723</td>\n",
       "      <td>-11.8</td>\n",
       "    </tr>\n",
       "    <tr>\n",
       "      <th>103822</th>\n",
       "      <td>남해</td>\n",
       "      <td>18.4</td>\n",
       "      <td>26.6</td>\n",
       "      <td>1.1</td>\n",
       "      <td>24.412553</td>\n",
       "      <td>0.449370</td>\n",
       "      <td>-8.2</td>\n",
       "    </tr>\n",
       "    <tr>\n",
       "      <th>103823</th>\n",
       "      <td>남해</td>\n",
       "      <td>17.4</td>\n",
       "      <td>25.1</td>\n",
       "      <td>1.1</td>\n",
       "      <td>22.569186</td>\n",
       "      <td>0.433884</td>\n",
       "      <td>-7.7</td>\n",
       "    </tr>\n",
       "    <tr>\n",
       "      <th>103824</th>\n",
       "      <td>남해</td>\n",
       "      <td>16.5</td>\n",
       "      <td>28.3</td>\n",
       "      <td>1.1</td>\n",
       "      <td>23.798097</td>\n",
       "      <td>0.418268</td>\n",
       "      <td>-11.8</td>\n",
       "    </tr>\n",
       "  </tbody>\n",
       "</table>\n",
       "<p>103825 rows × 7 columns</p>\n",
       "</div>"
      ],
      "text/plain": [
       "       area  row_tmp  top_tmp  av_wsd     ap_tmp       sin   dif\n",
       "0        속초     16.7     29.4     1.9  24.708420  0.393590 -12.7\n",
       "1        속초     20.4     32.0     1.3  27.137514  0.377708 -11.6\n",
       "2        속초     19.6     29.6     1.7  26.228346  0.361714 -10.0\n",
       "3        속초     21.9     29.1     1.8  26.739146  0.345612  -7.2\n",
       "4        속초     19.3     22.3     1.1  22.466776  0.329408  -3.0\n",
       "...     ...      ...      ...     ...        ...       ...   ...\n",
       "103820   남해     17.1     27.3     1.2  24.273593  0.479937 -10.2\n",
       "103821   남해     16.4     28.2     1.1  25.231827  0.464723 -11.8\n",
       "103822   남해     18.4     26.6     1.1  24.412553  0.449370  -8.2\n",
       "103823   남해     17.4     25.1     1.1  22.569186  0.433884  -7.7\n",
       "103824   남해     16.5     28.3     1.1  23.798097  0.418268 -11.8\n",
       "\n",
       "[103825 rows x 7 columns]"
      ]
     },
     "execution_count": 26,
     "metadata": {},
     "output_type": "execute_result"
    }
   ],
   "source": [
    "X_"
   ]
  },
  {
   "cell_type": "markdown",
   "metadata": {
    "id": "X0G-IBYgbknn"
   },
   "source": [
    "## 스케일링"
   ]
  },
  {
   "cell_type": "markdown",
   "metadata": {
    "ExecuteTime": {
     "end_time": "2023-06-09T02:44:17.661784Z",
     "start_time": "2023-06-09T02:44:17.643151Z"
    }
   },
   "source": [
    "### 컬럼 선택"
   ]
  },
  {
   "cell_type": "code",
   "execution_count": 27,
   "metadata": {
    "ExecuteTime": {
     "end_time": "2023-06-08T11:32:59.982257Z",
     "start_time": "2023-06-08T11:32:59.971905Z"
    },
    "executionInfo": {
     "elapsed": 305,
     "status": "ok",
     "timestamp": 1686118769150,
     "user": {
      "displayName": "박영서",
      "userId": "12258658121733962728"
     },
     "user_tz": -540
    },
    "id": "-0DC1mJGbkbe"
   },
   "outputs": [],
   "source": [
    "from sklearn.preprocessing import StandardScaler"
   ]
  },
  {
   "cell_type": "code",
   "execution_count": 28,
   "metadata": {
    "ExecuteTime": {
     "end_time": "2023-06-08T11:33:01.182826Z",
     "start_time": "2023-06-08T11:33:01.166530Z"
    },
    "colab": {
     "base_uri": "https://localhost:8080/"
    },
    "executionInfo": {
     "elapsed": 318,
     "status": "ok",
     "timestamp": 1686118770897,
     "user": {
      "displayName": "박영서",
      "userId": "12258658121733962728"
     },
     "user_tz": -540
    },
    "id": "vYntO-nTF5K6",
    "outputId": "e6563206-ac0b-4d5f-ac1d-6a97e2f4b524"
   },
   "outputs": [
    {
     "data": {
      "text/plain": [
       "Index(['area', 'row_tmp', 'top_tmp', 'av_wsd', 'ap_tmp', 'sin', 'dif'], dtype='object')"
      ]
     },
     "execution_count": 28,
     "metadata": {},
     "output_type": "execute_result"
    }
   ],
   "source": [
    "X_.columns"
   ]
  },
  {
   "cell_type": "code",
   "execution_count": 29,
   "metadata": {
    "ExecuteTime": {
     "end_time": "2023-06-08T11:33:45.960353Z",
     "start_time": "2023-06-08T11:33:45.945060Z"
    },
    "executionInfo": {
     "elapsed": 3,
     "status": "ok",
     "timestamp": 1686118797931,
     "user": {
      "displayName": "박영서",
      "userId": "12258658121733962728"
     },
     "user_tz": -540
    },
    "id": "5kY3uHsIGQQa"
   },
   "outputs": [],
   "source": [
    "cols=['row_tmp', 'top_tmp', 'av_wsd', 'ap_tmp', 'sin', 'dif']"
   ]
  },
  {
   "cell_type": "code",
   "execution_count": 30,
   "metadata": {
    "ExecuteTime": {
     "end_time": "2023-06-08T11:33:46.990402Z",
     "start_time": "2023-06-08T11:33:46.945104Z"
    },
    "colab": {
     "base_uri": "https://localhost:8080/",
     "height": 206
    },
    "executionInfo": {
     "elapsed": 3,
     "status": "ok",
     "timestamp": 1686118799087,
     "user": {
      "displayName": "박영서",
      "userId": "12258658121733962728"
     },
     "user_tz": -540
    },
    "id": "uCBcGjo7bkZo",
    "outputId": "5f9d31d2-0fad-4f38-8ace-ce36de7a32e0"
   },
   "outputs": [
    {
     "data": {
      "text/html": [
       "<div>\n",
       "<style scoped>\n",
       "    .dataframe tbody tr th:only-of-type {\n",
       "        vertical-align: middle;\n",
       "    }\n",
       "\n",
       "    .dataframe tbody tr th {\n",
       "        vertical-align: top;\n",
       "    }\n",
       "\n",
       "    .dataframe thead th {\n",
       "        text-align: right;\n",
       "    }\n",
       "</style>\n",
       "<table border=\"1\" class=\"dataframe\">\n",
       "  <thead>\n",
       "    <tr style=\"text-align: right;\">\n",
       "      <th></th>\n",
       "      <th>area</th>\n",
       "      <th>row_tmp</th>\n",
       "      <th>top_tmp</th>\n",
       "      <th>av_wsd</th>\n",
       "      <th>ap_tmp</th>\n",
       "      <th>sin</th>\n",
       "      <th>dif</th>\n",
       "    </tr>\n",
       "  </thead>\n",
       "  <tbody>\n",
       "    <tr>\n",
       "      <th>0</th>\n",
       "      <td>속초</td>\n",
       "      <td>0.775646</td>\n",
       "      <td>1.125846</td>\n",
       "      <td>-0.007090</td>\n",
       "      <td>0.969046</td>\n",
       "      <td>0.556963</td>\n",
       "      <td>-0.584718</td>\n",
       "    </tr>\n",
       "    <tr>\n",
       "      <th>1</th>\n",
       "      <td>속초</td>\n",
       "      <td>1.131829</td>\n",
       "      <td>1.402871</td>\n",
       "      <td>-0.444806</td>\n",
       "      <td>1.208421</td>\n",
       "      <td>0.534472</td>\n",
       "      <td>-0.328385</td>\n",
       "    </tr>\n",
       "    <tr>\n",
       "      <th>2</th>\n",
       "      <td>속초</td>\n",
       "      <td>1.054816</td>\n",
       "      <td>1.147156</td>\n",
       "      <td>-0.152996</td>\n",
       "      <td>1.118827</td>\n",
       "      <td>0.511823</td>\n",
       "      <td>0.044463</td>\n",
       "    </tr>\n",
       "    <tr>\n",
       "      <th>3</th>\n",
       "      <td>속초</td>\n",
       "      <td>1.276227</td>\n",
       "      <td>1.093881</td>\n",
       "      <td>-0.080043</td>\n",
       "      <td>1.169164</td>\n",
       "      <td>0.489022</td>\n",
       "      <td>0.696947</td>\n",
       "    </tr>\n",
       "    <tr>\n",
       "      <th>4</th>\n",
       "      <td>속초</td>\n",
       "      <td>1.025936</td>\n",
       "      <td>0.369354</td>\n",
       "      <td>-0.590711</td>\n",
       "      <td>0.748143</td>\n",
       "      <td>0.466076</td>\n",
       "      <td>1.675673</td>\n",
       "    </tr>\n",
       "  </tbody>\n",
       "</table>\n",
       "</div>"
      ],
      "text/plain": [
       "  area   row_tmp   top_tmp    av_wsd    ap_tmp       sin       dif\n",
       "0   속초  0.775646  1.125846 -0.007090  0.969046  0.556963 -0.584718\n",
       "1   속초  1.131829  1.402871 -0.444806  1.208421  0.534472 -0.328385\n",
       "2   속초  1.054816  1.147156 -0.152996  1.118827  0.511823  0.044463\n",
       "3   속초  1.276227  1.093881 -0.080043  1.169164  0.489022  0.696947\n",
       "4   속초  1.025936  0.369354 -0.590711  0.748143  0.466076  1.675673"
      ]
     },
     "execution_count": 30,
     "metadata": {},
     "output_type": "execute_result"
    }
   ],
   "source": [
    "scaler = StandardScaler()\n",
    "X_scaled = scaler.fit_transform(X_[cols])\n",
    "X_[cols] = X_scaled\n",
    "X_.head()"
   ]
  },
  {
   "cell_type": "markdown",
   "metadata": {
    "id": "CnI8dvm0ATss"
   },
   "source": [
    "분석"
   ]
  },
  {
   "cell_type": "code",
   "execution_count": 31,
   "metadata": {
    "ExecuteTime": {
     "end_time": "2023-06-08T11:33:48.462133Z",
     "start_time": "2023-06-08T11:33:48.457189Z"
    },
    "executionInfo": {
     "elapsed": 289,
     "status": "ok",
     "timestamp": 1686118825672,
     "user": {
      "displayName": "박영서",
      "userId": "12258658121733962728"
     },
     "user_tz": -540
    },
    "id": "Wf1bOaGamgn_"
   },
   "outputs": [],
   "source": [
    "df_area = X_['area']"
   ]
  },
  {
   "cell_type": "code",
   "execution_count": 32,
   "metadata": {
    "ExecuteTime": {
     "end_time": "2023-06-08T11:33:51.222747Z",
     "start_time": "2023-06-08T11:33:51.211062Z"
    },
    "executionInfo": {
     "elapsed": 392,
     "status": "ok",
     "timestamp": 1686118838135,
     "user": {
      "displayName": "박영서",
      "userId": "12258658121733962728"
     },
     "user_tz": -540
    },
    "id": "P6YRLPAliaAL"
   },
   "outputs": [],
   "source": [
    "X=X_.drop(['area', 'top_tmp', 'row_tmp', 'av_wsd'], axis=1)"
   ]
  },
  {
   "cell_type": "code",
   "execution_count": 33,
   "metadata": {
    "ExecuteTime": {
     "end_time": "2023-06-08T11:33:52.133583Z",
     "start_time": "2023-06-08T11:33:52.118569Z"
    }
   },
   "outputs": [],
   "source": [
    "# X=X.drop(['lable','일시'], axis=1)"
   ]
  },
  {
   "cell_type": "code",
   "execution_count": 34,
   "metadata": {
    "ExecuteTime": {
     "end_time": "2023-06-08T11:33:52.906115Z",
     "start_time": "2023-06-08T11:33:52.894646Z"
    },
    "colab": {
     "base_uri": "https://localhost:8080/",
     "height": 206
    },
    "executionInfo": {
     "elapsed": 630,
     "status": "ok",
     "timestamp": 1686118840734,
     "user": {
      "displayName": "박영서",
      "userId": "12258658121733962728"
     },
     "user_tz": -540
    },
    "id": "gpiBKYj9ivzR",
    "outputId": "f6efba08-5cb6-45ac-f104-f377c969f0de"
   },
   "outputs": [
    {
     "data": {
      "text/html": [
       "<div>\n",
       "<style scoped>\n",
       "    .dataframe tbody tr th:only-of-type {\n",
       "        vertical-align: middle;\n",
       "    }\n",
       "\n",
       "    .dataframe tbody tr th {\n",
       "        vertical-align: top;\n",
       "    }\n",
       "\n",
       "    .dataframe thead th {\n",
       "        text-align: right;\n",
       "    }\n",
       "</style>\n",
       "<table border=\"1\" class=\"dataframe\">\n",
       "  <thead>\n",
       "    <tr style=\"text-align: right;\">\n",
       "      <th></th>\n",
       "      <th>ap_tmp</th>\n",
       "      <th>sin</th>\n",
       "      <th>dif</th>\n",
       "    </tr>\n",
       "  </thead>\n",
       "  <tbody>\n",
       "    <tr>\n",
       "      <th>0</th>\n",
       "      <td>0.969046</td>\n",
       "      <td>0.556963</td>\n",
       "      <td>-0.584718</td>\n",
       "    </tr>\n",
       "    <tr>\n",
       "      <th>1</th>\n",
       "      <td>1.208421</td>\n",
       "      <td>0.534472</td>\n",
       "      <td>-0.328385</td>\n",
       "    </tr>\n",
       "    <tr>\n",
       "      <th>2</th>\n",
       "      <td>1.118827</td>\n",
       "      <td>0.511823</td>\n",
       "      <td>0.044463</td>\n",
       "    </tr>\n",
       "    <tr>\n",
       "      <th>3</th>\n",
       "      <td>1.169164</td>\n",
       "      <td>0.489022</td>\n",
       "      <td>0.696947</td>\n",
       "    </tr>\n",
       "    <tr>\n",
       "      <th>4</th>\n",
       "      <td>0.748143</td>\n",
       "      <td>0.466076</td>\n",
       "      <td>1.675673</td>\n",
       "    </tr>\n",
       "  </tbody>\n",
       "</table>\n",
       "</div>"
      ],
      "text/plain": [
       "     ap_tmp       sin       dif\n",
       "0  0.969046  0.556963 -0.584718\n",
       "1  1.208421  0.534472 -0.328385\n",
       "2  1.118827  0.511823  0.044463\n",
       "3  1.169164  0.489022  0.696947\n",
       "4  0.748143  0.466076  1.675673"
      ]
     },
     "execution_count": 34,
     "metadata": {},
     "output_type": "execute_result"
    }
   ],
   "source": [
    "X.head()"
   ]
  },
  {
   "cell_type": "code",
   "execution_count": 35,
   "metadata": {
    "ExecuteTime": {
     "end_time": "2023-06-08T11:33:55.831269Z",
     "start_time": "2023-06-08T11:33:55.819448Z"
    }
   },
   "outputs": [],
   "source": [
    "# X=X.drop('dif', axis=1)"
   ]
  },
  {
   "cell_type": "markdown",
   "metadata": {
    "id": "HEqnhUurhKuy"
   },
   "source": [
    "### k값"
   ]
  },
  {
   "cell_type": "code",
   "execution_count": 174,
   "metadata": {
    "ExecuteTime": {
     "end_time": "2023-06-07T12:32:25.129845Z",
     "start_time": "2023-06-07T12:32:19.762926Z"
    },
    "colab": {
     "base_uri": "https://localhost:8080/",
     "height": 472
    },
    "executionInfo": {
     "elapsed": 48197,
     "status": "ok",
     "timestamp": 1686118972469,
     "user": {
      "displayName": "박영서",
      "userId": "12258658121733962728"
     },
     "user_tz": -540
    },
    "id": "u5e8oDHJhNXx",
    "outputId": "d52fe42b-8e9d-40bc-8079-7889e94456f5"
   },
   "outputs": [
    {
     "data": {
      "image/png": "[encoded data removed]",
      "text/plain": [
       "<Figure size 640x480 with 1 Axes>"
      ]
     },
     "metadata": {},
     "output_type": "display_data"
    }
   ],
   "source": [
    "import numpy as np\n",
    "import matplotlib.pyplot as plt\n",
    "from sklearn.cluster import KMeans\n",
    "\n",
    "# 데이터 준비\n",
    "\n",
    "# 클러스터의 개수(k) 범위 설정\n",
    "k_values = range(7, 15)\n",
    "inertia_values = []\n",
    "\n",
    "# k 값에 따른 비용 함수(inertia) 계산\n",
    "for k in k_values:\n",
    "    kmeans = KMeans(n_clusters=k, random_state=42)\n",
    "    kmeans.fit(X)\n",
    "    inertia_values.append(kmeans.inertia_)\n",
    "\n",
    "# 엘보우 그래프 그리기\n",
    "plt.plot(k_values, inertia_values, 'bx-')\n",
    "plt.xlabel('Number of Clusters (k)')\n",
    "plt.ylabel('Inertia')\n",
    "plt.title('Elbow Method')\n",
    "plt.show()"
   ]
  },
  {
   "cell_type": "code",
   "execution_count": 347,
   "metadata": {
    "ExecuteTime": {
     "end_time": "2023-06-07T13:52:06.589781Z",
     "start_time": "2023-06-07T13:48:15.345165Z"
    },
    "colab": {
     "base_uri": "https://localhost:8080/",
     "height": 472
    },
    "executionInfo": {
     "elapsed": 630476,
     "status": "ok",
     "timestamp": 1686119612175,
     "user": {
      "displayName": "박영서",
      "userId": "12258658121733962728"
     },
     "user_tz": -540
    },
    "id": "J3HJwSsNhNVT",
    "outputId": "1582bcc5-1000-4199-b0e7-378d65882e0d"
   },
   "outputs": [
    {
     "data": {
      "image/png": "[encoded data removed]",
      "text/plain": [
       "<Figure size 640x480 with 1 Axes>"
      ]
     },
     "metadata": {},
     "output_type": "display_data"
    }
   ],
   "source": [
    "import numpy as np\n",
    "import matplotlib.pyplot as plt\n",
    "from sklearn.cluster import KMeans\n",
    "from sklearn.metrics import silhouette_score\n",
    "\n",
    "# 데이터 준비\n",
    "\n",
    "# 가중치 설정\n",
    "weights = [0.8, 0.1, 0.1]  # 각 열에 대한 가중치 설정\n",
    "\n",
    "# 데이터셋에 가중치 적용\n",
    "weighted_data = X * weights\n",
    "\n",
    "# 클러스터의 개수(k) 범위 설정\n",
    "k_values = range(13, 18)\n",
    "silhouette_scores = []\n",
    "\n",
    "# k 값에 따른 실루엣 계수 계산\n",
    "for k in k_values:\n",
    "    kmeans = KMeans(n_clusters=k, random_state=42)\n",
    "    kmeans.fit(weighted_data)\n",
    "    labels = kmeans.labels_\n",
    "    score = silhouette_score(weighted_data, labels)\n",
    "    silhouette_scores.append(score)\n",
    "\n",
    "# 실루엣 계수 그래프 그리기\n",
    "plt.plot(k_values, silhouette_scores, 'bx-')\n",
    "plt.xlabel('Number of Clusters (k)')\n",
    "plt.ylabel('Silhouette Score')\n",
    "plt.title('Silhouette Method')\n",
    "plt.show()"
   ]
  },
  {
   "cell_type": "code",
   "execution_count": 36,
   "metadata": {
    "ExecuteTime": {
     "end_time": "2023-06-08T11:34:04.956445Z",
     "start_time": "2023-06-08T11:34:03.718726Z"
    }
   },
   "outputs": [
    {
     "name": "stdout",
     "output_type": "stream",
     "text": [
      "Labels: [ 1 10 10 ...  1  1  1]\n",
      "Centroids: [[-0.88280105  0.02978347 -0.01872751]\n",
      " [ 0.60390606  0.07304512 -0.02735678]\n",
      " [-0.01075118  0.12943052 -0.06090277]\n",
      " [ 1.16514328 -0.06503417  0.04679455]\n",
      " [-1.9612118   0.01892859  0.00864707]\n",
      " [-0.61087104  0.03577766 -0.02104341]\n",
      " [ 0.38436197 -0.12670662  0.02200717]\n",
      " [-1.49277569  0.02724235  0.00348868]\n",
      " [ 0.01311924 -0.12200708 -0.01755076]\n",
      " [-0.30478487 -0.10646721 -0.05622774]\n",
      " [ 0.90728505 -0.04678806  0.04839631]\n",
      " [ 0.29935072  0.10804882 -0.0162329 ]\n",
      " [ 0.67961115 -0.09204719  0.07249254]\n",
      " [-0.31777708  0.12711137 -0.0320293 ]\n",
      " [-1.1650001   0.0286974  -0.00596318]]\n"
     ]
    }
   ],
   "source": [
    "from sklearn.cluster import KMeans\n",
    "\n",
    "# 가중치 설정\n",
    "weights = [0.8, 0.1, 0.1]  # 각 열에 대한 가중치 설정\n",
    "\n",
    "# KMeans 모델 초기화\n",
    "km_model = KMeans(n_clusters=15, random_state=0)\n",
    "\n",
    "# 데이터셋에 가중치 적용\n",
    "weighted_data = X * weights\n",
    "\n",
    "# 클러스터링 모델 훈련\n",
    "kmeans_model = km_model.fit(weighted_data)\n",
    "\n",
    "# 클러스터링 결과 확인\n",
    "labels = kmeans_model.labels_\n",
    "centroids = kmeans_model.cluster_centers_\n",
    "\n",
    "# 결과 출력 또는 저장 등 추가 작업 수행\n",
    "print(\"Labels:\", labels)\n",
    "print(\"Centroids:\", centroids)\n"
   ]
  },
  {
   "cell_type": "code",
   "execution_count": 37,
   "metadata": {
    "ExecuteTime": {
     "end_time": "2023-06-08T11:34:11.378304Z",
     "start_time": "2023-06-08T11:34:11.363432Z"
    }
   },
   "outputs": [],
   "source": [
    "df_['label'] = labels"
   ]
  },
  {
   "cell_type": "code",
   "execution_count": 38,
   "metadata": {
    "ExecuteTime": {
     "end_time": "2023-06-08T11:34:12.032642Z",
     "start_time": "2023-06-08T11:34:12.009551Z"
    }
   },
   "outputs": [
    {
     "data": {
      "text/html": [
       "<div>\n",
       "<style scoped>\n",
       "    .dataframe tbody tr th:only-of-type {\n",
       "        vertical-align: middle;\n",
       "    }\n",
       "\n",
       "    .dataframe tbody tr th {\n",
       "        vertical-align: top;\n",
       "    }\n",
       "\n",
       "    .dataframe thead th {\n",
       "        text-align: right;\n",
       "    }\n",
       "</style>\n",
       "<table border=\"1\" class=\"dataframe\">\n",
       "  <thead>\n",
       "    <tr style=\"text-align: right;\">\n",
       "      <th></th>\n",
       "      <th>지점명</th>\n",
       "      <th>일시</th>\n",
       "      <th>평균기온(°C)</th>\n",
       "      <th>최저기온(°C)</th>\n",
       "      <th>최고기온(°C)</th>\n",
       "      <th>평균 풍속(m/s)</th>\n",
       "      <th>체감 기온(°C)</th>\n",
       "      <th>sin</th>\n",
       "      <th>label</th>\n",
       "    </tr>\n",
       "  </thead>\n",
       "  <tbody>\n",
       "    <tr>\n",
       "      <th>0</th>\n",
       "      <td>속초</td>\n",
       "      <td>2020-06-08</td>\n",
       "      <td>22.8</td>\n",
       "      <td>16.7</td>\n",
       "      <td>29.4</td>\n",
       "      <td>1.9</td>\n",
       "      <td>24.708420</td>\n",
       "      <td>0.39359</td>\n",
       "      <td>1</td>\n",
       "    </tr>\n",
       "    <tr>\n",
       "      <th>1</th>\n",
       "      <td>속초</td>\n",
       "      <td>2020-06-09</td>\n",
       "      <td>25.0</td>\n",
       "      <td>20.4</td>\n",
       "      <td>32.0</td>\n",
       "      <td>1.3</td>\n",
       "      <td>27.137514</td>\n",
       "      <td>0.377708</td>\n",
       "      <td>10</td>\n",
       "    </tr>\n",
       "    <tr>\n",
       "      <th>2</th>\n",
       "      <td>속초</td>\n",
       "      <td>2020-06-10</td>\n",
       "      <td>24.2</td>\n",
       "      <td>19.6</td>\n",
       "      <td>29.6</td>\n",
       "      <td>1.7</td>\n",
       "      <td>26.228346</td>\n",
       "      <td>0.361714</td>\n",
       "      <td>10</td>\n",
       "    </tr>\n",
       "    <tr>\n",
       "      <th>3</th>\n",
       "      <td>속초</td>\n",
       "      <td>2020-06-11</td>\n",
       "      <td>24.7</td>\n",
       "      <td>21.9</td>\n",
       "      <td>29.1</td>\n",
       "      <td>1.8</td>\n",
       "      <td>26.739146</td>\n",
       "      <td>0.345612</td>\n",
       "      <td>10</td>\n",
       "    </tr>\n",
       "    <tr>\n",
       "      <th>4</th>\n",
       "      <td>속초</td>\n",
       "      <td>2020-06-12</td>\n",
       "      <td>20.4</td>\n",
       "      <td>19.3</td>\n",
       "      <td>22.3</td>\n",
       "      <td>1.1</td>\n",
       "      <td>22.466776</td>\n",
       "      <td>0.329408</td>\n",
       "      <td>12</td>\n",
       "    </tr>\n",
       "    <tr>\n",
       "      <th>...</th>\n",
       "      <td>...</td>\n",
       "      <td>...</td>\n",
       "      <td>...</td>\n",
       "      <td>...</td>\n",
       "      <td>...</td>\n",
       "      <td>...</td>\n",
       "      <td>...</td>\n",
       "      <td>...</td>\n",
       "      <td>...</td>\n",
       "    </tr>\n",
       "    <tr>\n",
       "      <th>104035</th>\n",
       "      <td>남해</td>\n",
       "      <td>2023-06-03</td>\n",
       "      <td>22.2</td>\n",
       "      <td>17.1</td>\n",
       "      <td>27.3</td>\n",
       "      <td>1.2</td>\n",
       "      <td>24.273593</td>\n",
       "      <td>0.479937</td>\n",
       "      <td>1</td>\n",
       "    </tr>\n",
       "    <tr>\n",
       "      <th>104036</th>\n",
       "      <td>남해</td>\n",
       "      <td>2023-06-04</td>\n",
       "      <td>23.1</td>\n",
       "      <td>16.4</td>\n",
       "      <td>28.2</td>\n",
       "      <td>1.1</td>\n",
       "      <td>25.231827</td>\n",
       "      <td>0.464723</td>\n",
       "      <td>10</td>\n",
       "    </tr>\n",
       "    <tr>\n",
       "      <th>104037</th>\n",
       "      <td>남해</td>\n",
       "      <td>2023-06-05</td>\n",
       "      <td>22.3</td>\n",
       "      <td>18.4</td>\n",
       "      <td>26.6</td>\n",
       "      <td>1.1</td>\n",
       "      <td>24.412553</td>\n",
       "      <td>0.44937</td>\n",
       "      <td>1</td>\n",
       "    </tr>\n",
       "    <tr>\n",
       "      <th>104038</th>\n",
       "      <td>남해</td>\n",
       "      <td>2023-06-06</td>\n",
       "      <td>20.5</td>\n",
       "      <td>17.4</td>\n",
       "      <td>25.1</td>\n",
       "      <td>1.1</td>\n",
       "      <td>22.569186</td>\n",
       "      <td>0.433884</td>\n",
       "      <td>1</td>\n",
       "    </tr>\n",
       "    <tr>\n",
       "      <th>104039</th>\n",
       "      <td>남해</td>\n",
       "      <td>2023-06-07</td>\n",
       "      <td>21.7</td>\n",
       "      <td>16.5</td>\n",
       "      <td>28.3</td>\n",
       "      <td>1.1</td>\n",
       "      <td>23.798097</td>\n",
       "      <td>0.418268</td>\n",
       "      <td>1</td>\n",
       "    </tr>\n",
       "  </tbody>\n",
       "</table>\n",
       "<p>103825 rows × 9 columns</p>\n",
       "</div>"
      ],
      "text/plain": [
       "       지점명         일시  평균기온(°C)  최저기온(°C)  최고기온(°C)  평균 풍속(m/s)  체감 기온(°C)  \\\n",
       "0       속초 2020-06-08      22.8      16.7      29.4         1.9  24.708420   \n",
       "1       속초 2020-06-09      25.0      20.4      32.0         1.3  27.137514   \n",
       "2       속초 2020-06-10      24.2      19.6      29.6         1.7  26.228346   \n",
       "3       속초 2020-06-11      24.7      21.9      29.1         1.8  26.739146   \n",
       "4       속초 2020-06-12      20.4      19.3      22.3         1.1  22.466776   \n",
       "...     ..        ...       ...       ...       ...         ...        ...   \n",
       "104035  남해 2023-06-03      22.2      17.1      27.3         1.2  24.273593   \n",
       "104036  남해 2023-06-04      23.1      16.4      28.2         1.1  25.231827   \n",
       "104037  남해 2023-06-05      22.3      18.4      26.6         1.1  24.412553   \n",
       "104038  남해 2023-06-06      20.5      17.4      25.1         1.1  22.569186   \n",
       "104039  남해 2023-06-07      21.7      16.5      28.3         1.1  23.798097   \n",
       "\n",
       "             sin  label  \n",
       "0        0.39359      1  \n",
       "1       0.377708     10  \n",
       "2       0.361714     10  \n",
       "3       0.345612     10  \n",
       "4       0.329408     12  \n",
       "...          ...    ...  \n",
       "104035  0.479937      1  \n",
       "104036  0.464723     10  \n",
       "104037   0.44937      1  \n",
       "104038  0.433884      1  \n",
       "104039  0.418268      1  \n",
       "\n",
       "[103825 rows x 9 columns]"
      ]
     },
     "execution_count": 38,
     "metadata": {},
     "output_type": "execute_result"
    }
   ],
   "source": [
    "# df_ 데이터랑 라벨값 확인\n",
    "df_"
   ]
  },
  {
   "cell_type": "code",
   "execution_count": 42,
   "metadata": {
    "ExecuteTime": {
     "end_time": "2023-06-08T11:37:13.082944Z",
     "start_time": "2023-06-08T11:37:12.394124Z"
    }
   },
   "outputs": [],
   "source": [
    "import pandas as pd\n",
    "\n",
    "# CSV 파일로 저장\n",
    "df_.to_csv('pre_weather_0608.csv', index=False)"
   ]
  },
  {
   "cell_type": "code",
   "execution_count": 41,
   "metadata": {
    "ExecuteTime": {
     "end_time": "2023-06-08T11:35:45.094201Z",
     "start_time": "2023-06-08T11:35:45.046830Z"
    }
   },
   "outputs": [
    {
     "name": "stdout",
     "output_type": "stream",
     "text": [
      "0\n",
      "min    1.771912\n",
      "max    5.443173\n",
      "Name: 체감 기온(°C), dtype: float64\n",
      "1\n",
      "min    20.539813\n",
      "max    25.436646\n",
      "Name: 체감 기온(°C), dtype: float64\n",
      "2\n",
      "min    12.533076\n",
      "max    17.210184\n",
      "Name: 체감 기온(°C), dtype: float64\n",
      "3\n",
      "min    27.950706\n",
      "max    36.046959\n",
      "Name: 체감 기온(°C), dtype: float64\n",
      "4\n",
      "min   -24.463885\n",
      "max    -7.019395\n",
      "Name: 체감 기온(°C), dtype: float64\n",
      "5\n",
      "min    5.359450\n",
      "max    9.301334\n",
      "Name: 체감 기온(°C), dtype: float64\n",
      "6\n",
      "min    17.176147\n",
      "max    22.029833\n",
      "Name: 체감 기온(°C), dtype: float64\n",
      "7\n",
      "min   -7.034803\n",
      "max   -1.946492\n",
      "Name: 체감 기온(°C), dtype: float64\n",
      "8\n",
      "min    12.747006\n",
      "max    17.611821\n",
      "Name: 체감 기온(°C), dtype: float64\n",
      "9\n",
      "min     8.313641\n",
      "max    13.237162\n",
      "Name: 체감 기온(°C), dtype: float64\n",
      "10\n",
      "min    24.592529\n",
      "max    28.103247\n",
      "Name: 체감 기온(°C), dtype: float64\n",
      "11\n",
      "min    16.343184\n",
      "max    20.731641\n",
      "Name: 체감 기온(°C), dtype: float64\n",
      "12\n",
      "min    21.218947\n",
      "max    25.275010\n",
      "Name: 체감 기온(°C), dtype: float64\n",
      "13\n",
      "min     8.672400\n",
      "max    13.011811\n",
      "Name: 체감 기온(°C), dtype: float64\n",
      "14\n",
      "min   -2.031915\n",
      "max    1.983477\n",
      "Name: 체감 기온(°C), dtype: float64\n"
     ]
    }
   ],
   "source": [
    "for i in range(15):\n",
    "    print(i)\n",
    "    print(df_[df_['label'] ==i ]['체감 기온(°C)'].agg(['min', 'max']))"
   ]
  },
  {
   "cell_type": "code",
   "execution_count": 65,
   "metadata": {
    "ExecuteTime": {
     "end_time": "2023-06-08T05:45:35.794510Z",
     "start_time": "2023-06-08T05:45:35.754794Z"
    }
   },
   "outputs": [
    {
     "data": {
      "text/html": [
       "<div>\n",
       "<style scoped>\n",
       "    .dataframe tbody tr th:only-of-type {\n",
       "        vertical-align: middle;\n",
       "    }\n",
       "\n",
       "    .dataframe tbody tr th {\n",
       "        vertical-align: top;\n",
       "    }\n",
       "\n",
       "    .dataframe thead th {\n",
       "        text-align: right;\n",
       "    }\n",
       "</style>\n",
       "<table border=\"1\" class=\"dataframe\">\n",
       "  <thead>\n",
       "    <tr style=\"text-align: right;\">\n",
       "      <th></th>\n",
       "      <th>지점명</th>\n",
       "      <th>일시</th>\n",
       "      <th>평균기온(°C)</th>\n",
       "      <th>최저기온(°C)</th>\n",
       "      <th>최고기온(°C)</th>\n",
       "      <th>평균 풍속(m/s)</th>\n",
       "      <th>label</th>\n",
       "    </tr>\n",
       "  </thead>\n",
       "  <tbody>\n",
       "    <tr>\n",
       "      <th>427</th>\n",
       "      <td>속초</td>\n",
       "      <td>2022-07-25</td>\n",
       "      <td>23.6</td>\n",
       "      <td>21.3</td>\n",
       "      <td>26.4</td>\n",
       "      <td>1.5</td>\n",
       "      <td>4</td>\n",
       "    </tr>\n",
       "  </tbody>\n",
       "</table>\n",
       "</div>"
      ],
      "text/plain": [
       "    지점명         일시  평균기온(°C)  최저기온(°C)  최고기온(°C)  평균 풍속(m/s)  label\n",
       "427  속초 2022-07-25      23.6      21.3      26.4         1.5      4"
      ]
     },
     "execution_count": 65,
     "metadata": {},
     "output_type": "execute_result"
    }
   ],
   "source": [
    "df_[(df_['일시'] =='2022-7-25') & (df_['지점명']=='속초')]"
   ]
  },
  {
   "cell_type": "code",
   "execution_count": 55,
   "metadata": {
    "ExecuteTime": {
     "end_time": "2023-06-08T05:43:07.915703Z",
     "start_time": "2023-06-08T05:43:07.847796Z"
    }
   },
   "outputs": [
    {
     "data": {
      "text/html": [
       "<div>\n",
       "<style scoped>\n",
       "    .dataframe tbody tr th:only-of-type {\n",
       "        vertical-align: middle;\n",
       "    }\n",
       "\n",
       "    .dataframe tbody tr th {\n",
       "        vertical-align: top;\n",
       "    }\n",
       "\n",
       "    .dataframe thead th {\n",
       "        text-align: right;\n",
       "    }\n",
       "</style>\n",
       "<table border=\"1\" class=\"dataframe\">\n",
       "  <thead>\n",
       "    <tr style=\"text-align: right;\">\n",
       "      <th></th>\n",
       "      <th>지점명</th>\n",
       "      <th>일시</th>\n",
       "      <th>평균기온(°C)</th>\n",
       "      <th>최저기온(°C)</th>\n",
       "      <th>최고기온(°C)</th>\n",
       "      <th>평균 풍속(m/s)</th>\n",
       "      <th>label</th>\n",
       "    </tr>\n",
       "  </thead>\n",
       "  <tbody>\n",
       "    <tr>\n",
       "      <th>114</th>\n",
       "      <td>속초</td>\n",
       "      <td>2021-09-15</td>\n",
       "      <td>21.7</td>\n",
       "      <td>18.8</td>\n",
       "      <td>25.5</td>\n",
       "      <td>1.9</td>\n",
       "      <td>11</td>\n",
       "    </tr>\n",
       "    <tr>\n",
       "      <th>115</th>\n",
       "      <td>속초</td>\n",
       "      <td>2021-09-16</td>\n",
       "      <td>20.7</td>\n",
       "      <td>17.3</td>\n",
       "      <td>25.2</td>\n",
       "      <td>1.3</td>\n",
       "      <td>11</td>\n",
       "    </tr>\n",
       "    <tr>\n",
       "      <th>116</th>\n",
       "      <td>속초</td>\n",
       "      <td>2021-09-17</td>\n",
       "      <td>21.3</td>\n",
       "      <td>19.0</td>\n",
       "      <td>24.7</td>\n",
       "      <td>1.4</td>\n",
       "      <td>11</td>\n",
       "    </tr>\n",
       "    <tr>\n",
       "      <th>117</th>\n",
       "      <td>속초</td>\n",
       "      <td>2021-09-18</td>\n",
       "      <td>21.2</td>\n",
       "      <td>18.6</td>\n",
       "      <td>24.6</td>\n",
       "      <td>1.6</td>\n",
       "      <td>11</td>\n",
       "    </tr>\n",
       "    <tr>\n",
       "      <th>118</th>\n",
       "      <td>속초</td>\n",
       "      <td>2021-09-19</td>\n",
       "      <td>20.8</td>\n",
       "      <td>17.2</td>\n",
       "      <td>24.2</td>\n",
       "      <td>1.2</td>\n",
       "      <td>11</td>\n",
       "    </tr>\n",
       "    <tr>\n",
       "      <th>119</th>\n",
       "      <td>속초</td>\n",
       "      <td>2021-09-20</td>\n",
       "      <td>21.4</td>\n",
       "      <td>16.8</td>\n",
       "      <td>26.4</td>\n",
       "      <td>1.9</td>\n",
       "      <td>11</td>\n",
       "    </tr>\n",
       "    <tr>\n",
       "      <th>120</th>\n",
       "      <td>속초</td>\n",
       "      <td>2021-09-21</td>\n",
       "      <td>22.5</td>\n",
       "      <td>18.5</td>\n",
       "      <td>28.8</td>\n",
       "      <td>1.2</td>\n",
       "      <td>11</td>\n",
       "    </tr>\n",
       "    <tr>\n",
       "      <th>121</th>\n",
       "      <td>속초</td>\n",
       "      <td>2021-09-22</td>\n",
       "      <td>22.8</td>\n",
       "      <td>20.3</td>\n",
       "      <td>26.5</td>\n",
       "      <td>2.6</td>\n",
       "      <td>11</td>\n",
       "    </tr>\n",
       "    <tr>\n",
       "      <th>122</th>\n",
       "      <td>속초</td>\n",
       "      <td>2021-09-23</td>\n",
       "      <td>21.4</td>\n",
       "      <td>17.1</td>\n",
       "      <td>26.1</td>\n",
       "      <td>2.0</td>\n",
       "      <td>11</td>\n",
       "    </tr>\n",
       "    <tr>\n",
       "      <th>132</th>\n",
       "      <td>속초</td>\n",
       "      <td>2021-10-03</td>\n",
       "      <td>22.3</td>\n",
       "      <td>16.9</td>\n",
       "      <td>27.4</td>\n",
       "      <td>1.4</td>\n",
       "      <td>11</td>\n",
       "    </tr>\n",
       "    <tr>\n",
       "      <th>139</th>\n",
       "      <td>속초</td>\n",
       "      <td>2021-10-10</td>\n",
       "      <td>21.9</td>\n",
       "      <td>17.9</td>\n",
       "      <td>27.5</td>\n",
       "      <td>1.5</td>\n",
       "      <td>11</td>\n",
       "    </tr>\n",
       "    <tr>\n",
       "      <th>393</th>\n",
       "      <td>속초</td>\n",
       "      <td>2022-06-21</td>\n",
       "      <td>22.2</td>\n",
       "      <td>20.0</td>\n",
       "      <td>26.3</td>\n",
       "      <td>1.5</td>\n",
       "      <td>11</td>\n",
       "    </tr>\n",
       "    <tr>\n",
       "      <th>394</th>\n",
       "      <td>속초</td>\n",
       "      <td>2022-06-22</td>\n",
       "      <td>22.3</td>\n",
       "      <td>19.7</td>\n",
       "      <td>25.2</td>\n",
       "      <td>1.7</td>\n",
       "      <td>11</td>\n",
       "    </tr>\n",
       "    <tr>\n",
       "      <th>395</th>\n",
       "      <td>속초</td>\n",
       "      <td>2022-06-23</td>\n",
       "      <td>21.3</td>\n",
       "      <td>20.1</td>\n",
       "      <td>22.9</td>\n",
       "      <td>1.2</td>\n",
       "      <td>11</td>\n",
       "    </tr>\n",
       "    <tr>\n",
       "      <th>402</th>\n",
       "      <td>속초</td>\n",
       "      <td>2022-06-30</td>\n",
       "      <td>22.1</td>\n",
       "      <td>21.1</td>\n",
       "      <td>23.8</td>\n",
       "      <td>1.3</td>\n",
       "      <td>11</td>\n",
       "    </tr>\n",
       "    <tr>\n",
       "      <th>413</th>\n",
       "      <td>속초</td>\n",
       "      <td>2022-07-11</td>\n",
       "      <td>22.8</td>\n",
       "      <td>21.1</td>\n",
       "      <td>26.8</td>\n",
       "      <td>1.8</td>\n",
       "      <td>11</td>\n",
       "    </tr>\n",
       "    <tr>\n",
       "      <th>414</th>\n",
       "      <td>속초</td>\n",
       "      <td>2022-07-12</td>\n",
       "      <td>21.7</td>\n",
       "      <td>20.3</td>\n",
       "      <td>24.7</td>\n",
       "      <td>0.8</td>\n",
       "      <td>11</td>\n",
       "    </tr>\n",
       "    <tr>\n",
       "      <th>415</th>\n",
       "      <td>속초</td>\n",
       "      <td>2022-07-13</td>\n",
       "      <td>21.6</td>\n",
       "      <td>20.6</td>\n",
       "      <td>22.5</td>\n",
       "      <td>2.0</td>\n",
       "      <td>11</td>\n",
       "    </tr>\n",
       "    <tr>\n",
       "      <th>416</th>\n",
       "      <td>속초</td>\n",
       "      <td>2022-07-14</td>\n",
       "      <td>22.1</td>\n",
       "      <td>20.0</td>\n",
       "      <td>24.0</td>\n",
       "      <td>2.2</td>\n",
       "      <td>11</td>\n",
       "    </tr>\n",
       "    <tr>\n",
       "      <th>417</th>\n",
       "      <td>속초</td>\n",
       "      <td>2022-07-15</td>\n",
       "      <td>22.1</td>\n",
       "      <td>19.9</td>\n",
       "      <td>26.0</td>\n",
       "      <td>1.6</td>\n",
       "      <td>11</td>\n",
       "    </tr>\n",
       "    <tr>\n",
       "      <th>418</th>\n",
       "      <td>속초</td>\n",
       "      <td>2022-07-16</td>\n",
       "      <td>22.8</td>\n",
       "      <td>20.4</td>\n",
       "      <td>25.4</td>\n",
       "      <td>1.3</td>\n",
       "      <td>11</td>\n",
       "    </tr>\n",
       "    <tr>\n",
       "      <th>419</th>\n",
       "      <td>속초</td>\n",
       "      <td>2022-07-17</td>\n",
       "      <td>23.1</td>\n",
       "      <td>20.8</td>\n",
       "      <td>26.2</td>\n",
       "      <td>1.3</td>\n",
       "      <td>11</td>\n",
       "    </tr>\n",
       "    <tr>\n",
       "      <th>423</th>\n",
       "      <td>속초</td>\n",
       "      <td>2022-07-21</td>\n",
       "      <td>21.2</td>\n",
       "      <td>20.0</td>\n",
       "      <td>23.3</td>\n",
       "      <td>2.3</td>\n",
       "      <td>11</td>\n",
       "    </tr>\n",
       "    <tr>\n",
       "      <th>424</th>\n",
       "      <td>속초</td>\n",
       "      <td>2022-07-22</td>\n",
       "      <td>22.2</td>\n",
       "      <td>20.4</td>\n",
       "      <td>25.1</td>\n",
       "      <td>1.4</td>\n",
       "      <td>11</td>\n",
       "    </tr>\n",
       "    <tr>\n",
       "      <th>425</th>\n",
       "      <td>속초</td>\n",
       "      <td>2022-07-23</td>\n",
       "      <td>22.9</td>\n",
       "      <td>18.8</td>\n",
       "      <td>26.9</td>\n",
       "      <td>2.2</td>\n",
       "      <td>11</td>\n",
       "    </tr>\n",
       "    <tr>\n",
       "      <th>426</th>\n",
       "      <td>속초</td>\n",
       "      <td>2022-07-24</td>\n",
       "      <td>23.4</td>\n",
       "      <td>21.4</td>\n",
       "      <td>26.8</td>\n",
       "      <td>2.0</td>\n",
       "      <td>11</td>\n",
       "    </tr>\n",
       "    <tr>\n",
       "      <th>450</th>\n",
       "      <td>속초</td>\n",
       "      <td>2022-08-17</td>\n",
       "      <td>22.7</td>\n",
       "      <td>20.9</td>\n",
       "      <td>24.6</td>\n",
       "      <td>1.1</td>\n",
       "      <td>11</td>\n",
       "    </tr>\n",
       "    <tr>\n",
       "      <th>453</th>\n",
       "      <td>속초</td>\n",
       "      <td>2022-08-20</td>\n",
       "      <td>23.5</td>\n",
       "      <td>19.8</td>\n",
       "      <td>26.9</td>\n",
       "      <td>1.4</td>\n",
       "      <td>11</td>\n",
       "    </tr>\n",
       "    <tr>\n",
       "      <th>454</th>\n",
       "      <td>속초</td>\n",
       "      <td>2022-08-21</td>\n",
       "      <td>23.3</td>\n",
       "      <td>18.6</td>\n",
       "      <td>27.6</td>\n",
       "      <td>1.4</td>\n",
       "      <td>11</td>\n",
       "    </tr>\n",
       "    <tr>\n",
       "      <th>456</th>\n",
       "      <td>속초</td>\n",
       "      <td>2022-08-23</td>\n",
       "      <td>23.5</td>\n",
       "      <td>18.6</td>\n",
       "      <td>28.2</td>\n",
       "      <td>1.7</td>\n",
       "      <td>11</td>\n",
       "    </tr>\n",
       "    <tr>\n",
       "      <th>457</th>\n",
       "      <td>속초</td>\n",
       "      <td>2022-08-24</td>\n",
       "      <td>21.5</td>\n",
       "      <td>18.5</td>\n",
       "      <td>26.2</td>\n",
       "      <td>1.2</td>\n",
       "      <td>11</td>\n",
       "    </tr>\n",
       "    <tr>\n",
       "      <th>458</th>\n",
       "      <td>속초</td>\n",
       "      <td>2022-08-25</td>\n",
       "      <td>21.8</td>\n",
       "      <td>17.6</td>\n",
       "      <td>24.9</td>\n",
       "      <td>0.8</td>\n",
       "      <td>11</td>\n",
       "    </tr>\n",
       "    <tr>\n",
       "      <th>460</th>\n",
       "      <td>속초</td>\n",
       "      <td>2022-08-27</td>\n",
       "      <td>21.5</td>\n",
       "      <td>16.9</td>\n",
       "      <td>25.1</td>\n",
       "      <td>2.0</td>\n",
       "      <td>11</td>\n",
       "    </tr>\n",
       "    <tr>\n",
       "      <th>461</th>\n",
       "      <td>속초</td>\n",
       "      <td>2022-08-28</td>\n",
       "      <td>20.8</td>\n",
       "      <td>15.8</td>\n",
       "      <td>25.7</td>\n",
       "      <td>1.6</td>\n",
       "      <td>11</td>\n",
       "    </tr>\n",
       "    <tr>\n",
       "      <th>462</th>\n",
       "      <td>속초</td>\n",
       "      <td>2022-08-29</td>\n",
       "      <td>20.4</td>\n",
       "      <td>18.1</td>\n",
       "      <td>22.9</td>\n",
       "      <td>0.9</td>\n",
       "      <td>11</td>\n",
       "    </tr>\n",
       "    <tr>\n",
       "      <th>465</th>\n",
       "      <td>속초</td>\n",
       "      <td>2022-09-01</td>\n",
       "      <td>21.0</td>\n",
       "      <td>15.6</td>\n",
       "      <td>26.1</td>\n",
       "      <td>1.7</td>\n",
       "      <td>11</td>\n",
       "    </tr>\n",
       "    <tr>\n",
       "      <th>466</th>\n",
       "      <td>속초</td>\n",
       "      <td>2022-09-02</td>\n",
       "      <td>21.5</td>\n",
       "      <td>16.3</td>\n",
       "      <td>26.1</td>\n",
       "      <td>1.2</td>\n",
       "      <td>11</td>\n",
       "    </tr>\n",
       "    <tr>\n",
       "      <th>467</th>\n",
       "      <td>속초</td>\n",
       "      <td>2022-09-03</td>\n",
       "      <td>21.4</td>\n",
       "      <td>17.4</td>\n",
       "      <td>25.9</td>\n",
       "      <td>1.4</td>\n",
       "      <td>11</td>\n",
       "    </tr>\n",
       "    <tr>\n",
       "      <th>468</th>\n",
       "      <td>속초</td>\n",
       "      <td>2022-09-04</td>\n",
       "      <td>20.3</td>\n",
       "      <td>18.5</td>\n",
       "      <td>21.9</td>\n",
       "      <td>1.2</td>\n",
       "      <td>11</td>\n",
       "    </tr>\n",
       "    <tr>\n",
       "      <th>470</th>\n",
       "      <td>속초</td>\n",
       "      <td>2022-09-06</td>\n",
       "      <td>21.1</td>\n",
       "      <td>17.1</td>\n",
       "      <td>27.0</td>\n",
       "      <td>3.0</td>\n",
       "      <td>11</td>\n",
       "    </tr>\n",
       "    <tr>\n",
       "      <th>471</th>\n",
       "      <td>속초</td>\n",
       "      <td>2022-09-07</td>\n",
       "      <td>22.8</td>\n",
       "      <td>18.3</td>\n",
       "      <td>29.2</td>\n",
       "      <td>1.7</td>\n",
       "      <td>11</td>\n",
       "    </tr>\n",
       "    <tr>\n",
       "      <th>472</th>\n",
       "      <td>속초</td>\n",
       "      <td>2022-09-08</td>\n",
       "      <td>21.0</td>\n",
       "      <td>17.0</td>\n",
       "      <td>25.5</td>\n",
       "      <td>1.5</td>\n",
       "      <td>11</td>\n",
       "    </tr>\n",
       "    <tr>\n",
       "      <th>474</th>\n",
       "      <td>속초</td>\n",
       "      <td>2022-09-10</td>\n",
       "      <td>20.9</td>\n",
       "      <td>15.5</td>\n",
       "      <td>24.1</td>\n",
       "      <td>2.1</td>\n",
       "      <td>11</td>\n",
       "    </tr>\n",
       "    <tr>\n",
       "      <th>475</th>\n",
       "      <td>속초</td>\n",
       "      <td>2022-09-11</td>\n",
       "      <td>21.9</td>\n",
       "      <td>19.7</td>\n",
       "      <td>24.9</td>\n",
       "      <td>1.3</td>\n",
       "      <td>11</td>\n",
       "    </tr>\n",
       "    <tr>\n",
       "      <th>476</th>\n",
       "      <td>속초</td>\n",
       "      <td>2022-09-12</td>\n",
       "      <td>21.7</td>\n",
       "      <td>18.9</td>\n",
       "      <td>26.0</td>\n",
       "      <td>1.2</td>\n",
       "      <td>11</td>\n",
       "    </tr>\n",
       "    <tr>\n",
       "      <th>477</th>\n",
       "      <td>속초</td>\n",
       "      <td>2022-09-13</td>\n",
       "      <td>22.1</td>\n",
       "      <td>19.4</td>\n",
       "      <td>24.1</td>\n",
       "      <td>1.2</td>\n",
       "      <td>11</td>\n",
       "    </tr>\n",
       "    <tr>\n",
       "      <th>478</th>\n",
       "      <td>속초</td>\n",
       "      <td>2022-09-14</td>\n",
       "      <td>22.6</td>\n",
       "      <td>20.6</td>\n",
       "      <td>25.7</td>\n",
       "      <td>2.1</td>\n",
       "      <td>11</td>\n",
       "    </tr>\n",
       "    <tr>\n",
       "      <th>479</th>\n",
       "      <td>속초</td>\n",
       "      <td>2022-09-15</td>\n",
       "      <td>22.4</td>\n",
       "      <td>20.4</td>\n",
       "      <td>25.5</td>\n",
       "      <td>2.4</td>\n",
       "      <td>11</td>\n",
       "    </tr>\n",
       "    <tr>\n",
       "      <th>480</th>\n",
       "      <td>속초</td>\n",
       "      <td>2022-09-16</td>\n",
       "      <td>21.8</td>\n",
       "      <td>18.9</td>\n",
       "      <td>25.1</td>\n",
       "      <td>1.4</td>\n",
       "      <td>11</td>\n",
       "    </tr>\n",
       "    <tr>\n",
       "      <th>481</th>\n",
       "      <td>속초</td>\n",
       "      <td>2022-09-17</td>\n",
       "      <td>22.9</td>\n",
       "      <td>20.8</td>\n",
       "      <td>26.0</td>\n",
       "      <td>1.3</td>\n",
       "      <td>11</td>\n",
       "    </tr>\n",
       "    <tr>\n",
       "      <th>482</th>\n",
       "      <td>속초</td>\n",
       "      <td>2022-09-18</td>\n",
       "      <td>23.0</td>\n",
       "      <td>21.1</td>\n",
       "      <td>25.4</td>\n",
       "      <td>1.6</td>\n",
       "      <td>11</td>\n",
       "    </tr>\n",
       "    <tr>\n",
       "      <th>494</th>\n",
       "      <td>속초</td>\n",
       "      <td>2022-09-30</td>\n",
       "      <td>21.5</td>\n",
       "      <td>13.8</td>\n",
       "      <td>27.5</td>\n",
       "      <td>1.6</td>\n",
       "      <td>11</td>\n",
       "    </tr>\n",
       "    <tr>\n",
       "      <th>495</th>\n",
       "      <td>속초</td>\n",
       "      <td>2022-10-01</td>\n",
       "      <td>23.4</td>\n",
       "      <td>18.1</td>\n",
       "      <td>29.9</td>\n",
       "      <td>1.4</td>\n",
       "      <td>11</td>\n",
       "    </tr>\n",
       "  </tbody>\n",
       "</table>\n",
       "</div>"
      ],
      "text/plain": [
       "    지점명         일시  평균기온(°C)  최저기온(°C)  최고기온(°C)  평균 풍속(m/s)  label\n",
       "114  속초 2021-09-15      21.7      18.8      25.5         1.9     11\n",
       "115  속초 2021-09-16      20.7      17.3      25.2         1.3     11\n",
       "116  속초 2021-09-17      21.3      19.0      24.7         1.4     11\n",
       "117  속초 2021-09-18      21.2      18.6      24.6         1.6     11\n",
       "118  속초 2021-09-19      20.8      17.2      24.2         1.2     11\n",
       "119  속초 2021-09-20      21.4      16.8      26.4         1.9     11\n",
       "120  속초 2021-09-21      22.5      18.5      28.8         1.2     11\n",
       "121  속초 2021-09-22      22.8      20.3      26.5         2.6     11\n",
       "122  속초 2021-09-23      21.4      17.1      26.1         2.0     11\n",
       "132  속초 2021-10-03      22.3      16.9      27.4         1.4     11\n",
       "139  속초 2021-10-10      21.9      17.9      27.5         1.5     11\n",
       "393  속초 2022-06-21      22.2      20.0      26.3         1.5     11\n",
       "394  속초 2022-06-22      22.3      19.7      25.2         1.7     11\n",
       "395  속초 2022-06-23      21.3      20.1      22.9         1.2     11\n",
       "402  속초 2022-06-30      22.1      21.1      23.8         1.3     11\n",
       "413  속초 2022-07-11      22.8      21.1      26.8         1.8     11\n",
       "414  속초 2022-07-12      21.7      20.3      24.7         0.8     11\n",
       "415  속초 2022-07-13      21.6      20.6      22.5         2.0     11\n",
       "416  속초 2022-07-14      22.1      20.0      24.0         2.2     11\n",
       "417  속초 2022-07-15      22.1      19.9      26.0         1.6     11\n",
       "418  속초 2022-07-16      22.8      20.4      25.4         1.3     11\n",
       "419  속초 2022-07-17      23.1      20.8      26.2         1.3     11\n",
       "423  속초 2022-07-21      21.2      20.0      23.3         2.3     11\n",
       "424  속초 2022-07-22      22.2      20.4      25.1         1.4     11\n",
       "425  속초 2022-07-23      22.9      18.8      26.9         2.2     11\n",
       "426  속초 2022-07-24      23.4      21.4      26.8         2.0     11\n",
       "450  속초 2022-08-17      22.7      20.9      24.6         1.1     11\n",
       "453  속초 2022-08-20      23.5      19.8      26.9         1.4     11\n",
       "454  속초 2022-08-21      23.3      18.6      27.6         1.4     11\n",
       "456  속초 2022-08-23      23.5      18.6      28.2         1.7     11\n",
       "457  속초 2022-08-24      21.5      18.5      26.2         1.2     11\n",
       "458  속초 2022-08-25      21.8      17.6      24.9         0.8     11\n",
       "460  속초 2022-08-27      21.5      16.9      25.1         2.0     11\n",
       "461  속초 2022-08-28      20.8      15.8      25.7         1.6     11\n",
       "462  속초 2022-08-29      20.4      18.1      22.9         0.9     11\n",
       "465  속초 2022-09-01      21.0      15.6      26.1         1.7     11\n",
       "466  속초 2022-09-02      21.5      16.3      26.1         1.2     11\n",
       "467  속초 2022-09-03      21.4      17.4      25.9         1.4     11\n",
       "468  속초 2022-09-04      20.3      18.5      21.9         1.2     11\n",
       "470  속초 2022-09-06      21.1      17.1      27.0         3.0     11\n",
       "471  속초 2022-09-07      22.8      18.3      29.2         1.7     11\n",
       "472  속초 2022-09-08      21.0      17.0      25.5         1.5     11\n",
       "474  속초 2022-09-10      20.9      15.5      24.1         2.1     11\n",
       "475  속초 2022-09-11      21.9      19.7      24.9         1.3     11\n",
       "476  속초 2022-09-12      21.7      18.9      26.0         1.2     11\n",
       "477  속초 2022-09-13      22.1      19.4      24.1         1.2     11\n",
       "478  속초 2022-09-14      22.6      20.6      25.7         2.1     11\n",
       "479  속초 2022-09-15      22.4      20.4      25.5         2.4     11\n",
       "480  속초 2022-09-16      21.8      18.9      25.1         1.4     11\n",
       "481  속초 2022-09-17      22.9      20.8      26.0         1.3     11\n",
       "482  속초 2022-09-18      23.0      21.1      25.4         1.6     11\n",
       "494  속초 2022-09-30      21.5      13.8      27.5         1.6     11\n",
       "495  속초 2022-10-01      23.4      18.1      29.9         1.4     11"
      ]
     },
     "execution_count": 55,
     "metadata": {},
     "output_type": "execute_result"
    }
   ],
   "source": [
    "df_[(df_['label'] ==11) & (df_['지점명']=='속초')][30:]"
   ]
  },
  {
   "cell_type": "code",
   "execution_count": 357,
   "metadata": {
    "ExecuteTime": {
     "end_time": "2023-06-07T13:54:54.347924Z",
     "start_time": "2023-06-07T13:54:54.320753Z"
    }
   },
   "outputs": [
    {
     "data": {
      "text/html": [
       "<div>\n",
       "<style scoped>\n",
       "    .dataframe tbody tr th:only-of-type {\n",
       "        vertical-align: middle;\n",
       "    }\n",
       "\n",
       "    .dataframe tbody tr th {\n",
       "        vertical-align: top;\n",
       "    }\n",
       "\n",
       "    .dataframe thead th {\n",
       "        text-align: right;\n",
       "    }\n",
       "</style>\n",
       "<table border=\"1\" class=\"dataframe\">\n",
       "  <thead>\n",
       "    <tr style=\"text-align: right;\">\n",
       "      <th></th>\n",
       "      <th>지점명</th>\n",
       "      <th>일시</th>\n",
       "      <th>평균기온(°C)</th>\n",
       "      <th>최저기온(°C)</th>\n",
       "      <th>최고기온(°C)</th>\n",
       "      <th>평균 풍속(m/s)</th>\n",
       "      <th>체감 기온(°C)</th>\n",
       "      <th>sin</th>\n",
       "      <th>label</th>\n",
       "    </tr>\n",
       "  </thead>\n",
       "  <tbody>\n",
       "    <tr>\n",
       "      <th>33492</th>\n",
       "      <td>진주</td>\n",
       "      <td>2023-02-06</td>\n",
       "      <td>1.5</td>\n",
       "      <td>-7.7</td>\n",
       "      <td>10.8</td>\n",
       "      <td>0.4</td>\n",
       "      <td>4.746381</td>\n",
       "      <td>0.582185</td>\n",
       "      <td>1</td>\n",
       "    </tr>\n",
       "  </tbody>\n",
       "</table>\n",
       "</div>"
      ],
      "text/plain": [
       "      지점명         일시  평균기온(°C)  최저기온(°C)  최고기온(°C)  평균 풍속(m/s)  체감 기온(°C)  \\\n",
       "33492  진주 2023-02-06       1.5      -7.7      10.8         0.4   4.746381   \n",
       "\n",
       "            sin  label  \n",
       "33492  0.582185      1  "
      ]
     },
     "execution_count": 357,
     "metadata": {},
     "output_type": "execute_result"
    }
   ],
   "source": [
    "df_[(df_['일시']== '2023-02-06' ) & (df_['지점명']=='진주')].head(20)"
   ]
  },
  {
   "cell_type": "code",
   "execution_count": 352,
   "metadata": {
    "ExecuteTime": {
     "end_time": "2023-06-07T13:53:46.238359Z",
     "start_time": "2023-06-07T13:53:46.197996Z"
    }
   },
   "outputs": [
    {
     "data": {
      "text/html": [
       "<div>\n",
       "<style scoped>\n",
       "    .dataframe tbody tr th:only-of-type {\n",
       "        vertical-align: middle;\n",
       "    }\n",
       "\n",
       "    .dataframe tbody tr th {\n",
       "        vertical-align: top;\n",
       "    }\n",
       "\n",
       "    .dataframe thead th {\n",
       "        text-align: right;\n",
       "    }\n",
       "</style>\n",
       "<table border=\"1\" class=\"dataframe\">\n",
       "  <thead>\n",
       "    <tr style=\"text-align: right;\">\n",
       "      <th></th>\n",
       "      <th>지점명</th>\n",
       "      <th>일시</th>\n",
       "      <th>평균기온(°C)</th>\n",
       "      <th>최저기온(°C)</th>\n",
       "      <th>최고기온(°C)</th>\n",
       "      <th>평균 풍속(m/s)</th>\n",
       "      <th>체감 기온(°C)</th>\n",
       "      <th>sin</th>\n",
       "      <th>label</th>\n",
       "    </tr>\n",
       "  </thead>\n",
       "  <tbody>\n",
       "    <tr>\n",
       "      <th>33466</th>\n",
       "      <td>진주</td>\n",
       "      <td>2023-01-11</td>\n",
       "      <td>2.7</td>\n",
       "      <td>-4.9</td>\n",
       "      <td>14.1</td>\n",
       "      <td>0.3</td>\n",
       "      <td>6.303245</td>\n",
       "      <td>0.171759</td>\n",
       "      <td>9</td>\n",
       "    </tr>\n",
       "    <tr>\n",
       "      <th>33467</th>\n",
       "      <td>진주</td>\n",
       "      <td>2023-01-12</td>\n",
       "      <td>5.2</td>\n",
       "      <td>-5.0</td>\n",
       "      <td>15.3</td>\n",
       "      <td>0.4</td>\n",
       "      <td>8.312924</td>\n",
       "      <td>0.188738</td>\n",
       "      <td>9</td>\n",
       "    </tr>\n",
       "    <tr>\n",
       "      <th>33470</th>\n",
       "      <td>진주</td>\n",
       "      <td>2023-01-15</td>\n",
       "      <td>4.1</td>\n",
       "      <td>-1.3</td>\n",
       "      <td>7.3</td>\n",
       "      <td>0.8</td>\n",
       "      <td>6.265565</td>\n",
       "      <td>0.239316</td>\n",
       "      <td>9</td>\n",
       "    </tr>\n",
       "    <tr>\n",
       "      <th>33487</th>\n",
       "      <td>진주</td>\n",
       "      <td>2023-02-01</td>\n",
       "      <td>4.8</td>\n",
       "      <td>-2.5</td>\n",
       "      <td>15.1</td>\n",
       "      <td>1.4</td>\n",
       "      <td>6.112781</td>\n",
       "      <td>0.509933</td>\n",
       "      <td>9</td>\n",
       "    </tr>\n",
       "    <tr>\n",
       "      <th>33493</th>\n",
       "      <td>진주</td>\n",
       "      <td>2023-02-07</td>\n",
       "      <td>4.1</td>\n",
       "      <td>-4.7</td>\n",
       "      <td>15.2</td>\n",
       "      <td>0.5</td>\n",
       "      <td>6.946712</td>\n",
       "      <td>0.596132</td>\n",
       "      <td>9</td>\n",
       "    </tr>\n",
       "    <tr>\n",
       "      <th>33494</th>\n",
       "      <td>진주</td>\n",
       "      <td>2023-02-08</td>\n",
       "      <td>4.4</td>\n",
       "      <td>-4.2</td>\n",
       "      <td>13.8</td>\n",
       "      <td>0.8</td>\n",
       "      <td>6.566793</td>\n",
       "      <td>0.609902</td>\n",
       "      <td>9</td>\n",
       "    </tr>\n",
       "    <tr>\n",
       "      <th>33495</th>\n",
       "      <td>진주</td>\n",
       "      <td>2023-02-09</td>\n",
       "      <td>4.4</td>\n",
       "      <td>-3.7</td>\n",
       "      <td>11.3</td>\n",
       "      <td>1.2</td>\n",
       "      <td>5.944278</td>\n",
       "      <td>0.62349</td>\n",
       "      <td>9</td>\n",
       "    </tr>\n",
       "    <tr>\n",
       "      <th>33497</th>\n",
       "      <td>진주</td>\n",
       "      <td>2023-02-11</td>\n",
       "      <td>2.9</td>\n",
       "      <td>-3.0</td>\n",
       "      <td>10.0</td>\n",
       "      <td>0.4</td>\n",
       "      <td>6.095884</td>\n",
       "      <td>0.650104</td>\n",
       "      <td>9</td>\n",
       "    </tr>\n",
       "    <tr>\n",
       "      <th>33498</th>\n",
       "      <td>진주</td>\n",
       "      <td>2023-02-12</td>\n",
       "      <td>3.5</td>\n",
       "      <td>-3.2</td>\n",
       "      <td>9.1</td>\n",
       "      <td>0.3</td>\n",
       "      <td>7.062066</td>\n",
       "      <td>0.663123</td>\n",
       "      <td>9</td>\n",
       "    </tr>\n",
       "    <tr>\n",
       "      <th>33499</th>\n",
       "      <td>진주</td>\n",
       "      <td>2023-02-13</td>\n",
       "      <td>7.3</td>\n",
       "      <td>4.5</td>\n",
       "      <td>10.2</td>\n",
       "      <td>1.2</td>\n",
       "      <td>8.930514</td>\n",
       "      <td>0.675944</td>\n",
       "      <td>9</td>\n",
       "    </tr>\n",
       "    <tr>\n",
       "      <th>33500</th>\n",
       "      <td>진주</td>\n",
       "      <td>2023-02-14</td>\n",
       "      <td>5.8</td>\n",
       "      <td>-0.7</td>\n",
       "      <td>11.5</td>\n",
       "      <td>0.8</td>\n",
       "      <td>7.972524</td>\n",
       "      <td>0.688563</td>\n",
       "      <td>9</td>\n",
       "    </tr>\n",
       "    <tr>\n",
       "      <th>33502</th>\n",
       "      <td>진주</td>\n",
       "      <td>2023-02-16</td>\n",
       "      <td>4.4</td>\n",
       "      <td>-0.9</td>\n",
       "      <td>8.8</td>\n",
       "      <td>0.7</td>\n",
       "      <td>6.763122</td>\n",
       "      <td>0.713183</td>\n",
       "      <td>9</td>\n",
       "    </tr>\n",
       "    <tr>\n",
       "      <th>33503</th>\n",
       "      <td>진주</td>\n",
       "      <td>2023-02-17</td>\n",
       "      <td>3.7</td>\n",
       "      <td>-2.5</td>\n",
       "      <td>9.1</td>\n",
       "      <td>0.3</td>\n",
       "      <td>7.251771</td>\n",
       "      <td>0.725176</td>\n",
       "      <td>9</td>\n",
       "    </tr>\n",
       "    <tr>\n",
       "      <th>33505</th>\n",
       "      <td>진주</td>\n",
       "      <td>2023-02-19</td>\n",
       "      <td>7.7</td>\n",
       "      <td>2.5</td>\n",
       "      <td>12.1</td>\n",
       "      <td>2.0</td>\n",
       "      <td>8.613129</td>\n",
       "      <td>0.748511</td>\n",
       "      <td>9</td>\n",
       "    </tr>\n",
       "    <tr>\n",
       "      <th>33510</th>\n",
       "      <td>진주</td>\n",
       "      <td>2023-02-24</td>\n",
       "      <td>7.4</td>\n",
       "      <td>1.2</td>\n",
       "      <td>14.8</td>\n",
       "      <td>1.3</td>\n",
       "      <td>8.921538</td>\n",
       "      <td>0.802886</td>\n",
       "      <td>9</td>\n",
       "    </tr>\n",
       "    <tr>\n",
       "      <th>33513</th>\n",
       "      <td>진주</td>\n",
       "      <td>2023-02-27</td>\n",
       "      <td>3.8</td>\n",
       "      <td>-6.2</td>\n",
       "      <td>15.0</td>\n",
       "      <td>0.8</td>\n",
       "      <td>5.964337</td>\n",
       "      <td>0.832666</td>\n",
       "      <td>9</td>\n",
       "    </tr>\n",
       "    <tr>\n",
       "      <th>33514</th>\n",
       "      <td>진주</td>\n",
       "      <td>2023-02-28</td>\n",
       "      <td>7.2</td>\n",
       "      <td>-4.5</td>\n",
       "      <td>16.0</td>\n",
       "      <td>0.9</td>\n",
       "      <td>9.221943</td>\n",
       "      <td>0.842101</td>\n",
       "      <td>9</td>\n",
       "    </tr>\n",
       "    <tr>\n",
       "      <th>33517</th>\n",
       "      <td>진주</td>\n",
       "      <td>2023-03-03</td>\n",
       "      <td>4.0</td>\n",
       "      <td>-5.7</td>\n",
       "      <td>14.0</td>\n",
       "      <td>0.9</td>\n",
       "      <td>5.985553</td>\n",
       "      <td>0.868888</td>\n",
       "      <td>9</td>\n",
       "    </tr>\n",
       "    <tr>\n",
       "      <th>33518</th>\n",
       "      <td>진주</td>\n",
       "      <td>2023-03-04</td>\n",
       "      <td>5.9</td>\n",
       "      <td>-2.9</td>\n",
       "      <td>16.8</td>\n",
       "      <td>0.7</td>\n",
       "      <td>8.257132</td>\n",
       "      <td>0.877303</td>\n",
       "      <td>9</td>\n",
       "    </tr>\n",
       "    <tr>\n",
       "      <th>33528</th>\n",
       "      <td>진주</td>\n",
       "      <td>2023-03-14</td>\n",
       "      <td>7.1</td>\n",
       "      <td>-1.9</td>\n",
       "      <td>15.6</td>\n",
       "      <td>1.0</td>\n",
       "      <td>8.977800</td>\n",
       "      <td>0.946699</td>\n",
       "      <td>9</td>\n",
       "    </tr>\n",
       "  </tbody>\n",
       "</table>\n",
       "</div>"
      ],
      "text/plain": [
       "      지점명         일시  평균기온(°C)  최저기온(°C)  최고기온(°C)  평균 풍속(m/s)  체감 기온(°C)  \\\n",
       "33466  진주 2023-01-11       2.7      -4.9      14.1         0.3   6.303245   \n",
       "33467  진주 2023-01-12       5.2      -5.0      15.3         0.4   8.312924   \n",
       "33470  진주 2023-01-15       4.1      -1.3       7.3         0.8   6.265565   \n",
       "33487  진주 2023-02-01       4.8      -2.5      15.1         1.4   6.112781   \n",
       "33493  진주 2023-02-07       4.1      -4.7      15.2         0.5   6.946712   \n",
       "33494  진주 2023-02-08       4.4      -4.2      13.8         0.8   6.566793   \n",
       "33495  진주 2023-02-09       4.4      -3.7      11.3         1.2   5.944278   \n",
       "33497  진주 2023-02-11       2.9      -3.0      10.0         0.4   6.095884   \n",
       "33498  진주 2023-02-12       3.5      -3.2       9.1         0.3   7.062066   \n",
       "33499  진주 2023-02-13       7.3       4.5      10.2         1.2   8.930514   \n",
       "33500  진주 2023-02-14       5.8      -0.7      11.5         0.8   7.972524   \n",
       "33502  진주 2023-02-16       4.4      -0.9       8.8         0.7   6.763122   \n",
       "33503  진주 2023-02-17       3.7      -2.5       9.1         0.3   7.251771   \n",
       "33505  진주 2023-02-19       7.7       2.5      12.1         2.0   8.613129   \n",
       "33510  진주 2023-02-24       7.4       1.2      14.8         1.3   8.921538   \n",
       "33513  진주 2023-02-27       3.8      -6.2      15.0         0.8   5.964337   \n",
       "33514  진주 2023-02-28       7.2      -4.5      16.0         0.9   9.221943   \n",
       "33517  진주 2023-03-03       4.0      -5.7      14.0         0.9   5.985553   \n",
       "33518  진주 2023-03-04       5.9      -2.9      16.8         0.7   8.257132   \n",
       "33528  진주 2023-03-14       7.1      -1.9      15.6         1.0   8.977800   \n",
       "\n",
       "            sin  label  \n",
       "33466  0.171759      9  \n",
       "33467  0.188738      9  \n",
       "33470  0.239316      9  \n",
       "33487  0.509933      9  \n",
       "33493  0.596132      9  \n",
       "33494  0.609902      9  \n",
       "33495   0.62349      9  \n",
       "33497  0.650104      9  \n",
       "33498  0.663123      9  \n",
       "33499  0.675944      9  \n",
       "33500  0.688563      9  \n",
       "33502  0.713183      9  \n",
       "33503  0.725176      9  \n",
       "33505  0.748511      9  \n",
       "33510  0.802886      9  \n",
       "33513  0.832666      9  \n",
       "33514  0.842101      9  \n",
       "33517  0.868888      9  \n",
       "33518  0.877303      9  \n",
       "33528  0.946699      9  "
      ]
     },
     "execution_count": 352,
     "metadata": {},
     "output_type": "execute_result"
    }
   ],
   "source": [
    "df_[(df_['label']== 9) &(df_['지점명']=='진주')].tail(20)"
   ]
  },
  {
   "cell_type": "code",
   "execution_count": null,
   "metadata": {
    "id": "nAPgq4zGhXy6"
   },
   "outputs": [],
   "source": [
    "import numpy as np\n",
    "import matplotlib.pyplot as plt\n",
    "from sklearn.mixture import GaussianMixture\n",
    "\n",
    "# 데이터 준비\n",
    "\n",
    "# 클러스터의 개수(k) 범위 설정\n",
    "k_values = range(8, 20)\n",
    "bic_values = []\n",
    "\n",
    "# k 값에 따른 BIC 계산\n",
    "for k in k_values:\n",
    "    gmm = GaussianMixture(n_components=k, random_state=42)\n",
    "    gmm.fit(X)\n",
    "    bic_values.append(gmm.bic(X))\n",
    "\n",
    "# BIC 그래프 그리기\n",
    "plt.plot(k_values, bic_values, 'bx-')\n",
    "plt.xlabel('Number of Components (k)')\n",
    "plt.ylabel('BIC')\n",
    "plt.title('BIC Method')\n",
    "plt.show()"
   ]
  }
 ],
 "metadata": {
  "accelerator": "GPU",
  "colab": {
   "authorship_tag": "ABX9TyP5PA9Luo7IQrf3G2quLPWZ",
   "gpuType": "T4",
   "mount_file_id": "1sRfWbCBgZvmDXMn9AKrJUSOG9B2JFU4L",
   "provenance": []
  },
  "kernelspec": {
   "display_name": "Python 3 (ipykernel)",
   "language": "python",
   "name": "python3"
  },
  "language_info": {
   "codemirror_mode": {
    "name": "ipython",
    "version": 3
   },
   "file_extension": ".py",
   "mimetype": "text/x-python",
   "name": "python",
   "nbconvert_exporter": "python",
   "pygments_lexer": "ipython3",
   "version": "3.9.15"
  },
  "toc": {
   "base_numbering": 1,
   "nav_menu": {},
   "number_sections": true,
   "sideBar": true,
   "skip_h1_title": false,
   "title_cell": "Table of Contents",
   "title_sidebar": "Contents",
   "toc_cell": false,
   "toc_position": {},
   "toc_section_display": true,
   "toc_window_display": false
  },
  "varInspector": {
   "cols": {
    "lenName": 16,
    "lenType": 16,
    "lenVar": 40
   },
   "kernels_config": {
    "python": {
     "delete_cmd_postfix": "",
     "delete_cmd_prefix": "del ",
     "library": "var_list.py",
     "varRefreshCmd": "print(var_dic_list())"
    },
    "r": {
     "delete_cmd_postfix": ") ",
     "delete_cmd_prefix": "rm(",
     "library": "var_list.r",
     "varRefreshCmd": "cat(var_dic_list()) "
    }
   },
   "types_to_exclude": [
    "module",
    "function",
    "builtin_function_or_method",
    "instance",
    "_Feature"
   ],
   "window_display": false
  }
 },
 "nbformat": 4,
 "nbformat_minor": 1
}
