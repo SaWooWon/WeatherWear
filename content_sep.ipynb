{
 "cells": [
  {
   "cell_type": "code",
   "execution_count": 1,
   "id": "80f3a957",
   "metadata": {
    "ExecuteTime": {
     "end_time": "2023-06-08T04:59:00.388575Z",
     "start_time": "2023-06-08T04:59:00.382895Z"
    }
   },
   "outputs": [],
   "source": [
    "import os\n",
    "import shutil"
   ]
  },
  {
   "cell_type": "code",
   "execution_count": 2,
   "id": "47f09988",
   "metadata": {
    "ExecuteTime": {
     "end_time": "2023-06-08T04:59:07.894207Z",
     "start_time": "2023-06-08T04:59:01.320577Z"
    }
   },
   "outputs": [],
   "source": [
    "img_path_tr = '/root/content/train/images/'\n",
    "img_path_va = '/root/content/valid/images/'\n",
    "img_path_te = '/root/content/test/images/'\n",
    "\n",
    "lab_path_tr = '/root/content/train/labels/'\n",
    "lab_path_va = '/root/content/valid/labels/'\n",
    "lab_path_te = '/root/content/test/labels/'\n",
    "\n",
    "img_lst_tr = os.listdir(img_path_tr)\n",
    "img_lst_va = os.listdir(img_path_va)\n",
    "img_lst_te = os.listdir(img_path_te)\n",
    "\n",
    "lab_lst_tr = os.listdir(lab_path_tr)\n",
    "lab_lst_va = os.listdir(lab_path_va)\n",
    "lab_lst_te = os.listdir(lab_path_te)"
   ]
  },
  {
   "cell_type": "code",
   "execution_count": 5,
   "id": "b3be1328",
   "metadata": {
    "ExecuteTime": {
     "end_time": "2023-06-07T01:04:31.456544Z",
     "start_time": "2023-06-07T01:04:29.962000Z"
    }
   },
   "outputs": [],
   "source": [
    "   for i in img_lst_tr[:7000]:\n",
    "        shutil.copy(img_path_tr + i, f'/root/content1/train/images/{i}')\n",
    "    for j in img_lst_va[:3000]:\n",
    "        shutil.copy(img_path_va + j, f'/root/content1/valid/images/{j}')\n",
    "    for k in img_lst_te[:900]:\n",
    "        shutil.copy(lab_path_te + k, f'/root/content1/test/images/{k}')\n",
    "except:\n",
    "    pass"
   ]
  },
  {
   "cell_type": "code",
   "execution_count": 19,
   "id": "80551b2f",
   "metadata": {
    "ExecuteTime": {
     "end_time": "2023-06-07T01:46:09.254993Z",
     "start_time": "2023-06-07T01:26:04.060325Z"
    }
   },
   "outputs": [],
   "source": [
    "for i in lab_lst_tr:\n",
    "    if f'{i[:-4]}.jpg' in os.listdir('/root/content1/train/images/'):\n",
    "        shutil.copy(lab_path_tr + i, f'/root/content1/train/labels/{i}')\n",
    "for j in lab_lst_va:\n",
    "    if f'{j[:-4]}.jpg' in os.listdir('/root/content1/valid/images/'):\n",
    "        shutil.copy(lab_path_va + j, f'/root/content1/valid/labels/{j}')\n",
    "for k in lab_lst_te:\n",
    "    if f'{k[:-4]}.jpg' in os.listdir('/root/content1/test/images/'):\n",
    "        shutil.copy(lab_path_te + k, f'/root/content1/test/labels/{k}')"
   ]
  },
  {
   "cell_type": "code",
   "execution_count": 22,
   "id": "b0670d90",
   "metadata": {
    "ExecuteTime": {
     "end_time": "2023-06-07T01:51:45.670428Z",
     "start_time": "2023-06-07T01:51:41.860954Z"
    }
   },
   "outputs": [],
   "source": [
    "for i in img_lst_tr[:35000]:\n",
    "    shutil.copy(img_path_tr + i, f'/root/content5/train/images/{i}')\n",
    "for j in img_lst_va[:15000]:\n",
    "    shutil.copy(img_path_va + j, f'/root/content5/valid/images/{j}')\n",
    "for k in img_lst_te[:4500]:\n",
    "    shutil.copy(img_path_te + k, f'/root/content5/test/images/{k}')"
   ]
  },
  {
   "cell_type": "code",
   "execution_count": 23,
   "id": "07f7acff",
   "metadata": {
    "ExecuteTime": {
     "end_time": "2023-06-07T03:35:19.184878Z",
     "start_time": "2023-06-07T01:51:51.683755Z"
    }
   },
   "outputs": [],
   "source": [
    "for i in lab_lst_tr:\n",
    "    if f'{i[:-4]}.jpg' in os.listdir('/root/content5/train/images/'):\n",
    "        shutil.copy(lab_path_tr + i, f'/root/content5/train/labels/{i}')\n",
    "for j in lab_lst_va:\n",
    "    if f'{j[:-4]}.jpg' in os.listdir('/root/content5/valid/images/'):\n",
    "        shutil.copy(lab_path_va + j, f'/root/content5/valid/labels/{j}')\n",
    "for k in lab_lst_te:\n",
    "    if f'{k[:-4]}.jpg' in os.listdir('/root/content5/test/images/'):\n",
    "        shutil.copy(lab_path_te + k, f'/root/content5/test/labels/{k}')"
   ]
  },
  {
   "cell_type": "code",
   "execution_count": 24,
   "id": "2b5155e8",
   "metadata": {
    "ExecuteTime": {
     "end_time": "2023-06-07T03:36:16.732394Z",
     "start_time": "2023-06-07T03:35:19.186922Z"
    }
   },
   "outputs": [],
   "source": [
    "for i in img_lst_tr[:70000]:\n",
    "    shutil.copy(img_path_tr + i, f'/root/content10/train/images/{i}')    \n",
    "for j in img_lst_va[:30000]:\n",
    "    shutil.copy(img_path_va + j, f'/root/content10/valid/images/{j}')\n",
    "for k in img_lst_te[:9000]:\n",
    "    shutil.copy(img_path_te + k, f'/root/content10/test/images/{k}')"
   ]
  },
  {
   "cell_type": "code",
   "execution_count": 3,
   "id": "9f38bd12",
   "metadata": {
    "ExecuteTime": {
     "end_time": "2023-06-08T06:01:34.564727Z",
     "start_time": "2023-06-08T04:59:09.982312Z"
    }
   },
   "outputs": [
    {
     "ename": "KeyboardInterrupt",
     "evalue": "",
     "output_type": "error",
     "traceback": [
      "\u001b[0;31m---------------------------------------------------------------------------\u001b[0m",
      "\u001b[0;31mKeyboardInterrupt\u001b[0m                         Traceback (most recent call last)",
      "Cell \u001b[0;32mIn[3], line 2\u001b[0m\n\u001b[1;32m      1\u001b[0m \u001b[38;5;28;01mfor\u001b[39;00m i \u001b[38;5;129;01min\u001b[39;00m lab_lst_tr:\n\u001b[0;32m----> 2\u001b[0m     \u001b[38;5;28;01mif\u001b[39;00m \u001b[38;5;124mf\u001b[39m\u001b[38;5;124m'\u001b[39m\u001b[38;5;132;01m{\u001b[39;00mi[:\u001b[38;5;241m-\u001b[39m\u001b[38;5;241m4\u001b[39m]\u001b[38;5;132;01m}\u001b[39;00m\u001b[38;5;124m.jpg\u001b[39m\u001b[38;5;124m'\u001b[39m \u001b[38;5;129;01min\u001b[39;00m \u001b[43mos\u001b[49m\u001b[38;5;241;43m.\u001b[39;49m\u001b[43mlistdir\u001b[49m\u001b[43m(\u001b[49m\u001b[38;5;124;43m'\u001b[39;49m\u001b[38;5;124;43m/root/content10/train/images/\u001b[39;49m\u001b[38;5;124;43m'\u001b[39;49m\u001b[43m)\u001b[49m:\n\u001b[1;32m      3\u001b[0m         shutil\u001b[38;5;241m.\u001b[39mcopy(lab_path_tr \u001b[38;5;241m+\u001b[39m i, \u001b[38;5;124mf\u001b[39m\u001b[38;5;124m'\u001b[39m\u001b[38;5;124m/root/content10/train/labels/\u001b[39m\u001b[38;5;132;01m{\u001b[39;00mi\u001b[38;5;132;01m}\u001b[39;00m\u001b[38;5;124m'\u001b[39m)\n\u001b[1;32m      4\u001b[0m \u001b[38;5;28;01mfor\u001b[39;00m j \u001b[38;5;129;01min\u001b[39;00m lab_lst_va:\n",
      "\u001b[0;31mKeyboardInterrupt\u001b[0m: "
     ]
    }
   ],
   "source": [
    "for i in lab_lst_tr:\n",
    "    if f'{i[:-4]}.jpg' in os.listdir('/root/content10/train/images/'):\n",
    "        shutil.copy(lab_path_tr + i, f'/root/content10/train/labels/{i}')\n",
    "for j in lab_lst_va:\n",
    "    if f'{j[:-4]}.jpg' in os.listdir('/root/content10/valid/images/'):\n",
    "        shutil.copy(lab_path_va + j, f'/root/content10/valid/labels/{j}')\n",
    "for k in lab_lst_te:\n",
    "    if f'{k[:-4]}.jpg' in os.listdir('/root/content10/test/images/'):\n",
    "        shutil.copy(lab_path_te + k, f'/root/content10/test/labels/{k}')"
   ]
  }
 ],
 "metadata": {
  "kernelspec": {
   "display_name": "Python 3 (ipykernel)",
   "language": "python",
   "name": "python3"
  },
  "language_info": {
   "codemirror_mode": {
    "name": "ipython",
    "version": 3
   },
   "file_extension": ".py",
   "mimetype": "text/x-python",
   "name": "python",
   "nbconvert_exporter": "python",
   "pygments_lexer": "ipython3",
   "version": "3.8.16"
  }
 },
 "nbformat": 4,
 "nbformat_minor": 5
}
